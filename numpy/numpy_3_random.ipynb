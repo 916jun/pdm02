{
  "nbformat": 4,
  "nbformat_minor": 0,
  "metadata": {
    "colab": {
      "name": "numpy_3_random.ipynb",
      "provenance": [],
      "collapsed_sections": [],
      "include_colab_link": true
    },
    "kernelspec": {
      "name": "python3",
      "display_name": "Python 3"
    }
  },
  "cells": [
    {
      "cell_type": "markdown",
      "metadata": {
        "id": "view-in-github",
        "colab_type": "text"
      },
      "source": [
        "<a href=\"https://colab.research.google.com/github/916jun/pdm02/blob/main/numpy/numpy_3_random.ipynb\" target=\"_parent\"><img src=\"https://colab.research.google.com/assets/colab-badge.svg\" alt=\"Open In Colab\"/></a>"
      ]
    },
    {
      "cell_type": "markdown",
      "metadata": {
        "id": "_zrirXHfgmyY"
      },
      "source": [
        "# numpy\n",
        "## random 서브모듈\n",
        "> [데이터싸이언스 스쿨:난수발생](https://datascienceschool.net/01%20python/03.05%20%EB%82%9C%EC%88%98%20%EB%B0%9C%EC%83%9D%EA%B3%BC%20%EC%B9%B4%EC%9A%B4%ED%8C%85.html)"
      ]
    },
    {
      "cell_type": "code",
      "metadata": {
        "id": "kQbzzSMZG2PX"
      },
      "source": [
        "import numpy as np"
      ],
      "execution_count": 2,
      "outputs": []
    },
    {
      "cell_type": "markdown",
      "metadata": {
        "id": "1Ry0YHkNFis5"
      },
      "source": [
        "## 난수 생성\n",
        "> NumPy의 random 서브모듈은 난수를 생성하는 다양한 명령을 제공.\n",
        "\n",
        "- rand: 0부터 1사이의 균일 분포 (uniform distribution)\n",
        "- randn: 가우시안 표준 정규 분포 (normal distribution, Gaussian)\n",
        "- randint: 균일 분포의 정수 난수 (uniform int)\n",
        "\n",
        "> randn()은 평균 0, 표준편차 1 인 가우시안 정규분포를 생성."
      ]
    },
    {
      "cell_type": "markdown",
      "metadata": {
        "id": "CtO1VxvurziR"
      },
      "source": [
        "### rand: 0부터 1사이의 균일 분포 (uniform distribution)"
      ]
    },
    {
      "cell_type": "code",
      "metadata": {
        "id": "LA1oF6aEG7kJ",
        "colab": {
          "base_uri": "https://localhost:8080/"
        },
        "outputId": "b21d66e2-60fd-4ada-bc0b-ad94a76814cb"
      },
      "source": [
        "np.random.rand(5)"
      ],
      "execution_count": 3,
      "outputs": [
        {
          "output_type": "execute_result",
          "data": {
            "text/plain": [
              "array([0.42627785, 0.63082105, 0.35129969, 0.41033952, 0.31504189])"
            ]
          },
          "metadata": {},
          "execution_count": 3
        }
      ]
    },
    {
      "cell_type": "code",
      "metadata": {
        "id": "H6f4ix3NHCyR",
        "colab": {
          "base_uri": "https://localhost:8080/"
        },
        "outputId": "a3f511ed-99e6-4384-8b92-b5bdf1b9dff6"
      },
      "source": [
        "np.random.rand(5)"
      ],
      "execution_count": 4,
      "outputs": [
        {
          "output_type": "execute_result",
          "data": {
            "text/plain": [
              "array([0.47029773, 0.11249195, 0.91307747, 0.17482111, 0.17662397])"
            ]
          },
          "metadata": {},
          "execution_count": 4
        }
      ]
    },
    {
      "cell_type": "markdown",
      "metadata": {
        "id": "c88F6gf8r4K2"
      },
      "source": [
        "### randn: 가우시안 표준 정규 분포 (normal distribution, Gaussian)"
      ]
    },
    {
      "cell_type": "code",
      "metadata": {
        "id": "rtVfCL-uP2Tw",
        "colab": {
          "base_uri": "https://localhost:8080/"
        },
        "outputId": "f1f6762b-0c85-4869-8ac4-1280eb5e521a"
      },
      "source": [
        "np.random.randn(5)"
      ],
      "execution_count": 5,
      "outputs": [
        {
          "output_type": "execute_result",
          "data": {
            "text/plain": [
              "array([-0.87642205,  1.30255192,  2.52408757,  2.05643161, -0.0283955 ])"
            ]
          },
          "metadata": {},
          "execution_count": 5
        }
      ]
    },
    {
      "cell_type": "code",
      "metadata": {
        "colab": {
          "base_uri": "https://localhost:8080/"
        },
        "id": "NzSesvhT1XOg",
        "outputId": "d786f9a9-a71a-418d-8ddc-5dc6ee131ad7"
      },
      "source": [
        "np.random.randn(5)"
      ],
      "execution_count": 6,
      "outputs": [
        {
          "output_type": "execute_result",
          "data": {
            "text/plain": [
              "array([ 0.58530068, -0.46299058, -0.4830779 ,  0.36707862,  1.63337192])"
            ]
          },
          "metadata": {},
          "execution_count": 6
        }
      ]
    },
    {
      "cell_type": "markdown",
      "metadata": {
        "id": "wsvTzTFSsBSJ"
      },
      "source": [
        "### randint: 균일 분포의 정수 난수 (uniform int)\n",
        "- numpy.random.randint(low, high=None, size=None, dtype='l')"
      ]
    },
    {
      "cell_type": "code",
      "metadata": {
        "id": "WSvAH8uVs2Vb",
        "colab": {
          "base_uri": "https://localhost:8080/"
        },
        "outputId": "61a58d0b-b298-4dd9-c04b-d97dfa546ce6"
      },
      "source": [
        "np.random.randint(5)  #low 최솟값 high 최댓값 옆 코드의 5는 최댓값을 의미하여 0도 나온다."
      ],
      "execution_count": 7,
      "outputs": [
        {
          "output_type": "execute_result",
          "data": {
            "text/plain": [
              "3"
            ]
          },
          "metadata": {},
          "execution_count": 7
        }
      ]
    },
    {
      "cell_type": "code",
      "metadata": {
        "colab": {
          "base_uri": "https://localhost:8080/"
        },
        "id": "dLEdnNaY2C6m",
        "outputId": "f378f130-1fc0-4e9a-a348-50ac7dbfaa2a"
      },
      "source": [
        "die = np.random.randint(1,7)\n",
        "die"
      ],
      "execution_count": 8,
      "outputs": [
        {
          "output_type": "execute_result",
          "data": {
            "text/plain": [
              "4"
            ]
          },
          "metadata": {},
          "execution_count": 8
        }
      ]
    },
    {
      "cell_type": "code",
      "metadata": {
        "id": "McWHW15uQDPr",
        "colab": {
          "base_uri": "https://localhost:8080/"
        },
        "outputId": "1bfdb478-5077-44cb-9f5c-9d5a6df3ae12"
      },
      "source": [
        "np.random.randint(5,9) "
      ],
      "execution_count": 9,
      "outputs": [
        {
          "output_type": "execute_result",
          "data": {
            "text/plain": [
              "5"
            ]
          },
          "metadata": {},
          "execution_count": 9
        }
      ]
    },
    {
      "cell_type": "code",
      "metadata": {
        "id": "oBsWu9FmQQSC",
        "colab": {
          "base_uri": "https://localhost:8080/"
        },
        "outputId": "144f698d-eb66-490a-da63-03e8d6c1dd97"
      },
      "source": [
        "np.random.randint(0,10,5)  # 0~9까지 수가 5개나온다, 중복도 된다."
      ],
      "execution_count": 10,
      "outputs": [
        {
          "output_type": "execute_result",
          "data": {
            "text/plain": [
              "array([5, 7, 4, 5, 0])"
            ]
          },
          "metadata": {},
          "execution_count": 10
        }
      ]
    },
    {
      "cell_type": "code",
      "metadata": {
        "id": "0kNuJxjaQYEu",
        "colab": {
          "base_uri": "https://localhost:8080/"
        },
        "outputId": "7fb3ef7e-d863-4777-ddd5-70f50860ce9b"
      },
      "source": [
        "np.random.randint(0,10,5)"
      ],
      "execution_count": 11,
      "outputs": [
        {
          "output_type": "execute_result",
          "data": {
            "text/plain": [
              "array([3, 1, 3, 3, 9])"
            ]
          },
          "metadata": {},
          "execution_count": 11
        }
      ]
    },
    {
      "cell_type": "markdown",
      "metadata": {
        "id": "K58DiNYUmANL"
      },
      "source": [
        "---"
      ]
    },
    {
      "cell_type": "markdown",
      "metadata": {
        "id": "xU5NWjQ3F_ld"
      },
      "source": [
        "## 난수 생성 seed 설정\n",
        "- numpy.random.seed(seed=None)\n",
        "- np.random.seed(number)"
      ]
    },
    {
      "cell_type": "code",
      "metadata": {
        "id": "AxUeYmQSQawG"
      },
      "source": [
        "np.random.seed()  "
      ],
      "execution_count": 12,
      "outputs": []
    },
    {
      "cell_type": "code",
      "metadata": {
        "id": "C33YjKqvRJ33",
        "colab": {
          "base_uri": "https://localhost:8080/"
        },
        "outputId": "79074fe5-573b-4efd-8c73-eb146ffdcb32"
      },
      "source": [
        "np.random.rand(5)"
      ],
      "execution_count": 13,
      "outputs": [
        {
          "output_type": "execute_result",
          "data": {
            "text/plain": [
              "array([0.44539245, 0.27204347, 0.75055379, 0.0405242 , 0.85183372])"
            ]
          },
          "metadata": {},
          "execution_count": 13
        }
      ]
    },
    {
      "cell_type": "code",
      "metadata": {
        "id": "Ne8rIyN9RO81",
        "colab": {
          "base_uri": "https://localhost:8080/"
        },
        "outputId": "9ca92885-be69-4754-f92b-e8457f16113b"
      },
      "source": [
        "np.random.rand(5)"
      ],
      "execution_count": 14,
      "outputs": [
        {
          "output_type": "execute_result",
          "data": {
            "text/plain": [
              "array([0.22831581, 0.36489845, 0.54636356, 0.5412513 , 0.5683676 ])"
            ]
          },
          "metadata": {},
          "execution_count": 14
        }
      ]
    },
    {
      "cell_type": "markdown",
      "metadata": {
        "id": "wnQ4gFoltu81"
      },
      "source": [
        "### 동일한 무작위수 생성\n",
        "- seed를 고정하고 무작위수 생성"
      ]
    },
    {
      "cell_type": "code",
      "metadata": {
        "id": "LGPOJGfgRSWx"
      },
      "source": [
        "np.random.seed(1234)  # seed 시정하면 초기값이 같음"
      ],
      "execution_count": 15,
      "outputs": []
    },
    {
      "cell_type": "code",
      "metadata": {
        "id": "t2PNRUpfRXZk",
        "colab": {
          "base_uri": "https://localhost:8080/"
        },
        "outputId": "d9a6fbdb-fd95-42b2-b3bd-3ab20b76d5f4"
      },
      "source": [
        "np.random.rand(5)"
      ],
      "execution_count": 16,
      "outputs": [
        {
          "output_type": "execute_result",
          "data": {
            "text/plain": [
              "array([0.19151945, 0.62210877, 0.43772774, 0.78535858, 0.77997581])"
            ]
          },
          "metadata": {},
          "execution_count": 16
        }
      ]
    },
    {
      "cell_type": "code",
      "metadata": {
        "id": "x8yKednV8CZy",
        "colab": {
          "base_uri": "https://localhost:8080/"
        },
        "outputId": "d3b6de1e-3b64-48f7-940e-772c13314e13"
      },
      "source": [
        "np.random.rand(5)"
      ],
      "execution_count": 17,
      "outputs": [
        {
          "output_type": "execute_result",
          "data": {
            "text/plain": [
              "array([0.27259261, 0.27646426, 0.80187218, 0.95813935, 0.87593263])"
            ]
          },
          "metadata": {},
          "execution_count": 17
        }
      ]
    },
    {
      "cell_type": "code",
      "metadata": {
        "id": "bo2A_ntYRcKw"
      },
      "source": [
        "np.random.seed(1234)"
      ],
      "execution_count": 18,
      "outputs": []
    },
    {
      "cell_type": "code",
      "metadata": {
        "id": "U5qXdwYQRYeT",
        "colab": {
          "base_uri": "https://localhost:8080/"
        },
        "outputId": "a61f7a7d-4e4a-49de-8018-92dc669adbfd"
      },
      "source": [
        "np.random.rand(5)"
      ],
      "execution_count": 19,
      "outputs": [
        {
          "output_type": "execute_result",
          "data": {
            "text/plain": [
              "array([0.19151945, 0.62210877, 0.43772774, 0.78535858, 0.77997581])"
            ]
          },
          "metadata": {},
          "execution_count": 19
        }
      ]
    },
    {
      "cell_type": "markdown",
      "metadata": {
        "id": "pwMXGAwmRhpW"
      },
      "source": [
        "### seed 고정 후에 randint(5)"
      ]
    },
    {
      "cell_type": "code",
      "metadata": {
        "id": "tqmTOMMVRhGW",
        "colab": {
          "base_uri": "https://localhost:8080/"
        },
        "outputId": "43ef9e89-87b5-49c7-feb9-79d137302d36"
      },
      "source": [
        "np.random.seed(5678)\n",
        "np.random.randint(1,10,5)"
      ],
      "execution_count": 20,
      "outputs": [
        {
          "output_type": "execute_result",
          "data": {
            "text/plain": [
              "array([5, 8, 3, 5, 4])"
            ]
          },
          "metadata": {},
          "execution_count": 20
        }
      ]
    },
    {
      "cell_type": "code",
      "metadata": {
        "id": "YxQYjcOLSA-Z",
        "colab": {
          "base_uri": "https://localhost:8080/"
        },
        "outputId": "260f397d-b9cd-4453-a145-933424bbc71a"
      },
      "source": [
        "np.random.randint(1,10,5)"
      ],
      "execution_count": 21,
      "outputs": [
        {
          "output_type": "execute_result",
          "data": {
            "text/plain": [
              "array([6, 3, 7, 4, 1])"
            ]
          },
          "metadata": {},
          "execution_count": 21
        }
      ]
    },
    {
      "cell_type": "code",
      "metadata": {
        "id": "aQYF5QpGSD6p",
        "colab": {
          "base_uri": "https://localhost:8080/"
        },
        "outputId": "50edf94c-124b-4657-b2a6-8bc30cc7740b"
      },
      "source": [
        "np.random.seed(5678)\n",
        "np.random.randint(1,10,5)"
      ],
      "execution_count": 22,
      "outputs": [
        {
          "output_type": "execute_result",
          "data": {
            "text/plain": [
              "array([5, 8, 3, 5, 4])"
            ]
          },
          "metadata": {},
          "execution_count": 22
        }
      ]
    },
    {
      "cell_type": "code",
      "metadata": {
        "id": "cfIhMEcVSGKa",
        "colab": {
          "base_uri": "https://localhost:8080/"
        },
        "outputId": "1a00fcc1-df0a-44e4-ecaf-5755b0d70f0d"
      },
      "source": [
        "np.random.seed(5678)\n",
        "np.random.randint(1,10,5)"
      ],
      "execution_count": 23,
      "outputs": [
        {
          "output_type": "execute_result",
          "data": {
            "text/plain": [
              "array([5, 8, 3, 5, 4])"
            ]
          },
          "metadata": {},
          "execution_count": 23
        }
      ]
    },
    {
      "cell_type": "code",
      "metadata": {
        "id": "Ik9a-QkcfLwy",
        "colab": {
          "base_uri": "https://localhost:8080/"
        },
        "outputId": "575d2919-34e6-4029-deae-c617a0d4d77f"
      },
      "source": [
        "# seed 변경          seed를 반복해서 고정해야된다.\n",
        "np.random.seed(0)\n",
        "np.random.randint(1,10,5)"
      ],
      "execution_count": 24,
      "outputs": [
        {
          "output_type": "execute_result",
          "data": {
            "text/plain": [
              "array([6, 1, 4, 4, 8])"
            ]
          },
          "metadata": {},
          "execution_count": 24
        }
      ]
    },
    {
      "cell_type": "markdown",
      "metadata": {
        "id": "Zg3g31drmDMI"
      },
      "source": [
        "---\n",
        "---"
      ]
    },
    {
      "cell_type": "markdown",
      "metadata": {
        "id": "YNVh_pbhfROq"
      },
      "source": [
        "## DIY: 도전 코딩 - numpy 정리 과제\n",
        "- 생성된 마구잡이수를 조사하고 사용하기 \n",
        "- 9월19일 자정 마감."
      ]
    },
    {
      "cell_type": "markdown",
      "metadata": {
        "id": "vxNHFDSIgMmC"
      },
      "source": [
        "### [도전 1.] 0부터 9까지의 마구잡이 정수를 1000개 만들고 각 수의 빈도를 구하시오. "
      ]
    },
    {
      "cell_type": "code",
      "metadata": {
        "id": "qkDfXH1xgjBz",
        "colab": {
          "base_uri": "https://localhost:8080/"
        },
        "outputId": "d33d0018-9d33-45a9-9475-aea49193fbdd"
      },
      "source": [
        "# n1000=\n",
        "n1000 = np.random.randint(0,10,1000)\n",
        "n1000"
      ],
      "execution_count": 25,
      "outputs": [
        {
          "output_type": "execute_result",
          "data": {
            "text/plain": [
              "array([9, 3, 5, 2, 4, 7, 6, 8, 8, 1, 6, 7, 7, 8, 1, 5, 9, 8, 9, 4, 3, 0,\n",
              "       3, 5, 0, 2, 3, 8, 1, 3, 3, 3, 7, 0, 1, 9, 9, 0, 4, 7, 3, 2, 7, 2,\n",
              "       0, 0, 4, 5, 5, 6, 8, 4, 1, 4, 9, 8, 1, 1, 7, 9, 9, 3, 6, 7, 2, 0,\n",
              "       3, 5, 9, 4, 4, 6, 4, 4, 3, 4, 4, 8, 4, 3, 7, 5, 5, 0, 1, 5, 9, 3,\n",
              "       0, 5, 0, 1, 2, 4, 2, 0, 3, 2, 0, 7, 5, 9, 0, 2, 7, 2, 9, 2, 3, 3,\n",
              "       2, 3, 4, 1, 2, 9, 1, 4, 6, 8, 2, 3, 0, 0, 6, 0, 6, 3, 3, 8, 8, 8,\n",
              "       2, 3, 2, 0, 8, 8, 3, 8, 2, 8, 4, 3, 0, 4, 3, 6, 9, 8, 0, 8, 5, 9,\n",
              "       0, 9, 6, 5, 3, 1, 8, 0, 4, 9, 6, 5, 7, 8, 8, 9, 2, 8, 6, 6, 9, 1,\n",
              "       6, 8, 8, 3, 2, 3, 6, 3, 6, 5, 7, 0, 8, 4, 6, 5, 8, 2, 3, 9, 7, 5,\n",
              "       3, 4, 5, 3, 3, 7, 9, 9, 9, 7, 3, 2, 3, 9, 7, 7, 5, 1, 2, 2, 8, 1,\n",
              "       5, 8, 4, 0, 2, 5, 5, 0, 8, 1, 1, 0, 3, 8, 8, 4, 4, 0, 9, 3, 7, 3,\n",
              "       2, 1, 1, 2, 1, 4, 2, 5, 5, 5, 2, 5, 7, 7, 6, 1, 6, 7, 2, 3, 1, 9,\n",
              "       5, 9, 9, 2, 0, 9, 1, 9, 0, 6, 0, 4, 8, 4, 3, 3, 8, 8, 7, 0, 3, 8,\n",
              "       7, 7, 1, 8, 4, 7, 0, 4, 9, 0, 6, 4, 2, 4, 6, 3, 3, 7, 8, 5, 0, 8,\n",
              "       5, 4, 7, 4, 1, 3, 3, 9, 2, 5, 2, 3, 5, 7, 2, 7, 1, 6, 5, 0, 0, 3,\n",
              "       1, 9, 9, 6, 6, 7, 8, 8, 7, 0, 8, 6, 8, 9, 8, 3, 6, 1, 7, 4, 9, 2,\n",
              "       0, 8, 2, 7, 8, 4, 4, 1, 7, 6, 9, 4, 1, 5, 9, 7, 1, 3, 5, 7, 3, 6,\n",
              "       6, 7, 9, 1, 9, 6, 0, 3, 8, 4, 1, 4, 5, 0, 3, 1, 4, 4, 4, 0, 0, 8,\n",
              "       4, 6, 9, 3, 3, 2, 1, 2, 1, 3, 4, 1, 1, 0, 7, 8, 4, 3, 5, 6, 3, 2,\n",
              "       9, 8, 1, 4, 0, 8, 3, 9, 5, 5, 1, 7, 8, 6, 4, 7, 3, 5, 3, 6, 4, 7,\n",
              "       3, 0, 5, 9, 3, 7, 5, 5, 8, 0, 8, 3, 6, 9, 3, 2, 7, 0, 3, 0, 3, 6,\n",
              "       1, 9, 2, 9, 4, 9, 1, 3, 2, 4, 9, 7, 4, 9, 4, 1, 2, 7, 2, 3, 9, 7,\n",
              "       6, 6, 2, 3, 6, 0, 8, 0, 7, 6, 5, 9, 6, 5, 2, 7, 1, 9, 2, 2, 5, 6,\n",
              "       4, 2, 2, 1, 0, 9, 0, 2, 8, 3, 0, 8, 8, 1, 0, 5, 8, 2, 3, 5, 3, 8,\n",
              "       6, 4, 6, 3, 6, 2, 6, 5, 5, 9, 4, 6, 5, 1, 3, 3, 8, 9, 5, 5, 6, 0,\n",
              "       9, 7, 5, 1, 5, 6, 6, 8, 7, 5, 3, 2, 9, 9, 3, 2, 5, 4, 1, 5, 8, 3,\n",
              "       5, 8, 4, 1, 7, 8, 1, 2, 1, 1, 7, 5, 0, 4, 1, 1, 6, 6, 0, 2, 3, 7,\n",
              "       9, 2, 4, 9, 0, 6, 9, 2, 4, 7, 3, 0, 5, 4, 0, 2, 3, 1, 7, 1, 3, 4,\n",
              "       1, 7, 4, 0, 2, 7, 4, 0, 2, 6, 9, 2, 4, 9, 9, 5, 4, 4, 9, 8, 1, 5,\n",
              "       7, 0, 1, 3, 9, 2, 8, 2, 4, 8, 2, 9, 8, 7, 8, 2, 3, 3, 6, 0, 3, 6,\n",
              "       3, 9, 6, 3, 2, 2, 2, 6, 4, 6, 0, 4, 9, 2, 1, 6, 1, 7, 5, 6, 1, 6,\n",
              "       6, 6, 6, 2, 5, 2, 2, 3, 2, 9, 3, 8, 5, 4, 5, 1, 5, 8, 2, 9, 9, 5,\n",
              "       6, 4, 0, 8, 5, 5, 5, 1, 0, 0, 0, 0, 0, 7, 6, 3, 5, 4, 3, 4, 5, 1,\n",
              "       3, 6, 7, 4, 0, 0, 7, 3, 3, 0, 0, 9, 4, 4, 5, 8, 8, 0, 1, 5, 9, 9,\n",
              "       6, 1, 4, 0, 4, 7, 7, 7, 6, 2, 6, 0, 2, 7, 7, 2, 6, 1, 3, 7, 0, 5,\n",
              "       4, 5, 5, 3, 8, 0, 1, 5, 4, 1, 5, 0, 6, 8, 8, 6, 3, 4, 4, 3, 6, 5,\n",
              "       9, 8, 1, 3, 8, 1, 5, 8, 0, 3, 7, 1, 7, 8, 0, 7, 5, 9, 9, 6, 8, 7,\n",
              "       5, 9, 1, 0, 0, 5, 6, 3, 6, 1, 7, 7, 0, 7, 6, 0, 4, 2, 7, 5, 2, 8,\n",
              "       5, 6, 6, 4, 1, 5, 4, 5, 5, 6, 3, 8, 1, 4, 2, 9, 7, 4, 1, 8, 2, 3,\n",
              "       3, 4, 1, 6, 2, 5, 4, 9, 1, 5, 9, 4, 5, 7, 4, 4, 2, 2, 1, 3, 0, 1,\n",
              "       9, 1, 6, 9, 8, 6, 3, 0, 7, 3, 2, 5, 9, 7, 3, 4, 7, 6, 7, 3, 6, 9,\n",
              "       3, 7, 1, 3, 7, 8, 8, 4, 5, 3, 6, 9, 6, 2, 9, 3, 5, 7, 9, 0, 7, 1,\n",
              "       2, 5, 0, 5, 8, 9, 8, 2, 5, 3, 1, 7, 3, 8, 5, 5, 1, 9, 7, 2, 1, 0,\n",
              "       1, 0, 1, 1, 6, 8, 8, 3, 2, 0, 7, 4, 6, 0, 5, 3, 3, 9, 4, 9, 0, 6,\n",
              "       5, 3, 0, 0, 1, 2, 0, 2, 2, 9, 6, 7, 8, 9, 8, 2, 4, 7, 7, 5, 7, 2,\n",
              "       4, 1, 1, 1, 7, 9, 0, 9, 0, 2])"
            ]
          },
          "metadata": {},
          "execution_count": 25
        }
      ]
    },
    {
      "cell_type": "code",
      "metadata": {
        "id": "9_6nzbQD3FZi",
        "colab": {
          "base_uri": "https://localhost:8080/"
        },
        "outputId": "79e57480-3d9d-463a-afeb-75fd0d1df064"
      },
      "source": [
        "np.unique(n1000)"
      ],
      "execution_count": 26,
      "outputs": [
        {
          "output_type": "execute_result",
          "data": {
            "text/plain": [
              "array([0, 1, 2, 3, 4, 5, 6, 7, 8, 9])"
            ]
          },
          "metadata": {},
          "execution_count": 26
        }
      ]
    },
    {
      "cell_type": "code",
      "metadata": {
        "id": "eiw9R1243Rzp",
        "colab": {
          "base_uri": "https://localhost:8080/"
        },
        "outputId": "6ab7f3a6-e81c-4647-ea16-9e61ed58fc12"
      },
      "source": [
        "# 각 수의 빈도\n",
        "count= np.unique(n1000, return_counts=True)\n",
        "print(count)"
      ],
      "execution_count": 27,
      "outputs": [
        {
          "output_type": "stream",
          "name": "stdout",
          "text": [
            "(array([0, 1, 2, 3, 4, 5, 6, 7, 8, 9]), array([100,  96,  98, 120,  99, 104,  94,  96,  95,  98]))\n"
          ]
        }
      ]
    },
    {
      "cell_type": "markdown",
      "metadata": {
        "id": "cIhlY6-GghMN"
      },
      "source": [
        "### [도전 2.] 0부터 9까지의 마구잡이 정수를 1000개 만들고 각 수가 처음 출현하는 인덱스를 구하시오.\n",
        "> 0이 처음 나타날 때의 인덱스, 1이 처음 나타날 때의 인덱스, ... "
      ]
    },
    {
      "cell_type": "code",
      "metadata": {
        "colab": {
          "base_uri": "https://localhost:8080/"
        },
        "id": "8SjfvQwc7CBM",
        "outputId": "ba0e6cb9-4f54-42c0-e1dd-15d85461a87c"
      },
      "source": [
        "n1000 = np.random.randint(0,10,1000)\n",
        "n1000\n"
      ],
      "execution_count": 28,
      "outputs": [
        {
          "output_type": "execute_result",
          "data": {
            "text/plain": [
              "array([1, 4, 6, 0, 6, 6, 2, 8, 6, 6, 5, 2, 5, 0, 3, 9, 9, 7, 0, 4, 1, 3,\n",
              "       5, 7, 6, 2, 7, 3, 4, 9, 7, 0, 0, 1, 8, 3, 5, 0, 1, 1, 3, 7, 9, 3,\n",
              "       7, 0, 2, 4, 4, 6, 0, 1, 7, 6, 5, 5, 7, 3, 6, 8, 8, 2, 1, 0, 8, 7,\n",
              "       7, 0, 4, 8, 0, 4, 5, 7, 2, 4, 9, 7, 5, 0, 4, 9, 4, 0, 2, 5, 5, 3,\n",
              "       0, 0, 1, 9, 9, 2, 1, 0, 1, 6, 3, 4, 3, 6, 4, 2, 3, 6, 3, 3, 8, 1,\n",
              "       3, 3, 1, 5, 3, 6, 4, 8, 5, 7, 1, 8, 2, 0, 0, 4, 2, 1, 2, 2, 3, 4,\n",
              "       7, 5, 1, 3, 1, 0, 1, 4, 0, 2, 1, 3, 1, 4, 7, 5, 6, 9, 2, 5, 2, 2,\n",
              "       1, 3, 8, 3, 0, 7, 3, 8, 2, 4, 3, 1, 6, 5, 8, 4, 3, 6, 5, 3, 7, 8,\n",
              "       8, 3, 7, 8, 5, 7, 2, 7, 8, 0, 7, 4, 8, 4, 4, 0, 4, 8, 0, 0, 4, 7,\n",
              "       3, 7, 7, 2, 2, 1, 7, 0, 7, 5, 9, 7, 1, 1, 2, 4, 1, 4, 5, 8, 2, 1,\n",
              "       6, 3, 0, 3, 9, 5, 1, 3, 7, 1, 1, 7, 9, 4, 2, 0, 3, 2, 4, 0, 0, 9,\n",
              "       3, 8, 3, 0, 4, 4, 0, 2, 5, 5, 8, 2, 7, 3, 6, 1, 0, 2, 2, 5, 5, 1,\n",
              "       2, 8, 7, 3, 7, 3, 1, 0, 1, 0, 8, 8, 5, 3, 3, 1, 0, 6, 1, 6, 9, 5,\n",
              "       7, 0, 1, 4, 9, 5, 1, 6, 5, 4, 4, 4, 7, 2, 2, 6, 5, 3, 0, 8, 8, 1,\n",
              "       8, 7, 5, 7, 9, 4, 0, 7, 2, 3, 9, 5, 4, 0, 4, 5, 8, 1, 4, 8, 0, 1,\n",
              "       1, 8, 9, 4, 9, 0, 3, 0, 7, 0, 8, 1, 2, 8, 5, 8, 2, 1, 3, 5, 0, 2,\n",
              "       5, 8, 6, 2, 7, 7, 1, 8, 4, 9, 3, 3, 2, 9, 0, 4, 6, 4, 3, 2, 3, 1,\n",
              "       1, 2, 7, 2, 7, 0, 1, 8, 0, 5, 2, 8, 0, 4, 0, 3, 8, 1, 6, 4, 6, 9,\n",
              "       6, 4, 7, 2, 9, 8, 0, 8, 6, 2, 6, 9, 5, 3, 7, 8, 3, 8, 8, 9, 9, 4,\n",
              "       4, 1, 0, 7, 6, 2, 1, 0, 6, 1, 6, 7, 1, 5, 2, 0, 2, 6, 6, 3, 5, 4,\n",
              "       7, 3, 2, 6, 9, 1, 5, 1, 9, 3, 1, 0, 7, 3, 9, 6, 4, 4, 3, 5, 4, 4,\n",
              "       9, 0, 0, 9, 5, 0, 6, 3, 8, 9, 6, 2, 1, 7, 7, 6, 7, 5, 9, 8, 8, 1,\n",
              "       4, 6, 4, 2, 7, 8, 5, 7, 9, 9, 6, 9, 9, 3, 9, 3, 7, 2, 8, 1, 3, 2,\n",
              "       1, 7, 8, 7, 5, 7, 7, 1, 5, 6, 5, 8, 8, 1, 5, 2, 9, 5, 1, 8, 1, 7,\n",
              "       8, 5, 0, 1, 9, 5, 1, 4, 9, 8, 2, 8, 3, 3, 7, 4, 8, 3, 3, 1, 7, 5,\n",
              "       5, 7, 7, 3, 2, 1, 2, 9, 5, 8, 8, 8, 2, 2, 8, 4, 1, 1, 0, 2, 1, 7,\n",
              "       0, 2, 9, 3, 4, 9, 3, 0, 0, 6, 4, 3, 3, 1, 0, 7, 8, 6, 2, 8, 8, 9,\n",
              "       6, 4, 1, 8, 5, 4, 3, 5, 7, 6, 6, 9, 3, 3, 2, 7, 3, 9, 9, 5, 9, 8,\n",
              "       3, 8, 5, 9, 0, 7, 0, 1, 6, 6, 4, 5, 7, 6, 0, 1, 6, 6, 4, 2, 2, 4,\n",
              "       4, 3, 1, 0, 6, 6, 0, 9, 8, 9, 5, 2, 9, 8, 4, 4, 0, 2, 5, 7, 7, 1,\n",
              "       3, 2, 0, 3, 2, 2, 2, 3, 5, 1, 7, 5, 3, 9, 3, 0, 6, 3, 6, 9, 5, 1,\n",
              "       9, 3, 3, 9, 7, 8, 4, 7, 8, 9, 4, 1, 5, 0, 3, 6, 3, 0, 3, 6, 9, 5,\n",
              "       1, 7, 3, 4, 7, 0, 3, 5, 6, 6, 7, 4, 7, 2, 0, 1, 6, 5, 9, 4, 8, 7,\n",
              "       8, 6, 1, 4, 8, 5, 1, 6, 2, 7, 5, 7, 9, 6, 6, 3, 9, 9, 3, 4, 4, 1,\n",
              "       3, 9, 5, 1, 9, 7, 5, 4, 2, 0, 8, 7, 1, 1, 1, 9, 7, 4, 8, 6, 1, 2,\n",
              "       8, 4, 7, 9, 8, 8, 3, 2, 5, 6, 4, 5, 7, 9, 0, 3, 5, 5, 7, 8, 0, 2,\n",
              "       6, 5, 1, 5, 1, 9, 2, 3, 0, 3, 0, 1, 2, 2, 3, 4, 5, 8, 5, 1, 6, 1,\n",
              "       9, 6, 1, 5, 6, 2, 2, 9, 2, 8, 6, 3, 4, 1, 6, 6, 8, 8, 8, 5, 2, 2,\n",
              "       5, 9, 5, 4, 1, 1, 8, 8, 3, 0, 9, 2, 9, 3, 6, 4, 7, 5, 5, 3, 8, 7,\n",
              "       1, 7, 5, 4, 0, 5, 7, 8, 1, 6, 6, 9, 0, 2, 8, 6, 6, 3, 4, 4, 4, 1,\n",
              "       4, 3, 8, 9, 2, 1, 7, 8, 3, 3, 9, 0, 7, 7, 5, 3, 7, 8, 5, 5, 1, 7,\n",
              "       6, 1, 8, 1, 2, 0, 2, 4, 4, 8, 4, 7, 5, 2, 3, 0, 7, 9, 6, 9, 8, 1,\n",
              "       7, 6, 8, 4, 3, 5, 2, 0, 1, 4, 0, 5, 8, 3, 9, 1, 5, 9, 0, 8, 1, 6,\n",
              "       9, 7, 1, 4, 9, 8, 6, 7, 5, 7, 8, 5, 1, 4, 7, 8, 7, 7, 9, 9, 0, 6,\n",
              "       3, 7, 2, 6, 3, 5, 8, 9, 5, 0, 6, 9, 1, 4, 7, 5, 2, 6, 4, 7, 3, 6,\n",
              "       7, 0, 6, 4, 2, 3, 2, 0, 9, 5])"
            ]
          },
          "metadata": {},
          "execution_count": 28
        }
      ]
    },
    {
      "cell_type": "code",
      "metadata": {
        "id": "MlNlpUFb49UA"
      },
      "source": [
        "import numpy"
      ],
      "execution_count": 29,
      "outputs": []
    },
    {
      "cell_type": "code",
      "metadata": {
        "id": "oA1ec_RjgL3X"
      },
      "source": [
        "n1000 = numpy.array(n1000)\n"
      ],
      "execution_count": 30,
      "outputs": []
    },
    {
      "cell_type": "code",
      "metadata": {
        "id": "sqURkipwBB5v",
        "colab": {
          "base_uri": "https://localhost:8080/"
        },
        "outputId": "f77b9e53-acf7-48d7-f2c5-f2ca68a6d4c3"
      },
      "source": [
        "numpy.where(n1000 == 0)[0]"
      ],
      "execution_count": 31,
      "outputs": [
        {
          "output_type": "execute_result",
          "data": {
            "text/plain": [
              "array([  3,  13,  18,  31,  32,  37,  45,  50,  63,  67,  70,  79,  83,\n",
              "        88,  89,  95, 123, 124, 137, 140, 158, 185, 191, 194, 195, 205,\n",
              "       222, 235, 239, 240, 245, 248, 258, 271, 273, 280, 287, 304, 314,\n",
              "       321, 328, 335, 337, 339, 350, 366, 379, 382, 386, 388, 402, 420,\n",
              "       425, 433, 451, 463, 464, 467, 530, 568, 572, 579, 580, 586, 620,\n",
              "       622, 630, 641, 644, 654, 662, 675, 695, 699, 709, 718, 757, 784,\n",
              "       790, 800, 802, 845, 862, 870, 891, 907, 917, 931, 934, 942, 966,\n",
              "       977, 991, 997])"
            ]
          },
          "metadata": {},
          "execution_count": 31
        }
      ]
    },
    {
      "cell_type": "code",
      "metadata": {
        "id": "oAE4c3LEBwBX",
        "colab": {
          "base_uri": "https://localhost:8080/"
        },
        "outputId": "8264bdc2-cf09-4baf-842c-06d5151e5a50"
      },
      "source": [
        "numpy.where(n1000 == 1)[0]"
      ],
      "execution_count": 32,
      "outputs": [
        {
          "output_type": "execute_result",
          "data": {
            "text/plain": [
              "array([  0,  20,  33,  38,  39,  51,  62,  90,  94,  96, 109, 112, 120,\n",
              "       127, 134, 136, 138, 142, 144, 154, 165, 203, 210, 211, 214, 219,\n",
              "       226, 229, 230, 257, 263, 270, 272, 279, 282, 288, 292, 307, 325,\n",
              "       329, 330, 341, 347, 358, 373, 374, 380, 391, 419, 424, 427, 430,\n",
              "       445, 447, 450, 474, 483, 503, 506, 513, 519, 524, 526, 531, 534,\n",
              "       547, 555, 566, 567, 570, 585, 596, 623, 631, 640, 659, 669, 681,\n",
              "       693, 704, 719, 728, 732, 747, 751, 760, 761, 762, 768, 794, 796,\n",
              "       803, 811, 813, 816, 827, 840, 841, 858, 866, 879, 885, 900, 903,\n",
              "       905, 923, 932, 939, 944, 948, 958, 980])"
            ]
          },
          "metadata": {},
          "execution_count": 32
        }
      ]
    },
    {
      "cell_type": "code",
      "metadata": {
        "id": "yubibMMZ4AZS"
      },
      "source": [
        "# n1000[index]"
      ],
      "execution_count": 33,
      "outputs": []
    },
    {
      "cell_type": "markdown",
      "metadata": {
        "id": "sadkRzWjgiTM"
      },
      "source": [
        "### [도전 3.] seed를 1234로 고정하고, 위의 도전1,2를 다시 해보시오. "
      ]
    },
    {
      "cell_type": "code",
      "metadata": {
        "id": "r0msm52eDXpz",
        "colab": {
          "base_uri": "https://localhost:8080/"
        },
        "outputId": "e374c09d-47b9-4244-d876-24a305d2d929"
      },
      "source": [
        "np.random.seed(1234)\n",
        "n4 = np.random.randint(0,10,1000)\n",
        "n4"
      ],
      "execution_count": 34,
      "outputs": [
        {
          "output_type": "execute_result",
          "data": {
            "text/plain": [
              "array([3, 6, 5, 4, 8, 9, 1, 7, 9, 6, 8, 0, 5, 0, 9, 6, 2, 0, 5, 2, 6, 3,\n",
              "       7, 0, 9, 0, 3, 2, 3, 1, 3, 1, 3, 7, 1, 7, 4, 0, 5, 1, 5, 9, 9, 4,\n",
              "       0, 9, 8, 8, 6, 8, 6, 3, 1, 2, 5, 2, 5, 6, 7, 4, 3, 5, 6, 4, 6, 2,\n",
              "       4, 2, 7, 9, 7, 7, 2, 9, 7, 4, 9, 0, 9, 2, 9, 1, 2, 9, 1, 5, 7, 4,\n",
              "       7, 7, 1, 4, 0, 5, 4, 9, 2, 9, 1, 3, 5, 9, 3, 0, 4, 4, 0, 6, 8, 4,\n",
              "       8, 1, 8, 9, 8, 2, 0, 2, 2, 3, 2, 9, 7, 4, 8, 1, 9, 2, 7, 4, 3, 2,\n",
              "       5, 5, 1, 0, 8, 4, 0, 0, 1, 0, 3, 9, 1, 9, 3, 7, 9, 3, 4, 4, 1, 1,\n",
              "       6, 2, 9, 8, 7, 8, 0, 8, 7, 9, 5, 6, 3, 9, 4, 7, 7, 1, 7, 2, 5, 2,\n",
              "       7, 2, 6, 8, 6, 1, 9, 3, 3, 4, 9, 7, 2, 8, 1, 9, 4, 3, 1, 0, 7, 8,\n",
              "       0, 9, 3, 9, 3, 9, 0, 5, 9, 2, 3, 1, 7, 1, 4, 7, 3, 8, 4, 5, 3, 8,\n",
              "       8, 8, 1, 3, 6, 8, 9, 1, 5, 8, 4, 1, 1, 1, 2, 3, 4, 2, 1, 9, 4, 0,\n",
              "       0, 2, 1, 2, 5, 9, 8, 8, 7, 5, 7, 0, 0, 6, 6, 1, 9, 4, 6, 7, 2, 0,\n",
              "       7, 0, 2, 8, 4, 8, 3, 2, 4, 7, 7, 0, 1, 1, 0, 0, 0, 1, 1, 9, 4, 9,\n",
              "       9, 5, 2, 4, 1, 0, 3, 5, 2, 3, 3, 5, 4, 5, 4, 0, 5, 6, 7, 3, 1, 5,\n",
              "       4, 5, 9, 1, 7, 6, 3, 3, 0, 0, 2, 3, 1, 6, 1, 3, 5, 6, 9, 2, 6, 6,\n",
              "       9, 7, 8, 9, 1, 3, 6, 6, 2, 2, 4, 9, 3, 8, 7, 5, 1, 3, 1, 3, 0, 2,\n",
              "       0, 3, 5, 2, 6, 6, 6, 4, 1, 0, 7, 4, 1, 8, 5, 9, 6, 2, 8, 7, 9, 7,\n",
              "       7, 3, 6, 5, 6, 8, 6, 5, 9, 1, 9, 2, 1, 9, 1, 5, 0, 2, 3, 8, 8, 1,\n",
              "       3, 7, 3, 5, 1, 5, 6, 9, 5, 0, 1, 3, 5, 8, 9, 9, 7, 8, 8, 9, 4, 4,\n",
              "       1, 5, 4, 6, 8, 7, 9, 4, 1, 7, 7, 0, 4, 6, 1, 9, 1, 1, 9, 0, 8, 1,\n",
              "       3, 7, 2, 8, 3, 2, 2, 3, 4, 1, 6, 3, 5, 2, 4, 2, 1, 3, 9, 7, 9, 7,\n",
              "       2, 5, 7, 5, 8, 5, 0, 4, 0, 9, 3, 1, 0, 0, 6, 4, 3, 4, 1, 8, 6, 8,\n",
              "       7, 1, 5, 7, 9, 1, 5, 6, 5, 1, 6, 0, 9, 2, 2, 1, 4, 9, 9, 6, 6, 2,\n",
              "       4, 1, 5, 5, 5, 5, 8, 6, 7, 2, 3, 9, 7, 2, 1, 1, 9, 6, 5, 9, 2, 1,\n",
              "       3, 8, 3, 8, 7, 3, 8, 0, 5, 0, 9, 9, 7, 4, 5, 6, 3, 8, 1, 7, 4, 1,\n",
              "       9, 2, 4, 3, 3, 9, 4, 2, 6, 0, 5, 4, 6, 6, 6, 3, 8, 8, 8, 5, 7, 9,\n",
              "       9, 0, 7, 8, 4, 6, 5, 7, 5, 9, 2, 6, 3, 0, 8, 1, 6, 0, 3, 7, 5, 0,\n",
              "       8, 9, 8, 5, 1, 9, 4, 6, 2, 6, 3, 3, 7, 3, 2, 8, 5, 2, 4, 8, 0, 5,\n",
              "       2, 3, 7, 2, 6, 1, 2, 4, 7, 2, 3, 5, 8, 4, 3, 5, 8, 0, 5, 3, 5, 3,\n",
              "       5, 6, 1, 1, 3, 1, 7, 3, 4, 1, 7, 0, 9, 8, 5, 9, 3, 8, 2, 3, 0, 9,\n",
              "       0, 4, 3, 4, 5, 0, 2, 7, 2, 8, 5, 3, 5, 0, 5, 9, 0, 6, 7, 2, 6, 6,\n",
              "       2, 2, 0, 1, 1, 3, 8, 3, 3, 2, 5, 9, 5, 4, 6, 9, 5, 9, 2, 5, 5, 6,\n",
              "       5, 7, 3, 0, 2, 3, 1, 9, 9, 8, 8, 0, 8, 6, 6, 1, 4, 3, 5, 5, 4, 9,\n",
              "       3, 8, 2, 3, 0, 6, 2, 8, 3, 3, 8, 2, 6, 2, 0, 3, 0, 3, 9, 0, 4, 2,\n",
              "       7, 1, 2, 2, 2, 1, 5, 9, 5, 3, 7, 1, 0, 1, 1, 8, 3, 5, 4, 4, 2, 4,\n",
              "       5, 6, 4, 2, 6, 1, 7, 6, 2, 3, 9, 4, 1, 4, 1, 0, 7, 3, 4, 5, 0, 8,\n",
              "       2, 2, 5, 4, 9, 5, 3, 3, 4, 6, 8, 4, 2, 2, 0, 6, 2, 8, 9, 2, 4, 3,\n",
              "       4, 4, 0, 8, 3, 4, 2, 9, 2, 8, 4, 0, 0, 6, 6, 7, 6, 7, 9, 3, 9, 7,\n",
              "       8, 2, 9, 1, 0, 6, 3, 8, 4, 9, 9, 6, 7, 9, 2, 3, 6, 4, 5, 8, 5, 9,\n",
              "       9, 7, 1, 0, 6, 3, 3, 4, 1, 8, 2, 8, 0, 3, 9, 0, 6, 6, 7, 7, 9, 2,\n",
              "       2, 1, 0, 9, 5, 0, 9, 7, 5, 3, 8, 2, 6, 4, 5, 6, 1, 9, 6, 3, 7, 0,\n",
              "       4, 9, 4, 4, 5, 1, 0, 9, 7, 0, 5, 3, 8, 9, 1, 7, 0, 9, 6, 8, 2, 1,\n",
              "       7, 5, 4, 0, 1, 1, 7, 8, 2, 7, 6, 9, 9, 2, 1, 1, 8, 9, 0, 7, 2, 4,\n",
              "       2, 9, 8, 1, 0, 1, 4, 4, 9, 9, 0, 1, 9, 9, 3, 1, 7, 2, 8, 4, 7, 4,\n",
              "       3, 2, 8, 4, 7, 7, 0, 1, 4, 6, 5, 5, 0, 5, 2, 0, 8, 3, 5, 7, 8, 4,\n",
              "       7, 6, 7, 7, 2, 7, 6, 0, 2, 6])"
            ]
          },
          "metadata": {},
          "execution_count": 34
        }
      ]
    },
    {
      "cell_type": "code",
      "metadata": {
        "id": "8ZyeMd-1DvXx",
        "colab": {
          "base_uri": "https://localhost:8080/"
        },
        "outputId": "bffdae26-60e0-40b0-dd5f-933d134ed52f"
      },
      "source": [
        "np.unique(n4)\n",
        "count= np.unique(n4, return_counts=True)\n",
        "print(count)"
      ],
      "execution_count": 35,
      "outputs": [
        {
          "output_type": "stream",
          "name": "stdout",
          "text": [
            "(array([0, 1, 2, 3, 4, 5, 6, 7, 8, 9]), array([ 93, 107, 107, 108,  97,  98,  89,  95,  90, 116]))\n"
          ]
        }
      ]
    },
    {
      "cell_type": "code",
      "metadata": {
        "colab": {
          "base_uri": "https://localhost:8080/"
        },
        "id": "wULlDFbGERzq",
        "outputId": "94c752e4-a94a-4da5-e2fe-4a12e662a10b"
      },
      "source": [
        "np.random.seed(1234)\n",
        "n4 = np.random.randint(0,10,1000)\n",
        "n4"
      ],
      "execution_count": 37,
      "outputs": [
        {
          "output_type": "execute_result",
          "data": {
            "text/plain": [
              "array([3, 6, 5, 4, 8, 9, 1, 7, 9, 6, 8, 0, 5, 0, 9, 6, 2, 0, 5, 2, 6, 3,\n",
              "       7, 0, 9, 0, 3, 2, 3, 1, 3, 1, 3, 7, 1, 7, 4, 0, 5, 1, 5, 9, 9, 4,\n",
              "       0, 9, 8, 8, 6, 8, 6, 3, 1, 2, 5, 2, 5, 6, 7, 4, 3, 5, 6, 4, 6, 2,\n",
              "       4, 2, 7, 9, 7, 7, 2, 9, 7, 4, 9, 0, 9, 2, 9, 1, 2, 9, 1, 5, 7, 4,\n",
              "       7, 7, 1, 4, 0, 5, 4, 9, 2, 9, 1, 3, 5, 9, 3, 0, 4, 4, 0, 6, 8, 4,\n",
              "       8, 1, 8, 9, 8, 2, 0, 2, 2, 3, 2, 9, 7, 4, 8, 1, 9, 2, 7, 4, 3, 2,\n",
              "       5, 5, 1, 0, 8, 4, 0, 0, 1, 0, 3, 9, 1, 9, 3, 7, 9, 3, 4, 4, 1, 1,\n",
              "       6, 2, 9, 8, 7, 8, 0, 8, 7, 9, 5, 6, 3, 9, 4, 7, 7, 1, 7, 2, 5, 2,\n",
              "       7, 2, 6, 8, 6, 1, 9, 3, 3, 4, 9, 7, 2, 8, 1, 9, 4, 3, 1, 0, 7, 8,\n",
              "       0, 9, 3, 9, 3, 9, 0, 5, 9, 2, 3, 1, 7, 1, 4, 7, 3, 8, 4, 5, 3, 8,\n",
              "       8, 8, 1, 3, 6, 8, 9, 1, 5, 8, 4, 1, 1, 1, 2, 3, 4, 2, 1, 9, 4, 0,\n",
              "       0, 2, 1, 2, 5, 9, 8, 8, 7, 5, 7, 0, 0, 6, 6, 1, 9, 4, 6, 7, 2, 0,\n",
              "       7, 0, 2, 8, 4, 8, 3, 2, 4, 7, 7, 0, 1, 1, 0, 0, 0, 1, 1, 9, 4, 9,\n",
              "       9, 5, 2, 4, 1, 0, 3, 5, 2, 3, 3, 5, 4, 5, 4, 0, 5, 6, 7, 3, 1, 5,\n",
              "       4, 5, 9, 1, 7, 6, 3, 3, 0, 0, 2, 3, 1, 6, 1, 3, 5, 6, 9, 2, 6, 6,\n",
              "       9, 7, 8, 9, 1, 3, 6, 6, 2, 2, 4, 9, 3, 8, 7, 5, 1, 3, 1, 3, 0, 2,\n",
              "       0, 3, 5, 2, 6, 6, 6, 4, 1, 0, 7, 4, 1, 8, 5, 9, 6, 2, 8, 7, 9, 7,\n",
              "       7, 3, 6, 5, 6, 8, 6, 5, 9, 1, 9, 2, 1, 9, 1, 5, 0, 2, 3, 8, 8, 1,\n",
              "       3, 7, 3, 5, 1, 5, 6, 9, 5, 0, 1, 3, 5, 8, 9, 9, 7, 8, 8, 9, 4, 4,\n",
              "       1, 5, 4, 6, 8, 7, 9, 4, 1, 7, 7, 0, 4, 6, 1, 9, 1, 1, 9, 0, 8, 1,\n",
              "       3, 7, 2, 8, 3, 2, 2, 3, 4, 1, 6, 3, 5, 2, 4, 2, 1, 3, 9, 7, 9, 7,\n",
              "       2, 5, 7, 5, 8, 5, 0, 4, 0, 9, 3, 1, 0, 0, 6, 4, 3, 4, 1, 8, 6, 8,\n",
              "       7, 1, 5, 7, 9, 1, 5, 6, 5, 1, 6, 0, 9, 2, 2, 1, 4, 9, 9, 6, 6, 2,\n",
              "       4, 1, 5, 5, 5, 5, 8, 6, 7, 2, 3, 9, 7, 2, 1, 1, 9, 6, 5, 9, 2, 1,\n",
              "       3, 8, 3, 8, 7, 3, 8, 0, 5, 0, 9, 9, 7, 4, 5, 6, 3, 8, 1, 7, 4, 1,\n",
              "       9, 2, 4, 3, 3, 9, 4, 2, 6, 0, 5, 4, 6, 6, 6, 3, 8, 8, 8, 5, 7, 9,\n",
              "       9, 0, 7, 8, 4, 6, 5, 7, 5, 9, 2, 6, 3, 0, 8, 1, 6, 0, 3, 7, 5, 0,\n",
              "       8, 9, 8, 5, 1, 9, 4, 6, 2, 6, 3, 3, 7, 3, 2, 8, 5, 2, 4, 8, 0, 5,\n",
              "       2, 3, 7, 2, 6, 1, 2, 4, 7, 2, 3, 5, 8, 4, 3, 5, 8, 0, 5, 3, 5, 3,\n",
              "       5, 6, 1, 1, 3, 1, 7, 3, 4, 1, 7, 0, 9, 8, 5, 9, 3, 8, 2, 3, 0, 9,\n",
              "       0, 4, 3, 4, 5, 0, 2, 7, 2, 8, 5, 3, 5, 0, 5, 9, 0, 6, 7, 2, 6, 6,\n",
              "       2, 2, 0, 1, 1, 3, 8, 3, 3, 2, 5, 9, 5, 4, 6, 9, 5, 9, 2, 5, 5, 6,\n",
              "       5, 7, 3, 0, 2, 3, 1, 9, 9, 8, 8, 0, 8, 6, 6, 1, 4, 3, 5, 5, 4, 9,\n",
              "       3, 8, 2, 3, 0, 6, 2, 8, 3, 3, 8, 2, 6, 2, 0, 3, 0, 3, 9, 0, 4, 2,\n",
              "       7, 1, 2, 2, 2, 1, 5, 9, 5, 3, 7, 1, 0, 1, 1, 8, 3, 5, 4, 4, 2, 4,\n",
              "       5, 6, 4, 2, 6, 1, 7, 6, 2, 3, 9, 4, 1, 4, 1, 0, 7, 3, 4, 5, 0, 8,\n",
              "       2, 2, 5, 4, 9, 5, 3, 3, 4, 6, 8, 4, 2, 2, 0, 6, 2, 8, 9, 2, 4, 3,\n",
              "       4, 4, 0, 8, 3, 4, 2, 9, 2, 8, 4, 0, 0, 6, 6, 7, 6, 7, 9, 3, 9, 7,\n",
              "       8, 2, 9, 1, 0, 6, 3, 8, 4, 9, 9, 6, 7, 9, 2, 3, 6, 4, 5, 8, 5, 9,\n",
              "       9, 7, 1, 0, 6, 3, 3, 4, 1, 8, 2, 8, 0, 3, 9, 0, 6, 6, 7, 7, 9, 2,\n",
              "       2, 1, 0, 9, 5, 0, 9, 7, 5, 3, 8, 2, 6, 4, 5, 6, 1, 9, 6, 3, 7, 0,\n",
              "       4, 9, 4, 4, 5, 1, 0, 9, 7, 0, 5, 3, 8, 9, 1, 7, 0, 9, 6, 8, 2, 1,\n",
              "       7, 5, 4, 0, 1, 1, 7, 8, 2, 7, 6, 9, 9, 2, 1, 1, 8, 9, 0, 7, 2, 4,\n",
              "       2, 9, 8, 1, 0, 1, 4, 4, 9, 9, 0, 1, 9, 9, 3, 1, 7, 2, 8, 4, 7, 4,\n",
              "       3, 2, 8, 4, 7, 7, 0, 1, 4, 6, 5, 5, 0, 5, 2, 0, 8, 3, 5, 7, 8, 4,\n",
              "       7, 6, 7, 7, 2, 7, 6, 0, 2, 6])"
            ]
          },
          "metadata": {},
          "execution_count": 37
        }
      ]
    },
    {
      "cell_type": "code",
      "metadata": {
        "colab": {
          "base_uri": "https://localhost:8080/"
        },
        "id": "VVx2xREVEq4I",
        "outputId": "10da5a0c-3b7a-4486-975d-24656b8bd3d5"
      },
      "source": [
        "numpy.where(n4 == 0)[0]"
      ],
      "execution_count": 38,
      "outputs": [
        {
          "output_type": "execute_result",
          "data": {
            "text/plain": [
              "array([ 11,  13,  17,  23,  25,  37,  44,  77,  92, 103, 106, 116, 135,\n",
              "       138, 139, 141, 160, 195, 198, 204, 241, 242, 253, 254, 263, 265,\n",
              "       275, 278, 279, 280, 291, 301, 316, 317, 350, 352, 361, 390, 405,\n",
              "       429, 437, 468, 470, 474, 475, 495, 535, 537, 559, 573, 585, 589,\n",
              "       593, 614, 633, 649, 658, 660, 665, 673, 676, 684, 707, 715, 730,\n",
              "       740, 742, 745, 760, 785, 790, 806, 816, 825, 826, 840, 861, 870,\n",
              "       873, 882, 885, 901, 908, 911, 918, 927, 942, 950, 956, 974, 980,\n",
              "       983, 997])"
            ]
          },
          "metadata": {},
          "execution_count": 38
        }
      ]
    },
    {
      "cell_type": "code",
      "metadata": {
        "colab": {
          "base_uri": "https://localhost:8080/"
        },
        "id": "CNNWbCaNEw5v",
        "outputId": "cd6a9f4c-2fdc-4dc9-f294-d407bb674a70"
      },
      "source": [
        "numpy.where(n4 == 1)[0]"
      ],
      "execution_count": 40,
      "outputs": [
        {
          "output_type": "execute_result",
          "data": {
            "text/plain": [
              "array([  6,  29,  31,  34,  39,  52,  81,  84,  90,  98, 111, 125, 134,\n",
              "       140, 144, 152, 153, 171, 181, 190, 194, 209, 211, 222, 227, 231,\n",
              "       232, 233, 238, 244, 257, 276, 277, 281, 282, 290, 306, 311, 320,\n",
              "       322, 334, 346, 348, 360, 364, 383, 386, 388, 395, 400, 406, 418,\n",
              "       426, 432, 434, 435, 439, 449, 456, 473, 480, 485, 489, 493, 499,\n",
              "       507, 520, 521, 527, 546, 549, 587, 598, 621, 640, 641, 643, 647,\n",
              "       685, 686, 710, 719, 749, 753, 759, 761, 762, 775, 782, 784, 839,\n",
              "       860, 866, 881, 896, 907, 916, 923, 928, 929, 938, 939, 949, 951,\n",
              "       957, 961, 975])"
            ]
          },
          "metadata": {},
          "execution_count": 40
        }
      ]
    },
    {
      "cell_type": "markdown",
      "metadata": {
        "id": "zAGojAainnox"
      },
      "source": [
        "### [도전 4.] 0부터 999까지의 마구잡이 정수로 구성되는 28X28 이차원배열을 만드시오.\n",
        "- 시드를 고정 : np.random.seed(1234)\n",
        "1. 각 행의 최대값, 최소갑을 구하시오.\n",
        "2. 배열 전체의 최대값, 최소값을 구하시오.\n",
        "3. 배열전체의 최대값, 최소값의 index를 각각 찾으시오."
      ]
    },
    {
      "cell_type": "code",
      "metadata": {
        "colab": {
          "base_uri": "https://localhost:8080/"
        },
        "id": "q8ieZqmPFrMq",
        "outputId": "88d0bf5b-e32e-42ec-8acd-9361525044fd"
      },
      "source": [
        "np.random.seed(1234)\n",
        "r = np.random.randint(0, 1000, (28, 28))\n",
        "r"
      ],
      "execution_count": 47,
      "outputs": [
        {
          "output_type": "execute_result",
          "data": {
            "text/plain": [
              "array([[815, 723, 294,  53, 204, 372, 664, 655, 689, 279, 233, 154,  30,\n",
              "        683, 158, 748, 892, 794, 374, 442, 120, 880, 476, 325, 336, 969,\n",
              "        383, 246],\n",
              "       [510, 431, 562, 752, 763,  76, 293, 802, 934, 506, 195, 743, 139,\n",
              "        640, 745, 843, 336,   3, 258, 275, 908, 961, 459, 371, 619, 465,\n",
              "         14, 243],\n",
              "       [455, 828, 490, 619, 942, 924,  81, 855, 781, 116, 608, 908, 197,\n",
              "        625, 991, 997, 671, 761, 601,  84,  45, 528,  41, 840, 440, 236,\n",
              "        838, 952],\n",
              "       [ 86, 940, 986, 979, 303, 689,  18, 597, 686, 482, 805, 365, 806,\n",
              "        135, 996, 707, 901, 750, 559, 244, 374, 687, 911, 546,  10, 284,\n",
              "          4,  82],\n",
              "       [103, 345, 311, 235, 334, 663, 434, 761, 574, 183, 340, 617, 256,\n",
              "        633, 354, 761, 346, 417, 882, 377, 497, 789, 967, 196, 119, 999,\n",
              "        465, 250],\n",
              "       [436, 448, 469, 372, 873, 626, 425,   1, 142, 771, 798, 396, 713,\n",
              "        877, 787,  26, 992,  68, 891, 996, 832, 150, 440, 980, 136, 684,\n",
              "        753, 920],\n",
              "       [990, 745, 527, 840, 898, 400, 619, 130, 754, 591, 195,  46, 482,\n",
              "        825, 439, 292, 600, 673, 377, 682, 514, 471, 365, 212, 291, 786,\n",
              "        332, 965],\n",
              "       [117, 593, 208, 520, 493,  75,  15, 788, 784, 448, 573, 881, 864,\n",
              "        638, 211, 313, 561, 318, 953, 211, 667, 343, 233, 931, 164, 596,\n",
              "        317, 540],\n",
              "       [257, 779, 702, 509, 657, 286, 806,  98, 921, 568, 487, 408,  12,\n",
              "        460, 864, 520, 303, 855, 793, 749, 789, 150, 429, 531,  41, 431,\n",
              "        932, 999],\n",
              "       [551, 913, 295, 955, 210, 379, 165,  98,  87, 550, 904, 694, 657,\n",
              "        553, 303, 659, 939, 940, 547, 938, 404, 794, 345, 107, 919, 642,\n",
              "        744, 577],\n",
              "       [729, 283, 974, 580, 987, 316, 874, 259, 209, 687, 957, 447,  32,\n",
              "        887, 909, 312,  48, 617, 314, 350, 931, 953, 316, 595, 505, 368,\n",
              "        757, 649],\n",
              "       [572, 178, 819, 433, 106, 711, 721, 260,   3, 127, 600, 558, 606,\n",
              "        509, 431, 575,  84,   5, 723, 380, 584, 840, 447, 696, 526, 337,\n",
              "        739, 316],\n",
              "       [358, 264,  41, 673, 837, 728, 575, 877, 628, 785, 513,   1, 130,\n",
              "        691, 333, 692, 114, 861, 654, 237, 943, 203, 193, 669, 521, 608,\n",
              "        336, 946],\n",
              "       [785,  31, 508, 863, 381, 970, 494, 907, 418, 565, 857, 472, 920,\n",
              "        478, 991, 439, 565,  23, 383, 186, 224, 784, 758, 774, 465, 462,\n",
              "        953, 132],\n",
              "       [814, 459, 390, 727, 402, 944, 935, 144, 994, 584, 174, 564, 424,\n",
              "        243, 941, 770, 700, 788, 615, 471, 458, 507, 844, 826, 384, 554,\n",
              "        913, 177],\n",
              "       [ 16, 944,  80, 849, 460, 863, 191, 561, 527, 665, 468, 873, 409,\n",
              "        325, 306, 110, 655, 852, 717,  46, 763, 529, 896, 707, 677,  82,\n",
              "        542, 666],\n",
              "       [316, 943, 963, 435, 933, 900, 549, 506, 875, 292, 592, 517, 822,\n",
              "        759, 730, 191, 211, 844, 140, 545,  85, 388, 101, 617, 433, 814,\n",
              "        695, 102],\n",
              "       [611, 787, 943, 364, 252, 810, 304, 763, 364,  90, 432,   2,  35,\n",
              "         46, 161, 508,  38, 737, 707, 430, 826, 933, 454, 162, 374, 198,\n",
              "        809, 922],\n",
              "       [ 10, 855, 280, 457, 524, 700, 257, 861, 179, 758, 134,  18, 946,\n",
              "        429, 548, 634, 857, 627, 814,  43, 973, 744,  55, 917, 542, 462,\n",
              "         97, 698],\n",
              "       [381, 291, 465, 563, 560, 734, 478, 898, 429, 575,   0, 223,  19,\n",
              "        517, 674, 922, 399, 134, 575, 635, 358, 102, 468, 657, 848, 343,\n",
              "        212, 810],\n",
              "       [ 26, 731, 481, 888, 606, 213, 238,  25, 172, 653, 557, 182, 715,\n",
              "        306, 862, 300,  88,  74, 332, 407, 105, 138, 599, 893, 567, 828,\n",
              "        211,  15],\n",
              "       [926, 710, 549, 566, 715,  79, 568,   6, 309, 457, 865, 745, 434,\n",
              "         74, 705, 302, 321, 261, 464, 130, 835, 447, 936, 152, 129, 253,\n",
              "        451, 231],\n",
              "       [  3, 621, 229, 510, 961, 997, 970, 620, 534, 857, 251, 269, 565,\n",
              "        303, 960, 268,  81, 531,  53, 861, 360,  41, 217, 215, 184, 136,\n",
              "        249, 526],\n",
              "       [756, 260, 988, 289,  53, 654, 475, 299, 796,  68, 710, 714, 856,\n",
              "        747, 263, 233, 559,  84, 383, 284, 273, 701, 391, 695, 448, 751,\n",
              "        884,  31],\n",
              "       [886, 698, 561, 251, 745, 476, 539, 353, 798,  43, 961, 729, 816,\n",
              "        792, 737,  15,   3,  26, 583, 338, 872, 943, 893, 847, 451, 562,\n",
              "        236, 370],\n",
              "       [179, 692, 177, 998, 941,  43, 707, 891, 623, 618, 773,  91, 254,\n",
              "        546, 332, 820, 594, 193, 947, 185, 327, 825, 983, 274, 773, 151,\n",
              "        781,  59],\n",
              "       [974, 666, 863, 661, 296, 997, 528, 372, 144, 249, 835, 609, 223,\n",
              "        720, 144, 604, 430, 502, 333, 452, 211, 532, 635, 751, 762, 747,\n",
              "        321, 184],\n",
              "       [ 54, 168, 647, 529,  79, 629, 939, 173, 877, 295, 569,  13, 897,\n",
              "        591, 748, 629, 390, 379, 149, 625, 966, 416, 249, 242, 732, 994,\n",
              "        812, 625]])"
            ]
          },
          "metadata": {},
          "execution_count": 47
        }
      ]
    },
    {
      "cell_type": "code",
      "metadata": {
        "colab": {
          "base_uri": "https://localhost:8080/"
        },
        "id": "fR4t2yhWG4NE",
        "outputId": "4ea5b678-eebc-46ff-aae1-f33c9363d8dc"
      },
      "source": [
        "r.max(axis=1),r.min(axis=1)"
      ],
      "execution_count": 48,
      "outputs": [
        {
          "output_type": "execute_result",
          "data": {
            "text/plain": [
              "(array([969, 961, 997, 996, 999, 996, 990, 953, 999, 955, 987, 840, 946,\n",
              "        991, 994, 944, 963, 943, 973, 922, 893, 936, 997, 988, 961, 998,\n",
              "        997, 994]),\n",
              " array([ 30,   3,  41,   4, 103,   1,  46,  15,  12,  87,  32,   3,   1,\n",
              "         23, 144,  16,  85,   2,  10,   0,  15,   6,   3,  31,   3,  43,\n",
              "        144,  13]))"
            ]
          },
          "metadata": {},
          "execution_count": 48
        }
      ]
    },
    {
      "cell_type": "code",
      "metadata": {
        "colab": {
          "base_uri": "https://localhost:8080/"
        },
        "id": "QX6gv3JMHUcS",
        "outputId": "f2091269-01c8-4a61-cf6b-08ad76ed86a6"
      },
      "source": [
        "r.max(axis=None),r.min(axis=None)"
      ],
      "execution_count": 50,
      "outputs": [
        {
          "output_type": "execute_result",
          "data": {
            "text/plain": [
              "(999, 0)"
            ]
          },
          "metadata": {},
          "execution_count": 50
        }
      ]
    },
    {
      "cell_type": "code",
      "metadata": {
        "colab": {
          "base_uri": "https://localhost:8080/"
        },
        "id": "7BKwkRPQIlHg",
        "outputId": "afb6f9f6-2b88-4e0d-a206-9f96ced13ace"
      },
      "source": [
        "arg_max = np.argmax(r)\n",
        "print(arg_max)\n",
        "arg_min = np.argmin(r)\n",
        "print(arg_min)"
      ],
      "execution_count": 60,
      "outputs": [
        {
          "output_type": "stream",
          "name": "stdout",
          "text": [
            "137\n",
            "542\n"
          ]
        }
      ]
    },
    {
      "cell_type": "markdown",
      "metadata": {
        "id": "VoSu8rNOnwPU"
      },
      "source": [
        "---\n",
        "---"
      ]
    },
    {
      "cell_type": "markdown",
      "metadata": {
        "id": "ozoCcRquhg4p"
      },
      "source": [
        "## python graphics\n",
        "- matplotlib\n",
        "> import matplotlib.pyplot as plt"
      ]
    },
    {
      "cell_type": "markdown",
      "metadata": {
        "id": "h6yEJiGJ4Lbk"
      },
      "source": [
        "### 무작위수 분포 그려보기"
      ]
    },
    {
      "cell_type": "code",
      "metadata": {
        "id": "ngcwuNlfhrIQ"
      },
      "source": [
        "import matplotlib.pyplot as plt"
      ],
      "execution_count": null,
      "outputs": []
    },
    {
      "cell_type": "code",
      "metadata": {
        "id": "jr30IHxvJDuE",
        "colab": {
          "base_uri": "https://localhost:8080/",
          "height": 319
        },
        "outputId": "b879cbdd-1ad9-429d-cadd-2c155a5d37ea"
      },
      "source": [
        "plt.hist(n1000,label=range(0,10), color='red')#, bins=100)\n",
        "# plt.show()"
      ],
      "execution_count": null,
      "outputs": [
        {
          "output_type": "execute_result",
          "data": {
            "text/plain": [
              "(array([ 97.,  98., 106.,  78., 104., 102.,  91.,  98., 114., 112.]),\n",
              " array([0. , 0.9, 1.8, 2.7, 3.6, 4.5, 5.4, 6.3, 7.2, 8.1, 9. ]),\n",
              " <a list of 10 Patch objects>)"
            ]
          },
          "metadata": {},
          "execution_count": 92
        },
        {
          "output_type": "display_data",
          "data": {
            "image/png": "[encoded data removed]",
            "text/plain": [
              "<Figure size 432x288 with 1 Axes>"
            ]
          },
          "metadata": {
            "needs_background": "light"
          }
        }
      ]
    },
    {
      "cell_type": "markdown",
      "metadata": {
        "id": "b-JcgSU-Ktyz"
      },
      "source": [
        "### [도전] 균일분포와 정규분포를 비교하는 그림을 그리시오."
      ]
    },
    {
      "cell_type": "code",
      "metadata": {
        "id": "k0XaT2f9JGZy",
        "colab": {
          "base_uri": "https://localhost:8080/",
          "height": 384
        },
        "outputId": "1ae7b0c7-e972-496a-aaef-271f35e94178"
      },
      "source": [
        "plt.hist(np.random.rand(10000000))"
      ],
      "execution_count": null,
      "outputs": [
        {
          "output_type": "execute_result",
          "data": {
            "text/plain": [
              "(array([ 999096., 1001545.,  999203.,  999610.,  999737., 1001488.,\n",
              "         999302., 1002327.,  998766.,  998926.]),\n",
              " array([1.03619212e-08, 1.00000001e-01, 1.99999992e-01, 2.99999983e-01,\n",
              "        3.99999974e-01, 4.99999965e-01, 5.99999956e-01, 6.99999947e-01,\n",
              "        7.99999937e-01, 8.99999928e-01, 9.99999919e-01]),\n",
              " <a list of 10 Patch objects>)"
            ]
          },
          "metadata": {},
          "execution_count": 101
        },
        {
          "output_type": "display_data",
          "data": {
            "image/png": "[encoded data removed]",
            "text/plain": [
              "<Figure size 432x288 with 1 Axes>"
            ]
          },
          "metadata": {
            "needs_background": "light"
          }
        }
      ]
    },
    {
      "cell_type": "code",
      "metadata": {
        "id": "T8SCqKVeMhBF",
        "colab": {
          "base_uri": "https://localhost:8080/",
          "height": 661
        },
        "outputId": "a38e6908-5076-47b2-fbcf-88542108f6c0"
      },
      "source": [
        "plt.hist(np.random.randn(10000000),bins=50)"
      ],
      "execution_count": null,
      "outputs": [
        {
          "output_type": "execute_result",
          "data": {
            "text/plain": [
              "(array([2.00000e+00, 2.00000e+00, 1.00000e+00, 5.00000e+00, 8.00000e+00,\n",
              "        3.60000e+01, 1.01000e+02, 2.02000e+02, 5.01000e+02, 1.14400e+03,\n",
              "        2.43200e+03, 5.03200e+03, 9.62400e+03, 1.80410e+04, 3.19600e+04,\n",
              "        5.41910e+04, 8.86470e+04, 1.34993e+05, 2.00673e+05, 2.82720e+05,\n",
              "        3.80522e+05, 4.87702e+05, 5.99244e+05, 7.00830e+05, 7.84391e+05,\n",
              "        8.38109e+05, 8.54282e+05, 8.36101e+05, 7.76128e+05, 6.90926e+05,\n",
              "        5.86028e+05, 4.74798e+05, 3.68318e+05, 2.71546e+05, 1.92205e+05,\n",
              "        1.28900e+05, 8.34120e+04, 5.12920e+04, 3.02800e+04, 1.68840e+04,\n",
              "        9.02900e+03, 4.68600e+03, 2.18900e+03, 1.05800e+03, 4.64000e+02,\n",
              "        2.11000e+02, 1.01000e+02, 3.40000e+01, 1.10000e+01, 4.00000e+00]),\n",
              " array([-5.68364385, -5.46871291, -5.25378197, -5.03885103, -4.82392009,\n",
              "        -4.60898915, -4.39405821, -4.17912727, -3.96419633, -3.74926539,\n",
              "        -3.53433445, -3.31940351, -3.10447257, -2.88954163, -2.67461069,\n",
              "        -2.45967975, -2.2447488 , -2.02981786, -1.81488692, -1.59995598,\n",
              "        -1.38502504, -1.1700941 , -0.95516316, -0.74023222, -0.52530128,\n",
              "        -0.31037034, -0.0954394 ,  0.11949154,  0.33442248,  0.54935342,\n",
              "         0.76428436,  0.9792153 ,  1.19414624,  1.40907718,  1.62400812,\n",
              "         1.83893906,  2.05387   ,  2.26880094,  2.48373188,  2.69866282,\n",
              "         2.91359376,  3.12852471,  3.34345565,  3.55838659,  3.77331753,\n",
              "         3.98824847,  4.20317941,  4.41811035,  4.63304129,  4.84797223,\n",
              "         5.06290317]),\n",
              " <a list of 50 Patch objects>)"
            ]
          },
          "metadata": {},
          "execution_count": 103
        },
        {
          "output_type": "display_data",
          "data": {
            "image/png": "[encoded data removed]",
            "text/plain": [
              "<Figure size 432x288 with 1 Axes>"
            ]
          },
          "metadata": {
            "needs_background": "light"
          }
        }
      ]
    },
    {
      "cell_type": "markdown",
      "metadata": {
        "id": "LYthn3089aqD"
      },
      "source": [
        "## 보충 코드"
      ]
    },
    {
      "cell_type": "code",
      "metadata": {
        "id": "BUkVDXTJMkwc",
        "colab": {
          "base_uri": "https://localhost:8080/"
        },
        "outputId": "76f1298f-7d2f-4ea0-9587-69ae364a93e9"
      },
      "source": [
        "n1000 = np.random.randint(0,10,1000)\n",
        "n1000"
      ],
      "execution_count": null,
      "outputs": [
        {
          "output_type": "execute_result",
          "data": {
            "text/plain": [
              "array([1, 3, 8, 2, 6, 0, 4, 4, 0, 3, 3, 6, 7, 6, 7, 1, 6, 8, 2, 5, 0, 2,\n",
              "       5, 9, 9, 9, 3, 0, 5, 2, 3, 3, 9, 0, 6, 6, 1, 6, 5, 6, 2, 0, 1, 8,\n",
              "       0, 4, 8, 2, 7, 8, 0, 6, 4, 0, 5, 7, 1, 2, 0, 8, 9, 5, 6, 6, 3, 2,\n",
              "       4, 1, 8, 6, 2, 9, 5, 1, 6, 9, 6, 0, 3, 9, 7, 9, 0, 6, 8, 2, 9, 8,\n",
              "       1, 3, 4, 4, 1, 1, 5, 9, 6, 8, 1, 9, 0, 0, 0, 2, 8, 1, 0, 8, 1, 6,\n",
              "       0, 8, 8, 0, 8, 9, 3, 3, 0, 7, 4, 2, 1, 6, 9, 2, 3, 4, 9, 9, 7, 2,\n",
              "       0, 1, 6, 8, 7, 9, 7, 1, 3, 2, 7, 2, 8, 7, 6, 3, 5, 0, 4, 5, 9, 6,\n",
              "       5, 1, 6, 5, 0, 8, 8, 3, 7, 5, 2, 9, 5, 0, 4, 9, 6, 2, 6, 1, 4, 7,\n",
              "       3, 7, 0, 5, 2, 8, 9, 5, 0, 6, 0, 1, 3, 4, 6, 0, 7, 4, 3, 3, 3, 2,\n",
              "       1, 3, 8, 1, 9, 8, 8, 4, 6, 3, 6, 9, 5, 8, 9, 0, 7, 6, 4, 8, 4, 5,\n",
              "       5, 6, 7, 3, 8, 9, 1, 1, 8, 1, 9, 4, 8, 9, 3, 1, 6, 4, 9, 9, 5, 0,\n",
              "       7, 6, 6, 7, 2, 1, 1, 5, 9, 2, 1, 9, 1, 4, 0, 3, 9, 6, 5, 5, 4, 7,\n",
              "       5, 1, 2, 2, 1, 1, 1, 9, 4, 8, 9, 2, 5, 7, 1, 1, 7, 0, 1, 6, 8, 6,\n",
              "       7, 7, 2, 5, 4, 2, 1, 9, 6, 3, 4, 5, 6, 3, 7, 8, 4, 1, 9, 4, 7, 3,\n",
              "       2, 7, 4, 4, 8, 0, 7, 7, 8, 5, 0, 0, 9, 8, 7, 8, 2, 4, 6, 0, 7, 8,\n",
              "       5, 4, 3, 9, 5, 8, 3, 7, 6, 3, 9, 1, 5, 2, 6, 8, 1, 9, 9, 9, 5, 7,\n",
              "       6, 4, 3, 8, 7, 9, 9, 4, 7, 7, 4, 6, 2, 7, 9, 3, 0, 7, 5, 7, 0, 3,\n",
              "       1, 0, 8, 2, 4, 3, 5, 9, 3, 4, 3, 3, 7, 6, 4, 8, 8, 1, 1, 5, 0, 9,\n",
              "       4, 6, 3, 2, 3, 0, 5, 0, 2, 2, 8, 8, 0, 8, 7, 1, 6, 6, 2, 2, 1, 3,\n",
              "       9, 5, 5, 2, 1, 6, 2, 9, 5, 1, 4, 3, 3, 1, 5, 4, 3, 9, 3, 7, 8, 4,\n",
              "       3, 2, 9, 9, 4, 9, 5, 3, 4, 4, 9, 1, 3, 1, 8, 2, 8, 1, 6, 9, 1, 1,\n",
              "       1, 4, 9, 4, 7, 0, 1, 7, 7, 6, 2, 9, 2, 2, 7, 1, 6, 7, 6, 2, 1, 8,\n",
              "       3, 0, 8, 9, 7, 9, 2, 3, 1, 9, 3, 5, 4, 3, 2, 6, 0, 9, 8, 0, 8, 4,\n",
              "       3, 6, 8, 4, 2, 4, 5, 7, 2, 3, 1, 9, 6, 1, 6, 5, 0, 7, 7, 5, 9, 1,\n",
              "       0, 3, 9, 8, 3, 2, 1, 1, 8, 6, 1, 0, 0, 3, 8, 6, 2, 8, 1, 8, 2, 9,\n",
              "       7, 8, 9, 0, 1, 1, 1, 2, 8, 7, 6, 1, 8, 1, 7, 4, 8, 8, 4, 0, 7, 9,\n",
              "       2, 0, 6, 8, 5, 7, 9, 3, 5, 0, 3, 0, 8, 4, 8, 3, 0, 9, 6, 3, 3, 0,\n",
              "       6, 5, 2, 5, 1, 1, 8, 9, 4, 0, 9, 8, 4, 7, 5, 7, 4, 3, 1, 9, 1, 8,\n",
              "       0, 6, 5, 6, 0, 4, 6, 4, 1, 0, 9, 4, 3, 9, 8, 3, 7, 7, 3, 2, 4, 7,\n",
              "       7, 9, 6, 9, 7, 9, 1, 0, 1, 9, 8, 9, 8, 1, 7, 4, 1, 8, 0, 2, 6, 4,\n",
              "       5, 6, 0, 6, 9, 4, 7, 1, 8, 5, 8, 5, 5, 0, 7, 8, 5, 0, 7, 8, 6, 0,\n",
              "       0, 9, 4, 5, 4, 1, 3, 4, 6, 9, 9, 0, 4, 1, 1, 1, 9, 6, 6, 1, 3, 3,\n",
              "       6, 4, 4, 1, 4, 3, 5, 4, 0, 1, 1, 1, 7, 8, 2, 5, 2, 3, 0, 7, 3, 9,\n",
              "       4, 1, 6, 4, 6, 1, 8, 1, 0, 2, 1, 8, 5, 9, 5, 8, 8, 1, 5, 0, 5, 0,\n",
              "       3, 6, 5, 0, 5, 4, 2, 8, 5, 3, 9, 7, 0, 0, 2, 5, 3, 3, 2, 1, 2, 2,\n",
              "       3, 2, 4, 5, 3, 1, 2, 3, 8, 9, 3, 1, 7, 1, 0, 1, 8, 2, 0, 6, 4, 9,\n",
              "       1, 7, 3, 1, 3, 9, 3, 2, 7, 3, 1, 3, 8, 3, 6, 4, 7, 5, 7, 2, 2, 1,\n",
              "       3, 9, 2, 5, 7, 0, 6, 6, 1, 0, 9, 6, 5, 7, 6, 6, 7, 1, 7, 7, 3, 9,\n",
              "       8, 7, 9, 7, 1, 6, 8, 0, 4, 3, 8, 6, 9, 9, 9, 6, 4, 4, 7, 0, 2, 7,\n",
              "       4, 3, 0, 3, 0, 5, 9, 1, 2, 1, 3, 4, 2, 9, 3, 9, 1, 1, 6, 4, 8, 3,\n",
              "       1, 0, 1, 7, 0, 8, 4, 9, 7, 9, 1, 9, 8, 8, 1, 4, 1, 1, 5, 0, 4, 8,\n",
              "       7, 4, 9, 5, 0, 2, 2, 1, 9, 1, 8, 3, 9, 3, 6, 9, 8, 4, 4, 5, 8, 4,\n",
              "       7, 8, 2, 4, 1, 5, 5, 1, 8, 8, 8, 0, 0, 5, 3, 9, 5, 4, 1, 1, 2, 9,\n",
              "       3, 5, 2, 3, 1, 9, 7, 9, 3, 4, 0, 1, 8, 1, 7, 5, 2, 4, 9, 1, 8, 3,\n",
              "       1, 1, 0, 2, 1, 0, 9, 6, 5, 6, 9, 6, 5, 8, 1, 7, 6, 3, 6, 4, 6, 6,\n",
              "       7, 0, 3, 2, 3, 7, 3, 3, 3, 7])"
            ]
          },
          "metadata": {},
          "execution_count": 62
        }
      ]
    },
    {
      "cell_type": "code",
      "metadata": {
        "id": "xza_yV8nMshU"
      },
      "source": [
        "value, count= np.unique(n1000, return_counts=True)"
      ],
      "execution_count": null,
      "outputs": []
    },
    {
      "cell_type": "code",
      "metadata": {
        "id": "al1pM1aK9Vk7",
        "colab": {
          "base_uri": "https://localhost:8080/"
        },
        "outputId": "12d10d1c-1189-4764-fc7c-4a6066acc125"
      },
      "source": [
        "value, count"
      ],
      "execution_count": null,
      "outputs": [
        {
          "output_type": "execute_result",
          "data": {
            "text/plain": [
              "(array([0, 1, 2, 3, 4, 5, 6, 7, 8, 9]),\n",
              " array([ 95, 130,  83, 107,  94,  83,  96,  94, 104, 114]))"
            ]
          },
          "metadata": {},
          "execution_count": 64
        }
      ]
    }
  ]
}