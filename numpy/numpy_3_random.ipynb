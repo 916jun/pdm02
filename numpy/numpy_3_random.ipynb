{
  "nbformat": 4,
  "nbformat_minor": 0,
  "metadata": {
    "colab": {
      "name": "numpy_3_random.ipynb",
      "provenance": [],
      "collapsed_sections": [],
      "include_colab_link": true
    },
    "kernelspec": {
      "name": "python3",
      "display_name": "Python 3"
    }
  },
  "cells": [
    {
      "cell_type": "markdown",
      "metadata": {
        "id": "view-in-github",
        "colab_type": "text"
      },
      "source": [
        "<a href=\"https://colab.research.google.com/github/916jun/pdm02/blob/main/numpy/numpy_3_random.ipynb\" target=\"_parent\"><img src=\"https://colab.research.google.com/assets/colab-badge.svg\" alt=\"Open In Colab\"/></a>"
      ]
    },
    {
      "cell_type": "markdown",
      "metadata": {
        "id": "_zrirXHfgmyY"
      },
      "source": [
        "# numpy\n",
        "## random 서브모듈\n",
        "> [데이터싸이언스 스쿨:난수발생](https://datascienceschool.net/01%20python/03.05%20%EB%82%9C%EC%88%98%20%EB%B0%9C%EC%83%9D%EA%B3%BC%20%EC%B9%B4%EC%9A%B4%ED%8C%85.html)"
      ]
    },
    {
      "cell_type": "code",
      "metadata": {
        "id": "kQbzzSMZG2PX"
      },
      "source": [
        "import numpy as np"
      ],
      "execution_count": 2,
      "outputs": []
    },
    {
      "cell_type": "markdown",
      "metadata": {
        "id": "1Ry0YHkNFis5"
      },
      "source": [
        "## 난수 생성\n",
        "> NumPy의 random 서브모듈은 난수를 생성하는 다양한 명령을 제공.\n",
        "\n",
        "- rand: 0부터 1사이의 균일 분포 (uniform distribution)\n",
        "- randn: 가우시안 표준 정규 분포 (normal distribution, Gaussian)\n",
        "- randint: 균일 분포의 정수 난수 (uniform int)\n",
        "\n",
        "> randn()은 평균 0, 표준편차 1 인 가우시안 정규분포를 생성."
      ]
    },
    {
      "cell_type": "markdown",
      "metadata": {
        "id": "CtO1VxvurziR"
      },
      "source": [
        "### rand: 0부터 1사이의 균일 분포 (uniform distribution)"
      ]
    },
    {
      "cell_type": "code",
      "metadata": {
        "id": "LA1oF6aEG7kJ",
        "colab": {
          "base_uri": "https://localhost:8080/"
        },
        "outputId": "e13699bb-e87a-4996-91c1-b226fe256335"
      },
      "source": [
        "np.random.rand(5)"
      ],
      "execution_count": 3,
      "outputs": [
        {
          "output_type": "execute_result",
          "data": {
            "text/plain": [
              "array([0.52828644, 0.28977758, 0.92977024, 0.24360819, 0.85346899])"
            ]
          },
          "metadata": {},
          "execution_count": 3
        }
      ]
    },
    {
      "cell_type": "code",
      "metadata": {
        "id": "H6f4ix3NHCyR",
        "colab": {
          "base_uri": "https://localhost:8080/"
        },
        "outputId": "46712c17-1b25-412d-bc4a-c8d4df7a7199"
      },
      "source": [
        "np.random.rand(5)"
      ],
      "execution_count": 4,
      "outputs": [
        {
          "output_type": "execute_result",
          "data": {
            "text/plain": [
              "array([0.61784952, 0.72787713, 0.31345907, 0.14643983, 0.06337099])"
            ]
          },
          "metadata": {},
          "execution_count": 4
        }
      ]
    },
    {
      "cell_type": "markdown",
      "metadata": {
        "id": "c88F6gf8r4K2"
      },
      "source": [
        "### randn: 가우시안 표준 정규 분포 (normal distribution, Gaussian)"
      ]
    },
    {
      "cell_type": "code",
      "metadata": {
        "id": "rtVfCL-uP2Tw",
        "colab": {
          "base_uri": "https://localhost:8080/"
        },
        "outputId": "a43b0ea2-b027-4b56-8600-8e6cca287ee7"
      },
      "source": [
        "np.random.randn(5)"
      ],
      "execution_count": 5,
      "outputs": [
        {
          "output_type": "execute_result",
          "data": {
            "text/plain": [
              "array([ 1.12246347,  0.52259908,  0.12781412, -0.72941691, -1.08971997])"
            ]
          },
          "metadata": {},
          "execution_count": 5
        }
      ]
    },
    {
      "cell_type": "code",
      "metadata": {
        "colab": {
          "base_uri": "https://localhost:8080/"
        },
        "id": "NzSesvhT1XOg",
        "outputId": "df69c0e0-cbca-411d-8928-5cd3f915ca10"
      },
      "source": [
        "np.random.randn(5)"
      ],
      "execution_count": 6,
      "outputs": [
        {
          "output_type": "execute_result",
          "data": {
            "text/plain": [
              "array([ 0.27445069,  0.41841562,  0.46521838, -0.72940085,  1.72442192])"
            ]
          },
          "metadata": {},
          "execution_count": 6
        }
      ]
    },
    {
      "cell_type": "markdown",
      "metadata": {
        "id": "wsvTzTFSsBSJ"
      },
      "source": [
        "### randint: 균일 분포의 정수 난수 (uniform int)\n",
        "- numpy.random.randint(low, high=None, size=None, dtype='l')"
      ]
    },
    {
      "cell_type": "code",
      "metadata": {
        "id": "WSvAH8uVs2Vb",
        "colab": {
          "base_uri": "https://localhost:8080/"
        },
        "outputId": "e59b7eeb-7387-4882-8ea5-49035929cfa3"
      },
      "source": [
        "np.random.randint(5)  #low 최솟값 high 최댓값 옆 코드의 5는 최댓값을 의미하여 0도 나온다."
      ],
      "execution_count": 13,
      "outputs": [
        {
          "output_type": "execute_result",
          "data": {
            "text/plain": [
              "0"
            ]
          },
          "metadata": {},
          "execution_count": 13
        }
      ]
    },
    {
      "cell_type": "code",
      "metadata": {
        "colab": {
          "base_uri": "https://localhost:8080/"
        },
        "id": "dLEdnNaY2C6m",
        "outputId": "2fa1a70e-d42c-4f19-85e9-a0c3e9803731"
      },
      "source": [
        "die = np.random.randint(1,7)\n",
        "die"
      ],
      "execution_count": 20,
      "outputs": [
        {
          "output_type": "execute_result",
          "data": {
            "text/plain": [
              "5"
            ]
          },
          "metadata": {},
          "execution_count": 20
        }
      ]
    },
    {
      "cell_type": "code",
      "metadata": {
        "id": "McWHW15uQDPr",
        "colab": {
          "base_uri": "https://localhost:8080/"
        },
        "outputId": "a78bfc48-844b-423a-95ae-4a7e5526dba7"
      },
      "source": [
        "np.random.randint(5,9) "
      ],
      "execution_count": 14,
      "outputs": [
        {
          "output_type": "execute_result",
          "data": {
            "text/plain": [
              "6"
            ]
          },
          "metadata": {},
          "execution_count": 14
        }
      ]
    },
    {
      "cell_type": "code",
      "metadata": {
        "id": "oBsWu9FmQQSC",
        "colab": {
          "base_uri": "https://localhost:8080/"
        },
        "outputId": "41d61989-9e6f-4803-b538-d3b11ce2134f"
      },
      "source": [
        "np.random.randint(0,10,5)  # 0~9까지 수가 5개나온다, 중복도 된다."
      ],
      "execution_count": 24,
      "outputs": [
        {
          "output_type": "execute_result",
          "data": {
            "text/plain": [
              "array([3, 2, 1, 9, 8])"
            ]
          },
          "metadata": {},
          "execution_count": 24
        }
      ]
    },
    {
      "cell_type": "code",
      "metadata": {
        "id": "0kNuJxjaQYEu",
        "colab": {
          "base_uri": "https://localhost:8080/"
        },
        "outputId": "5a5adf3f-93b0-44f5-e5b0-8d99b68e1099"
      },
      "source": [
        "np.random.randint(0,10,5)"
      ],
      "execution_count": 25,
      "outputs": [
        {
          "output_type": "execute_result",
          "data": {
            "text/plain": [
              "array([9, 7, 9, 0, 4])"
            ]
          },
          "metadata": {},
          "execution_count": 25
        }
      ]
    },
    {
      "cell_type": "markdown",
      "metadata": {
        "id": "K58DiNYUmANL"
      },
      "source": [
        "---"
      ]
    },
    {
      "cell_type": "markdown",
      "metadata": {
        "id": "xU5NWjQ3F_ld"
      },
      "source": [
        "## 난수 생성 seed 설정\n",
        "- numpy.random.seed(seed=None)\n",
        "- np.random.seed(number)"
      ]
    },
    {
      "cell_type": "code",
      "metadata": {
        "id": "AxUeYmQSQawG"
      },
      "source": [
        "np.random.seed()  "
      ],
      "execution_count": 26,
      "outputs": []
    },
    {
      "cell_type": "code",
      "metadata": {
        "id": "C33YjKqvRJ33",
        "colab": {
          "base_uri": "https://localhost:8080/"
        },
        "outputId": "49866df5-6ccb-4861-e79c-c336c322cea0"
      },
      "source": [
        "np.random.rand(5)"
      ],
      "execution_count": 27,
      "outputs": [
        {
          "output_type": "execute_result",
          "data": {
            "text/plain": [
              "array([0.15633123, 0.35798488, 0.27351733, 0.03854275, 0.60823012])"
            ]
          },
          "metadata": {},
          "execution_count": 27
        }
      ]
    },
    {
      "cell_type": "code",
      "metadata": {
        "id": "Ne8rIyN9RO81",
        "colab": {
          "base_uri": "https://localhost:8080/"
        },
        "outputId": "326039dd-d163-4660-f7cf-c2ee486a345f"
      },
      "source": [
        "np.random.rand(5)"
      ],
      "execution_count": 28,
      "outputs": [
        {
          "output_type": "execute_result",
          "data": {
            "text/plain": [
              "array([0.17595432, 0.40323029, 0.26079339, 0.56443305, 0.71930337])"
            ]
          },
          "metadata": {},
          "execution_count": 28
        }
      ]
    },
    {
      "cell_type": "markdown",
      "metadata": {
        "id": "wnQ4gFoltu81"
      },
      "source": [
        "### 동일한 무작위수 생성\n",
        "- seed를 고정하고 무작위수 생성"
      ]
    },
    {
      "cell_type": "code",
      "metadata": {
        "id": "LGPOJGfgRSWx"
      },
      "source": [
        "np.random.seed(1234)  # seed 시정하면 초기값이 같음"
      ],
      "execution_count": 43,
      "outputs": []
    },
    {
      "cell_type": "code",
      "metadata": {
        "id": "t2PNRUpfRXZk",
        "colab": {
          "base_uri": "https://localhost:8080/"
        },
        "outputId": "d81a54d0-5211-491e-82cb-32f602972737"
      },
      "source": [
        "np.random.rand(5)"
      ],
      "execution_count": 30,
      "outputs": [
        {
          "output_type": "execute_result",
          "data": {
            "text/plain": [
              "array([0.19151945, 0.62210877, 0.43772774, 0.78535858, 0.77997581])"
            ]
          },
          "metadata": {},
          "execution_count": 30
        }
      ]
    },
    {
      "cell_type": "code",
      "metadata": {
        "id": "x8yKednV8CZy",
        "colab": {
          "base_uri": "https://localhost:8080/"
        },
        "outputId": "2160d602-bd75-4d14-fee6-90486775f30c"
      },
      "source": [
        "np.random.rand(5)"
      ],
      "execution_count": 46,
      "outputs": [
        {
          "output_type": "execute_result",
          "data": {
            "text/plain": [
              "array([0.35781727, 0.50099513, 0.68346294, 0.71270203, 0.37025075])"
            ]
          },
          "metadata": {},
          "execution_count": 46
        }
      ]
    },
    {
      "cell_type": "code",
      "metadata": {
        "id": "bo2A_ntYRcKw"
      },
      "source": [
        "np.random.seed(1234)"
      ],
      "execution_count": 47,
      "outputs": []
    },
    {
      "cell_type": "code",
      "metadata": {
        "id": "U5qXdwYQRYeT",
        "colab": {
          "base_uri": "https://localhost:8080/"
        },
        "outputId": "8ed734cd-ac92-45cf-a665-848c2b8492c6"
      },
      "source": [
        "np.random.rand(5)"
      ],
      "execution_count": 48,
      "outputs": [
        {
          "output_type": "execute_result",
          "data": {
            "text/plain": [
              "array([0.19151945, 0.62210877, 0.43772774, 0.78535858, 0.77997581])"
            ]
          },
          "metadata": {},
          "execution_count": 48
        }
      ]
    },
    {
      "cell_type": "markdown",
      "metadata": {
        "id": "pwMXGAwmRhpW"
      },
      "source": [
        "### seed 고정 후에 randint(5)"
      ]
    },
    {
      "cell_type": "code",
      "metadata": {
        "id": "tqmTOMMVRhGW",
        "colab": {
          "base_uri": "https://localhost:8080/"
        },
        "outputId": "14403537-f351-455e-f03c-c78708551415"
      },
      "source": [
        "np.random.seed(5678)\n",
        "np.random.randint(1,10,5)"
      ],
      "execution_count": 49,
      "outputs": [
        {
          "output_type": "execute_result",
          "data": {
            "text/plain": [
              "array([5, 8, 3, 5, 4])"
            ]
          },
          "metadata": {},
          "execution_count": 49
        }
      ]
    },
    {
      "cell_type": "code",
      "metadata": {
        "id": "YxQYjcOLSA-Z",
        "colab": {
          "base_uri": "https://localhost:8080/"
        },
        "outputId": "7814e0ec-b2d2-4c44-e7d0-0f8bf865b454"
      },
      "source": [
        "np.random.randint(1,10,5)"
      ],
      "execution_count": 50,
      "outputs": [
        {
          "output_type": "execute_result",
          "data": {
            "text/plain": [
              "array([6, 3, 7, 4, 1])"
            ]
          },
          "metadata": {},
          "execution_count": 50
        }
      ]
    },
    {
      "cell_type": "code",
      "metadata": {
        "id": "aQYF5QpGSD6p",
        "colab": {
          "base_uri": "https://localhost:8080/"
        },
        "outputId": "d3ac9f63-ee5d-47ee-9d34-6d3e1499921d"
      },
      "source": [
        "np.random.seed(5678)\n",
        "np.random.randint(1,10,5)"
      ],
      "execution_count": 51,
      "outputs": [
        {
          "output_type": "execute_result",
          "data": {
            "text/plain": [
              "array([5, 8, 3, 5, 4])"
            ]
          },
          "metadata": {},
          "execution_count": 51
        }
      ]
    },
    {
      "cell_type": "code",
      "metadata": {
        "id": "cfIhMEcVSGKa",
        "colab": {
          "base_uri": "https://localhost:8080/"
        },
        "outputId": "f2593bd5-67ba-4267-ea80-f8f6320c8d99"
      },
      "source": [
        "np.random.seed(5678)\n",
        "np.random.randint(1,10,5)"
      ],
      "execution_count": 52,
      "outputs": [
        {
          "output_type": "execute_result",
          "data": {
            "text/plain": [
              "array([5, 8, 3, 5, 4])"
            ]
          },
          "metadata": {},
          "execution_count": 52
        }
      ]
    },
    {
      "cell_type": "code",
      "metadata": {
        "id": "Ik9a-QkcfLwy",
        "colab": {
          "base_uri": "https://localhost:8080/"
        },
        "outputId": "5bec1b65-f84c-4396-a40e-6b0f8730eff7"
      },
      "source": [
        "# seed 변경          seed를 반복해서 고정해야된다.\n",
        "np.random.seed(0)\n",
        "np.random.randint(1,10,5)"
      ],
      "execution_count": 53,
      "outputs": [
        {
          "output_type": "execute_result",
          "data": {
            "text/plain": [
              "array([6, 1, 4, 4, 8])"
            ]
          },
          "metadata": {},
          "execution_count": 53
        }
      ]
    },
    {
      "cell_type": "markdown",
      "metadata": {
        "id": "Zg3g31drmDMI"
      },
      "source": [
        "---\n",
        "---"
      ]
    },
    {
      "cell_type": "markdown",
      "metadata": {
        "id": "YNVh_pbhfROq"
      },
      "source": [
        "## DIY: 도전 코딩 - numpy 정리 과제\n",
        "- 생성된 마구잡이수를 조사하고 사용하기 \n",
        "- 9월19일 자정 마감."
      ]
    },
    {
      "cell_type": "markdown",
      "metadata": {
        "id": "vxNHFDSIgMmC"
      },
      "source": [
        "### [도전 1.] 0부터 9까지의 마구잡이 정수를 1000개 만들고 각 수의 빈도를 구하시오. "
      ]
    },
    {
      "cell_type": "code",
      "metadata": {
        "id": "qkDfXH1xgjBz",
        "colab": {
          "base_uri": "https://localhost:8080/"
        },
        "outputId": "c1d6d062-afec-4717-c733-fb6b5f7f6c11"
      },
      "source": [
        "# n1000=\n",
        "n1000 = np.random.randint(0,10,1000)\n",
        "n1000"
      ],
      "execution_count": 76,
      "outputs": [
        {
          "output_type": "execute_result",
          "data": {
            "text/plain": [
              "array([1, 0, 4, 4, 0, 2, 3, 0, 8, 2, 8, 8, 5, 9, 2, 6, 0, 4, 6, 5, 7, 6,\n",
              "       8, 1, 0, 9, 8, 4, 4, 5, 4, 1, 3, 5, 3, 7, 8, 9, 1, 1, 2, 2, 7, 9,\n",
              "       5, 6, 0, 8, 9, 5, 4, 5, 2, 6, 5, 6, 6, 1, 2, 3, 2, 5, 9, 2, 9, 2,\n",
              "       3, 0, 0, 9, 5, 7, 3, 9, 9, 0, 5, 4, 1, 0, 0, 0, 4, 9, 4, 0, 8, 7,\n",
              "       1, 8, 9, 6, 4, 8, 9, 6, 4, 7, 0, 4, 3, 4, 9, 9, 6, 1, 3, 2, 8, 5,\n",
              "       0, 6, 7, 8, 2, 8, 6, 4, 8, 5, 9, 4, 7, 0, 4, 8, 1, 1, 7, 9, 8, 7,\n",
              "       5, 5, 9, 4, 8, 1, 7, 1, 9, 5, 1, 3, 0, 2, 7, 9, 4, 9, 1, 2, 3, 6,\n",
              "       8, 5, 6, 1, 0, 0, 1, 5, 7, 7, 0, 4, 4, 3, 8, 7, 7, 4, 2, 2, 2, 4,\n",
              "       1, 2, 4, 4, 2, 7, 3, 2, 1, 7, 0, 4, 4, 9, 5, 4, 9, 3, 2, 1, 5, 3,\n",
              "       5, 7, 3, 8, 5, 7, 8, 3, 9, 5, 5, 4, 3, 8, 9, 8, 0, 4, 2, 5, 9, 2,\n",
              "       5, 1, 9, 8, 8, 3, 6, 2, 5, 8, 2, 5, 0, 7, 0, 8, 9, 2, 4, 1, 0, 1,\n",
              "       9, 9, 4, 1, 8, 8, 9, 2, 1, 6, 2, 5, 3, 1, 7, 9, 8, 1, 9, 9, 0, 2,\n",
              "       0, 0, 1, 9, 5, 4, 5, 4, 9, 2, 5, 4, 6, 4, 1, 9, 8, 6, 6, 7, 6, 0,\n",
              "       4, 3, 7, 9, 9, 2, 9, 6, 0, 2, 6, 8, 7, 1, 1, 0, 1, 4, 1, 0, 3, 8,\n",
              "       4, 9, 1, 4, 6, 4, 2, 7, 4, 2, 5, 9, 2, 9, 6, 5, 8, 8, 7, 8, 8, 0,\n",
              "       1, 9, 9, 7, 8, 5, 2, 8, 8, 7, 3, 6, 0, 5, 0, 9, 1, 8, 3, 6, 9, 4,\n",
              "       0, 3, 3, 5, 6, 0, 5, 4, 9, 0, 2, 4, 5, 1, 0, 7, 6, 3, 8, 1, 2, 6,\n",
              "       0, 5, 4, 0, 5, 8, 6, 2, 2, 3, 6, 2, 2, 7, 8, 6, 0, 8, 0, 8, 0, 9,\n",
              "       9, 4, 7, 7, 7, 0, 3, 2, 4, 5, 5, 2, 4, 8, 0, 0, 1, 4, 9, 1, 3, 8,\n",
              "       8, 3, 5, 8, 2, 3, 8, 0, 5, 8, 0, 0, 0, 5, 5, 9, 7, 7, 8, 0, 7, 2,\n",
              "       4, 1, 6, 7, 9, 2, 6, 3, 3, 9, 6, 9, 9, 1, 5, 4, 3, 9, 4, 1, 9, 0,\n",
              "       1, 0, 0, 5, 9, 4, 5, 2, 0, 6, 4, 4, 2, 8, 9, 6, 7, 7, 6, 6, 0, 7,\n",
              "       5, 8, 9, 9, 8, 0, 8, 7, 4, 0, 0, 7, 5, 0, 7, 2, 2, 0, 6, 6, 7, 2,\n",
              "       1, 9, 5, 4, 3, 9, 7, 5, 5, 4, 4, 3, 9, 5, 5, 9, 3, 3, 3, 6, 9, 2,\n",
              "       6, 7, 4, 6, 4, 8, 0, 8, 8, 2, 6, 3, 6, 2, 4, 2, 5, 0, 5, 4, 8, 5,\n",
              "       9, 1, 7, 0, 6, 2, 2, 6, 0, 2, 5, 9, 1, 8, 0, 6, 9, 6, 5, 3, 3, 6,\n",
              "       1, 4, 6, 2, 6, 2, 2, 3, 2, 1, 0, 7, 1, 4, 7, 1, 1, 1, 7, 4, 6, 5,\n",
              "       8, 5, 5, 8, 8, 5, 1, 2, 0, 8, 7, 8, 6, 5, 9, 4, 9, 6, 2, 1, 2, 8,\n",
              "       8, 4, 6, 9, 9, 2, 4, 4, 5, 5, 5, 7, 3, 9, 1, 0, 7, 0, 6, 7, 1, 6,\n",
              "       8, 2, 2, 5, 5, 3, 8, 1, 6, 4, 2, 9, 5, 7, 6, 1, 8, 1, 8, 0, 0, 3,\n",
              "       9, 7, 8, 9, 9, 5, 6, 4, 6, 7, 1, 4, 4, 1, 3, 0, 1, 5, 3, 8, 9, 0,\n",
              "       5, 7, 2, 4, 8, 1, 2, 6, 6, 5, 2, 4, 7, 6, 1, 2, 2, 9, 5, 2, 7, 7,\n",
              "       7, 9, 2, 4, 0, 3, 6, 1, 1, 9, 9, 7, 7, 3, 3, 8, 8, 8, 2, 5, 1, 4,\n",
              "       6, 1, 8, 1, 3, 8, 3, 9, 4, 8, 4, 4, 9, 7, 9, 8, 1, 5, 5, 6, 2, 1,\n",
              "       6, 8, 4, 1, 7, 0, 1, 9, 5, 5, 7, 8, 3, 4, 9, 8, 1, 8, 0, 2, 8, 5,\n",
              "       0, 6, 7, 7, 4, 1, 7, 2, 8, 8, 5, 3, 2, 3, 0, 7, 8, 8, 6, 9, 3, 9,\n",
              "       7, 1, 4, 4, 2, 3, 7, 5, 6, 3, 1, 9, 0, 6, 0, 3, 2, 3, 2, 3, 8, 8,\n",
              "       1, 0, 7, 6, 9, 5, 2, 7, 9, 0, 8, 7, 8, 5, 9, 8, 0, 7, 8, 5, 8, 4,\n",
              "       9, 1, 9, 3, 0, 8, 7, 5, 7, 6, 7, 2, 5, 3, 1, 6, 4, 1, 4, 6, 5, 9,\n",
              "       1, 0, 2, 5, 8, 7, 8, 3, 4, 6, 9, 0, 6, 0, 7, 4, 9, 6, 5, 9, 8, 4,\n",
              "       1, 5, 1, 7, 1, 1, 7, 8, 4, 0, 8, 9, 8, 0, 2, 7, 2, 4, 6, 2, 9, 4,\n",
              "       1, 8, 1, 5, 7, 6, 4, 1, 7, 2, 1, 6, 7, 6, 7, 8, 4, 1, 8, 2, 0, 3,\n",
              "       2, 2, 6, 1, 5, 3, 7, 0, 8, 0, 6, 1, 0, 3, 9, 5, 5, 2, 1, 7, 2, 1,\n",
              "       9, 4, 9, 3, 7, 2, 5, 8, 7, 8, 3, 3, 9, 6, 3, 8, 1, 3, 3, 6, 4, 3,\n",
              "       4, 2, 2, 9, 2, 4, 5, 2, 7, 7, 6, 7, 4, 3, 0, 2, 9, 6, 2, 9, 9, 9,\n",
              "       1, 7, 3, 8, 0, 4, 3, 2, 5, 2])"
            ]
          },
          "metadata": {},
          "execution_count": 76
        }
      ]
    },
    {
      "cell_type": "code",
      "metadata": {
        "id": "9_6nzbQD3FZi",
        "colab": {
          "base_uri": "https://localhost:8080/"
        },
        "outputId": "36461f27-ae5b-40e1-ab83-a70101ae4022"
      },
      "source": [
        "np.unique(n1000)"
      ],
      "execution_count": 77,
      "outputs": [
        {
          "output_type": "execute_result",
          "data": {
            "text/plain": [
              "array([0, 1, 2, 3, 4, 5, 6, 7, 8, 9])"
            ]
          },
          "metadata": {},
          "execution_count": 77
        }
      ]
    },
    {
      "cell_type": "code",
      "metadata": {
        "id": "eiw9R1243Rzp",
        "colab": {
          "base_uri": "https://localhost:8080/"
        },
        "outputId": "a07b2bf3-1386-4b1c-ee3b-3c13903c7610"
      },
      "source": [
        "# 각 수의 빈도\n",
        "count= np.unique(n1000, return_counts=True)\n",
        "print(count)"
      ],
      "execution_count": 78,
      "outputs": [
        {
          "output_type": "stream",
          "name": "stdout",
          "text": [
            "(array([0, 1, 2, 3, 4, 5, 6, 7, 8, 9]), array([ 97,  98, 106,  78, 104, 102,  91,  98, 114, 112]))\n"
          ]
        }
      ]
    },
    {
      "cell_type": "markdown",
      "metadata": {
        "id": "cIhlY6-GghMN"
      },
      "source": [
        "### [도전 2.] 0부터 9까지의 마구잡이 정수를 1000개 만들고 각 수가 처음 출현하는 인덱스를 구하시오.\n",
        "> 0이 처음 나타날 때의 인덱스, 1이 처음 나타날 때의 인덱스, ... "
      ]
    },
    {
      "cell_type": "code",
      "metadata": {
        "colab": {
          "base_uri": "https://localhost:8080/"
        },
        "id": "8SjfvQwc7CBM",
        "outputId": "0963b2dd-fee5-4620-a37c-f7753f82629a"
      },
      "source": [
        "n1000 = np.random.randint(0,10,1000)\n",
        "n1000\n"
      ],
      "execution_count": 74,
      "outputs": [
        {
          "output_type": "execute_result",
          "data": {
            "text/plain": [
              "array([5, 9, 9, 2, 6, 7, 4, 1, 3, 9, 4, 2, 6, 0, 2, 5, 5, 5, 5, 4, 0, 7,\n",
              "       4, 3, 2, 7, 2, 1, 0, 6, 4, 0, 8, 9, 1, 2, 1, 7, 0, 1, 8, 4, 1, 5,\n",
              "       4, 9, 8, 8, 9, 2, 3, 2, 1, 6, 8, 8, 5, 8, 1, 9, 7, 4, 6, 4, 2, 0,\n",
              "       7, 1, 0, 1, 1, 2, 1, 1, 5, 5, 5, 7, 8, 9, 6, 7, 8, 7, 5, 6, 8, 0,\n",
              "       9, 8, 5, 9, 3, 9, 8, 1, 2, 4, 3, 4, 6, 5, 4, 5, 0, 5, 2, 1, 1, 1,\n",
              "       7, 2, 9, 0, 5, 5, 2, 4, 6, 9, 6, 3, 5, 8, 2, 9, 3, 3, 9, 2, 0, 3,\n",
              "       3, 4, 5, 0, 0, 4, 5, 4, 2, 7, 7, 5, 0, 9, 3, 1, 0, 9, 5, 2, 9, 4,\n",
              "       0, 3, 0, 5, 8, 9, 1, 6, 7, 4, 3, 7, 3, 5, 9, 4, 0, 0, 6, 1, 7, 1,\n",
              "       5, 9, 6, 3, 1, 1, 6, 9, 8, 4, 4, 3, 2, 8, 1, 6, 3, 7, 9, 2, 2, 8,\n",
              "       8, 3, 5, 3, 3, 1, 8, 5, 3, 5, 6, 6, 3, 9, 9, 3, 4, 9, 7, 3, 7, 1,\n",
              "       3, 9, 0, 7, 8, 2, 2, 9, 9, 2, 0, 5, 2, 8, 4, 9, 0, 9, 3, 0, 5, 3,\n",
              "       3, 1, 9, 9, 0, 6, 8, 2, 3, 7, 0, 4, 9, 3, 1, 3, 9, 5, 1, 5, 9, 5,\n",
              "       9, 1, 2, 7, 3, 5, 1, 6, 7, 7, 6, 8, 9, 6, 0, 1, 9, 0, 8, 7, 5, 1,\n",
              "       1, 1, 8, 5, 6, 7, 4, 1, 1, 7, 4, 5, 8, 9, 9, 4, 7, 7, 8, 1, 5, 6,\n",
              "       7, 6, 9, 1, 3, 6, 5, 9, 6, 3, 9, 2, 2, 9, 0, 1, 8, 6, 6, 4, 5, 7,\n",
              "       2, 2, 0, 4, 1, 9, 8, 3, 8, 4, 3, 3, 0, 0, 4, 6, 0, 2, 2, 7, 7, 4,\n",
              "       2, 9, 6, 0, 2, 6, 8, 5, 0, 1, 7, 4, 8, 0, 6, 1, 3, 0, 6, 0, 4, 3,\n",
              "       5, 4, 6, 8, 1, 5, 5, 7, 9, 4, 4, 9, 3, 8, 2, 7, 3, 0, 4, 6, 0, 6,\n",
              "       4, 7, 1, 1, 9, 2, 1, 6, 0, 0, 4, 6, 0, 0, 5, 2, 8, 2, 2, 5, 0, 8,\n",
              "       6, 1, 5, 2, 3, 2, 8, 7, 1, 0, 1, 3, 2, 1, 8, 9, 1, 9, 0, 1, 7, 8,\n",
              "       7, 8, 6, 2, 9, 0, 1, 4, 3, 3, 5, 0, 0, 6, 2, 3, 6, 9, 1, 3, 4, 9,\n",
              "       4, 5, 5, 6, 7, 3, 6, 9, 4, 6, 4, 6, 9, 4, 0, 0, 3, 6, 4, 1, 7, 2,\n",
              "       3, 0, 5, 7, 4, 2, 4, 7, 1, 3, 0, 4, 7, 7, 2, 6, 3, 5, 8, 2, 3, 0,\n",
              "       5, 0, 4, 3, 8, 9, 7, 0, 3, 9, 1, 5, 1, 6, 5, 8, 5, 7, 2, 5, 2, 9,\n",
              "       7, 0, 6, 1, 0, 7, 7, 4, 0, 3, 5, 2, 0, 3, 7, 9, 7, 5, 8, 7, 2, 9,\n",
              "       3, 0, 1, 2, 7, 0, 9, 2, 3, 9, 2, 8, 0, 2, 4, 4, 0, 5, 0, 8, 1, 8,\n",
              "       0, 2, 5, 3, 8, 9, 7, 8, 6, 4, 4, 7, 7, 4, 3, 9, 9, 4, 7, 6, 2, 7,\n",
              "       4, 9, 1, 2, 6, 4, 2, 7, 3, 0, 7, 1, 2, 8, 4, 0, 7, 8, 4, 8, 5, 9,\n",
              "       1, 1, 7, 8, 9, 3, 8, 9, 4, 8, 7, 6, 4, 1, 9, 5, 2, 2, 4, 4, 2, 5,\n",
              "       2, 2, 5, 5, 3, 5, 0, 3, 9, 6, 9, 0, 2, 5, 6, 5, 7, 7, 7, 8, 1, 0,\n",
              "       8, 2, 7, 5, 2, 8, 9, 6, 7, 5, 1, 5, 4, 2, 2, 2, 6, 1, 3, 9, 6, 7,\n",
              "       8, 3, 1, 8, 3, 7, 5, 4, 6, 4, 3, 5, 7, 2, 8, 5, 7, 3, 9, 0, 2, 8,\n",
              "       5, 1, 6, 8, 1, 3, 7, 0, 2, 0, 5, 4, 5, 6, 7, 0, 7, 7, 4, 8, 8, 4,\n",
              "       3, 3, 1, 9, 6, 2, 4, 6, 9, 9, 9, 2, 5, 8, 8, 5, 0, 4, 8, 2, 9, 5,\n",
              "       0, 9, 4, 3, 7, 2, 2, 0, 0, 8, 6, 2, 5, 1, 7, 9, 4, 0, 3, 5, 6, 5,\n",
              "       5, 1, 0, 7, 3, 3, 1, 4, 8, 5, 8, 6, 7, 5, 0, 4, 3, 8, 5, 6, 5, 5,\n",
              "       0, 0, 7, 7, 8, 2, 1, 7, 6, 0, 0, 6, 5, 5, 7, 0, 0, 5, 5, 1, 5, 1,\n",
              "       5, 9, 7, 4, 7, 2, 0, 3, 8, 2, 2, 0, 3, 0, 7, 3, 7, 1, 5, 5, 7, 0,\n",
              "       3, 3, 6, 0, 1, 7, 6, 8, 7, 2, 6, 1, 8, 4, 9, 5, 8, 2, 9, 1, 3, 1,\n",
              "       3, 8, 8, 7, 9, 4, 7, 1, 3, 0, 0, 3, 8, 3, 1, 4, 9, 6, 6, 6, 1, 1,\n",
              "       8, 7, 0, 6, 6, 3, 3, 8, 2, 8, 1, 3, 4, 4, 3, 3, 3, 4, 7, 9, 3, 2,\n",
              "       1, 2, 3, 9, 2, 6, 5, 7, 6, 7, 1, 9, 2, 3, 8, 1, 7, 2, 2, 7, 8, 0,\n",
              "       3, 9, 6, 6, 7, 4, 9, 4, 3, 8, 7, 9, 2, 8, 9, 1, 2, 5, 3, 1, 6, 1,\n",
              "       8, 5, 9, 3, 3, 7, 6, 4, 5, 5, 2, 3, 8, 5, 9, 3, 4, 9, 6, 2, 8, 5,\n",
              "       5, 8, 9, 9, 8, 7, 1, 9, 6, 8, 7, 8, 5, 7, 0, 8, 8, 3, 2, 5, 7, 7,\n",
              "       6, 0, 3, 2, 9, 4, 5, 9, 1, 9])"
            ]
          },
          "metadata": {},
          "execution_count": 74
        }
      ]
    },
    {
      "cell_type": "code",
      "metadata": {
        "colab": {
          "base_uri": "https://localhost:8080/",
          "height": 208
        },
        "id": "MlNlpUFb49UA",
        "outputId": "34f1c557-61a3-44d3-f9ba-dda642489d1d"
      },
      "source": [
        "#n1000[0],n1000[800]\n",
        "index = np.unique(n1000, return_counts=True)\n",
        "print(n1000.index('0'))"
      ],
      "execution_count": 86,
      "outputs": [
        {
          "output_type": "error",
          "ename": "AttributeError",
          "evalue": "ignored",
          "traceback": [
            "\u001b[0;31m---------------------------------------------------------------------------\u001b[0m",
            "\u001b[0;31mAttributeError\u001b[0m                            Traceback (most recent call last)",
            "\u001b[0;32m<ipython-input-86-39e5757bff9d>\u001b[0m in \u001b[0;36m<module>\u001b[0;34m()\u001b[0m\n\u001b[1;32m      1\u001b[0m \u001b[0;31m#n1000[0],n1000[800]\u001b[0m\u001b[0;34m\u001b[0m\u001b[0;34m\u001b[0m\u001b[0;34m\u001b[0m\u001b[0m\n\u001b[1;32m      2\u001b[0m \u001b[0mindex\u001b[0m \u001b[0;34m=\u001b[0m \u001b[0mnp\u001b[0m\u001b[0;34m.\u001b[0m\u001b[0munique\u001b[0m\u001b[0;34m(\u001b[0m\u001b[0mn1000\u001b[0m\u001b[0;34m,\u001b[0m \u001b[0mreturn_counts\u001b[0m\u001b[0;34m=\u001b[0m\u001b[0;32mTrue\u001b[0m\u001b[0;34m)\u001b[0m\u001b[0;34m\u001b[0m\u001b[0;34m\u001b[0m\u001b[0m\n\u001b[0;32m----> 3\u001b[0;31m \u001b[0mprint\u001b[0m\u001b[0;34m(\u001b[0m\u001b[0mn1000\u001b[0m\u001b[0;34m.\u001b[0m\u001b[0mindex\u001b[0m\u001b[0;34m(\u001b[0m\u001b[0;34m'0'\u001b[0m\u001b[0;34m)\u001b[0m\u001b[0;34m)\u001b[0m\u001b[0;34m\u001b[0m\u001b[0;34m\u001b[0m\u001b[0m\n\u001b[0m",
            "\u001b[0;31mAttributeError\u001b[0m: 'numpy.ndarray' object has no attribute 'index'"
          ]
        }
      ]
    },
    {
      "cell_type": "code",
      "metadata": {
        "id": "oA1ec_RjgL3X"
      },
      "source": [
        "# 각 수가 처음 출현하는 인덱스\n"
      ],
      "execution_count": null,
      "outputs": []
    },
    {
      "cell_type": "code",
      "metadata": {
        "id": "yubibMMZ4AZS"
      },
      "source": [
        "# n1000[index]"
      ],
      "execution_count": null,
      "outputs": []
    },
    {
      "cell_type": "markdown",
      "metadata": {
        "id": "sadkRzWjgiTM"
      },
      "source": [
        "### [도전 3.] seed를 1234로 고정하고, 위의 도전1,2를 다시 해보시오. "
      ]
    },
    {
      "cell_type": "markdown",
      "metadata": {
        "id": "zAGojAainnox"
      },
      "source": [
        "### [도전 4.] 0부터 999까지의 마구잡이 정수로 구성되는 28X28 이차원배열을 만드시오.\n",
        "- 시드를 고정 : np.random.seed(1234)\n",
        "1. 각 행의 최대값, 최소갑을 구하시오.\n",
        "2. 배열 전체의 최대값, 최소값을 구하시오.\n",
        "3. 배열전체의 최대값, 최소값의 index를 각각 찾으시오."
      ]
    },
    {
      "cell_type": "markdown",
      "metadata": {
        "id": "VoSu8rNOnwPU"
      },
      "source": [
        "---\n",
        "---"
      ]
    },
    {
      "cell_type": "markdown",
      "metadata": {
        "id": "ozoCcRquhg4p"
      },
      "source": [
        "## python graphics\n",
        "- matplotlib\n",
        "> import matplotlib.pyplot as plt"
      ]
    },
    {
      "cell_type": "markdown",
      "metadata": {
        "id": "h6yEJiGJ4Lbk"
      },
      "source": [
        "### 무작위수 분포 그려보기"
      ]
    },
    {
      "cell_type": "code",
      "metadata": {
        "id": "ngcwuNlfhrIQ"
      },
      "source": [
        "import matplotlib.pyplot as plt"
      ],
      "execution_count": 88,
      "outputs": []
    },
    {
      "cell_type": "code",
      "metadata": {
        "id": "jr30IHxvJDuE",
        "colab": {
          "base_uri": "https://localhost:8080/",
          "height": 319
        },
        "outputId": "b879cbdd-1ad9-429d-cadd-2c155a5d37ea"
      },
      "source": [
        "plt.hist(n1000,label=range(0,10), color='red')#, bins=100)\n",
        "# plt.show()"
      ],
      "execution_count": 92,
      "outputs": [
        {
          "output_type": "execute_result",
          "data": {
            "text/plain": [
              "(array([ 97.,  98., 106.,  78., 104., 102.,  91.,  98., 114., 112.]),\n",
              " array([0. , 0.9, 1.8, 2.7, 3.6, 4.5, 5.4, 6.3, 7.2, 8.1, 9. ]),\n",
              " <a list of 10 Patch objects>)"
            ]
          },
          "metadata": {},
          "execution_count": 92
        },
        {
          "output_type": "display_data",
          "data": {
            "image/png": "[encoded data removed]",
            "text/plain": [
              "<Figure size 432x288 with 1 Axes>"
            ]
          },
          "metadata": {
            "needs_background": "light"
          }
        }
      ]
    },
    {
      "cell_type": "markdown",
      "metadata": {
        "id": "b-JcgSU-Ktyz"
      },
      "source": [
        "### [도전] 균일분포와 정규분포를 비교하는 그림을 그리시오."
      ]
    },
    {
      "cell_type": "code",
      "metadata": {
        "id": "k0XaT2f9JGZy",
        "colab": {
          "base_uri": "https://localhost:8080/",
          "height": 384
        },
        "outputId": "1ae7b0c7-e972-496a-aaef-271f35e94178"
      },
      "source": [
        "plt.hist(np.random.rand(10000000))"
      ],
      "execution_count": 101,
      "outputs": [
        {
          "output_type": "execute_result",
          "data": {
            "text/plain": [
              "(array([ 999096., 1001545.,  999203.,  999610.,  999737., 1001488.,\n",
              "         999302., 1002327.,  998766.,  998926.]),\n",
              " array([1.03619212e-08, 1.00000001e-01, 1.99999992e-01, 2.99999983e-01,\n",
              "        3.99999974e-01, 4.99999965e-01, 5.99999956e-01, 6.99999947e-01,\n",
              "        7.99999937e-01, 8.99999928e-01, 9.99999919e-01]),\n",
              " <a list of 10 Patch objects>)"
            ]
          },
          "metadata": {},
          "execution_count": 101
        },
        {
          "output_type": "display_data",
          "data": {
            "image/png": "[encoded data removed]",
            "text/plain": [
              "<Figure size 432x288 with 1 Axes>"
            ]
          },
          "metadata": {
            "needs_background": "light"
          }
        }
      ]
    },
    {
      "cell_type": "code",
      "metadata": {
        "id": "T8SCqKVeMhBF",
        "colab": {
          "base_uri": "https://localhost:8080/",
          "height": 661
        },
        "outputId": "a38e6908-5076-47b2-fbcf-88542108f6c0"
      },
      "source": [
        "plt.hist(np.random.randn(10000000),bins=50)"
      ],
      "execution_count": 103,
      "outputs": [
        {
          "output_type": "execute_result",
          "data": {
            "text/plain": [
              "(array([2.00000e+00, 2.00000e+00, 1.00000e+00, 5.00000e+00, 8.00000e+00,\n",
              "        3.60000e+01, 1.01000e+02, 2.02000e+02, 5.01000e+02, 1.14400e+03,\n",
              "        2.43200e+03, 5.03200e+03, 9.62400e+03, 1.80410e+04, 3.19600e+04,\n",
              "        5.41910e+04, 8.86470e+04, 1.34993e+05, 2.00673e+05, 2.82720e+05,\n",
              "        3.80522e+05, 4.87702e+05, 5.99244e+05, 7.00830e+05, 7.84391e+05,\n",
              "        8.38109e+05, 8.54282e+05, 8.36101e+05, 7.76128e+05, 6.90926e+05,\n",
              "        5.86028e+05, 4.74798e+05, 3.68318e+05, 2.71546e+05, 1.92205e+05,\n",
              "        1.28900e+05, 8.34120e+04, 5.12920e+04, 3.02800e+04, 1.68840e+04,\n",
              "        9.02900e+03, 4.68600e+03, 2.18900e+03, 1.05800e+03, 4.64000e+02,\n",
              "        2.11000e+02, 1.01000e+02, 3.40000e+01, 1.10000e+01, 4.00000e+00]),\n",
              " array([-5.68364385, -5.46871291, -5.25378197, -5.03885103, -4.82392009,\n",
              "        -4.60898915, -4.39405821, -4.17912727, -3.96419633, -3.74926539,\n",
              "        -3.53433445, -3.31940351, -3.10447257, -2.88954163, -2.67461069,\n",
              "        -2.45967975, -2.2447488 , -2.02981786, -1.81488692, -1.59995598,\n",
              "        -1.38502504, -1.1700941 , -0.95516316, -0.74023222, -0.52530128,\n",
              "        -0.31037034, -0.0954394 ,  0.11949154,  0.33442248,  0.54935342,\n",
              "         0.76428436,  0.9792153 ,  1.19414624,  1.40907718,  1.62400812,\n",
              "         1.83893906,  2.05387   ,  2.26880094,  2.48373188,  2.69866282,\n",
              "         2.91359376,  3.12852471,  3.34345565,  3.55838659,  3.77331753,\n",
              "         3.98824847,  4.20317941,  4.41811035,  4.63304129,  4.84797223,\n",
              "         5.06290317]),\n",
              " <a list of 50 Patch objects>)"
            ]
          },
          "metadata": {},
          "execution_count": 103
        },
        {
          "output_type": "display_data",
          "data": {
            "image/png": "[encoded data removed]",
            "text/plain": [
              "<Figure size 432x288 with 1 Axes>"
            ]
          },
          "metadata": {
            "needs_background": "light"
          }
        }
      ]
    },
    {
      "cell_type": "markdown",
      "metadata": {
        "id": "LYthn3089aqD"
      },
      "source": [
        "## 보충 코드"
      ]
    },
    {
      "cell_type": "code",
      "metadata": {
        "id": "BUkVDXTJMkwc",
        "colab": {
          "base_uri": "https://localhost:8080/"
        },
        "outputId": "76f1298f-7d2f-4ea0-9587-69ae364a93e9"
      },
      "source": [
        "n1000 = np.random.randint(0,10,1000)\n",
        "n1000"
      ],
      "execution_count": 62,
      "outputs": [
        {
          "output_type": "execute_result",
          "data": {
            "text/plain": [
              "array([1, 3, 8, 2, 6, 0, 4, 4, 0, 3, 3, 6, 7, 6, 7, 1, 6, 8, 2, 5, 0, 2,\n",
              "       5, 9, 9, 9, 3, 0, 5, 2, 3, 3, 9, 0, 6, 6, 1, 6, 5, 6, 2, 0, 1, 8,\n",
              "       0, 4, 8, 2, 7, 8, 0, 6, 4, 0, 5, 7, 1, 2, 0, 8, 9, 5, 6, 6, 3, 2,\n",
              "       4, 1, 8, 6, 2, 9, 5, 1, 6, 9, 6, 0, 3, 9, 7, 9, 0, 6, 8, 2, 9, 8,\n",
              "       1, 3, 4, 4, 1, 1, 5, 9, 6, 8, 1, 9, 0, 0, 0, 2, 8, 1, 0, 8, 1, 6,\n",
              "       0, 8, 8, 0, 8, 9, 3, 3, 0, 7, 4, 2, 1, 6, 9, 2, 3, 4, 9, 9, 7, 2,\n",
              "       0, 1, 6, 8, 7, 9, 7, 1, 3, 2, 7, 2, 8, 7, 6, 3, 5, 0, 4, 5, 9, 6,\n",
              "       5, 1, 6, 5, 0, 8, 8, 3, 7, 5, 2, 9, 5, 0, 4, 9, 6, 2, 6, 1, 4, 7,\n",
              "       3, 7, 0, 5, 2, 8, 9, 5, 0, 6, 0, 1, 3, 4, 6, 0, 7, 4, 3, 3, 3, 2,\n",
              "       1, 3, 8, 1, 9, 8, 8, 4, 6, 3, 6, 9, 5, 8, 9, 0, 7, 6, 4, 8, 4, 5,\n",
              "       5, 6, 7, 3, 8, 9, 1, 1, 8, 1, 9, 4, 8, 9, 3, 1, 6, 4, 9, 9, 5, 0,\n",
              "       7, 6, 6, 7, 2, 1, 1, 5, 9, 2, 1, 9, 1, 4, 0, 3, 9, 6, 5, 5, 4, 7,\n",
              "       5, 1, 2, 2, 1, 1, 1, 9, 4, 8, 9, 2, 5, 7, 1, 1, 7, 0, 1, 6, 8, 6,\n",
              "       7, 7, 2, 5, 4, 2, 1, 9, 6, 3, 4, 5, 6, 3, 7, 8, 4, 1, 9, 4, 7, 3,\n",
              "       2, 7, 4, 4, 8, 0, 7, 7, 8, 5, 0, 0, 9, 8, 7, 8, 2, 4, 6, 0, 7, 8,\n",
              "       5, 4, 3, 9, 5, 8, 3, 7, 6, 3, 9, 1, 5, 2, 6, 8, 1, 9, 9, 9, 5, 7,\n",
              "       6, 4, 3, 8, 7, 9, 9, 4, 7, 7, 4, 6, 2, 7, 9, 3, 0, 7, 5, 7, 0, 3,\n",
              "       1, 0, 8, 2, 4, 3, 5, 9, 3, 4, 3, 3, 7, 6, 4, 8, 8, 1, 1, 5, 0, 9,\n",
              "       4, 6, 3, 2, 3, 0, 5, 0, 2, 2, 8, 8, 0, 8, 7, 1, 6, 6, 2, 2, 1, 3,\n",
              "       9, 5, 5, 2, 1, 6, 2, 9, 5, 1, 4, 3, 3, 1, 5, 4, 3, 9, 3, 7, 8, 4,\n",
              "       3, 2, 9, 9, 4, 9, 5, 3, 4, 4, 9, 1, 3, 1, 8, 2, 8, 1, 6, 9, 1, 1,\n",
              "       1, 4, 9, 4, 7, 0, 1, 7, 7, 6, 2, 9, 2, 2, 7, 1, 6, 7, 6, 2, 1, 8,\n",
              "       3, 0, 8, 9, 7, 9, 2, 3, 1, 9, 3, 5, 4, 3, 2, 6, 0, 9, 8, 0, 8, 4,\n",
              "       3, 6, 8, 4, 2, 4, 5, 7, 2, 3, 1, 9, 6, 1, 6, 5, 0, 7, 7, 5, 9, 1,\n",
              "       0, 3, 9, 8, 3, 2, 1, 1, 8, 6, 1, 0, 0, 3, 8, 6, 2, 8, 1, 8, 2, 9,\n",
              "       7, 8, 9, 0, 1, 1, 1, 2, 8, 7, 6, 1, 8, 1, 7, 4, 8, 8, 4, 0, 7, 9,\n",
              "       2, 0, 6, 8, 5, 7, 9, 3, 5, 0, 3, 0, 8, 4, 8, 3, 0, 9, 6, 3, 3, 0,\n",
              "       6, 5, 2, 5, 1, 1, 8, 9, 4, 0, 9, 8, 4, 7, 5, 7, 4, 3, 1, 9, 1, 8,\n",
              "       0, 6, 5, 6, 0, 4, 6, 4, 1, 0, 9, 4, 3, 9, 8, 3, 7, 7, 3, 2, 4, 7,\n",
              "       7, 9, 6, 9, 7, 9, 1, 0, 1, 9, 8, 9, 8, 1, 7, 4, 1, 8, 0, 2, 6, 4,\n",
              "       5, 6, 0, 6, 9, 4, 7, 1, 8, 5, 8, 5, 5, 0, 7, 8, 5, 0, 7, 8, 6, 0,\n",
              "       0, 9, 4, 5, 4, 1, 3, 4, 6, 9, 9, 0, 4, 1, 1, 1, 9, 6, 6, 1, 3, 3,\n",
              "       6, 4, 4, 1, 4, 3, 5, 4, 0, 1, 1, 1, 7, 8, 2, 5, 2, 3, 0, 7, 3, 9,\n",
              "       4, 1, 6, 4, 6, 1, 8, 1, 0, 2, 1, 8, 5, 9, 5, 8, 8, 1, 5, 0, 5, 0,\n",
              "       3, 6, 5, 0, 5, 4, 2, 8, 5, 3, 9, 7, 0, 0, 2, 5, 3, 3, 2, 1, 2, 2,\n",
              "       3, 2, 4, 5, 3, 1, 2, 3, 8, 9, 3, 1, 7, 1, 0, 1, 8, 2, 0, 6, 4, 9,\n",
              "       1, 7, 3, 1, 3, 9, 3, 2, 7, 3, 1, 3, 8, 3, 6, 4, 7, 5, 7, 2, 2, 1,\n",
              "       3, 9, 2, 5, 7, 0, 6, 6, 1, 0, 9, 6, 5, 7, 6, 6, 7, 1, 7, 7, 3, 9,\n",
              "       8, 7, 9, 7, 1, 6, 8, 0, 4, 3, 8, 6, 9, 9, 9, 6, 4, 4, 7, 0, 2, 7,\n",
              "       4, 3, 0, 3, 0, 5, 9, 1, 2, 1, 3, 4, 2, 9, 3, 9, 1, 1, 6, 4, 8, 3,\n",
              "       1, 0, 1, 7, 0, 8, 4, 9, 7, 9, 1, 9, 8, 8, 1, 4, 1, 1, 5, 0, 4, 8,\n",
              "       7, 4, 9, 5, 0, 2, 2, 1, 9, 1, 8, 3, 9, 3, 6, 9, 8, 4, 4, 5, 8, 4,\n",
              "       7, 8, 2, 4, 1, 5, 5, 1, 8, 8, 8, 0, 0, 5, 3, 9, 5, 4, 1, 1, 2, 9,\n",
              "       3, 5, 2, 3, 1, 9, 7, 9, 3, 4, 0, 1, 8, 1, 7, 5, 2, 4, 9, 1, 8, 3,\n",
              "       1, 1, 0, 2, 1, 0, 9, 6, 5, 6, 9, 6, 5, 8, 1, 7, 6, 3, 6, 4, 6, 6,\n",
              "       7, 0, 3, 2, 3, 7, 3, 3, 3, 7])"
            ]
          },
          "metadata": {},
          "execution_count": 62
        }
      ]
    },
    {
      "cell_type": "code",
      "metadata": {
        "id": "xza_yV8nMshU"
      },
      "source": [
        "value, count= np.unique(n1000, return_counts=True)"
      ],
      "execution_count": 63,
      "outputs": []
    },
    {
      "cell_type": "code",
      "metadata": {
        "id": "al1pM1aK9Vk7",
        "colab": {
          "base_uri": "https://localhost:8080/"
        },
        "outputId": "12d10d1c-1189-4764-fc7c-4a6066acc125"
      },
      "source": [
        "value, count"
      ],
      "execution_count": 64,
      "outputs": [
        {
          "output_type": "execute_result",
          "data": {
            "text/plain": [
              "(array([0, 1, 2, 3, 4, 5, 6, 7, 8, 9]),\n",
              " array([ 95, 130,  83, 107,  94,  83,  96,  94, 104, 114]))"
            ]
          },
          "metadata": {},
          "execution_count": 64
        }
      ]
    }
  ]
}