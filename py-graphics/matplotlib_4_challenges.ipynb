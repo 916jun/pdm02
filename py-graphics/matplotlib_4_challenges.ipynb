{
  "nbformat": 4,
  "nbformat_minor": 0,
  "metadata": {
    "colab": {
      "name": "matplotlib_4_challenges.ipynb",
      "provenance": [],
      "collapsed_sections": [],
      "include_colab_link": true
    },
    "kernelspec": {
      "name": "python3",
      "display_name": "Python 3"
    }
  },
  "cells": [
    {
      "cell_type": "markdown",
      "metadata": {
        "id": "view-in-github",
        "colab_type": "text"
      },
      "source": [
        "<a href=\"https://colab.research.google.com/github/916jun/pdm02/blob/main/py-graphics/matplotlib_4_challenges.ipynb\" target=\"_parent\"><img src=\"https://colab.research.google.com/assets/colab-badge.svg\" alt=\"Open In Colab\"/></a>"
      ]
    },
    {
      "cell_type": "markdown",
      "metadata": {
        "id": "9Wej-7GZ4f3N"
      },
      "source": [
        "# Challenge\n",
        "## Python module 2. **matplotlib**\n",
        "### Python graphics using matplotlib\n",
        "- Visualization\n",
        "- Front-end deployment to WEB or Mobile"
      ]
    },
    {
      "cell_type": "markdown",
      "metadata": {
        "id": "h6yEJiGJ4Lbk"
      },
      "source": [
        "### 무작위수 분포 그려보기"
      ]
    },
    {
      "cell_type": "markdown",
      "metadata": {
        "id": "b-JcgSU-Ktyz"
      },
      "source": [
        "### [도전1.] 균일분포와 정규분포를 비교하는 그림을 그리시오.\n",
        "- subplot 이용\n",
        "- style(제목, x-축 레이블, y-축 레이블, ...)\n",
        "\n",
        "> [hint] 검색: \"How to add title to subplots in Matplotlib?\""
      ]
    },
    {
      "cell_type": "code",
      "metadata": {
        "id": "0Q36zvim7wnr"
      },
      "source": [
        "import numpy as np\n",
        "import matplotlib.pyplot as plt"
      ],
      "execution_count": 1,
      "outputs": []
    },
    {
      "cell_type": "code",
      "metadata": {
        "id": "k0XaT2f9JGZy",
        "colab": {
          "base_uri": "https://localhost:8080/",
          "height": 355
        },
        "outputId": "618eaafa-babb-48e6-e595-bf4c7b41319e"
      },
      "source": [
        "plt.hist(np.random.rand(1000))"
      ],
      "execution_count": 2,
      "outputs": [
        {
          "output_type": "execute_result",
          "data": {
            "text/plain": [
              "(array([ 97.,  87., 114.,  90., 109., 117., 100.,  87.,  90., 109.]),\n",
              " array([1.69856781e-04, 9.99333777e-02, 1.99696899e-01, 2.99460420e-01,\n",
              "        3.99223940e-01, 4.98987461e-01, 5.98750982e-01, 6.98514503e-01,\n",
              "        7.98278024e-01, 8.98041545e-01, 9.97805066e-01]),\n",
              " <a list of 10 Patch objects>)"
            ]
          },
          "metadata": {},
          "execution_count": 2
        },
        {
          "output_type": "display_data",
          "data": {
            "image/png": "[encoded data removed]",
            "text/plain": [
              "<Figure size 432x288 with 1 Axes>"
            ]
          },
          "metadata": {
            "needs_background": "light"
          }
        }
      ]
    },
    {
      "cell_type": "code",
      "metadata": {
        "id": "T8SCqKVeMhBF",
        "colab": {
          "base_uri": "https://localhost:8080/",
          "height": 355
        },
        "outputId": "419f7b98-3f14-4038-be0f-2a1262c7b40b"
      },
      "source": [
        "plt.hist(np.random.randn(1000))"
      ],
      "execution_count": 3,
      "outputs": [
        {
          "output_type": "execute_result",
          "data": {
            "text/plain": [
              "(array([  4.,  14.,  43., 117., 207., 244., 188., 126.,  42.,  15.]),\n",
              " array([-3.48011792, -2.85795871, -2.2357995 , -1.61364029, -0.99148108,\n",
              "        -0.36932187,  0.25283734,  0.87499655,  1.49715576,  2.11931496,\n",
              "         2.74147417]),\n",
              " <a list of 10 Patch objects>)"
            ]
          },
          "metadata": {},
          "execution_count": 3
        },
        {
          "output_type": "display_data",
          "data": {
            "image/png": "[encoded data removed]",
            "text/plain": [
              "<Figure size 432x288 with 1 Axes>"
            ]
          },
          "metadata": {
            "needs_background": "light"
          }
        }
      ]
    },
    {
      "cell_type": "code",
      "metadata": {
        "colab": {
          "base_uri": "https://localhost:8080/",
          "height": 370
        },
        "id": "-2OqwInh8GsH",
        "outputId": "aee7182b-0067-4ee5-c801-21c4732a6f42"
      },
      "source": [
        "plt.figure(figsize=(10,5))\n",
        "plt.subplot(121).set_title(\"Uniform distribution\")\n",
        "plt.xlabel('x') \n",
        "plt.ylabel('y') \n",
        "plt.hist(np.random.rand(1000))\n",
        "\n",
        "plt.subplot(122).set_title(\"Normal distribution\") \n",
        "plt.xlabel('x') \n",
        "plt.hist(np.random.randn(1000))\n",
        "\n",
        "plt.suptitle(\"Uniform distribution & Normal distribution\", fontweight=\"bold\") \n",
        "plt.show()"
      ],
      "execution_count": 4,
      "outputs": [
        {
          "output_type": "display_data",
          "data": {
            "image/png": "[encoded data removed]",
            "text/plain": [
              "<Figure size 720x360 with 2 Axes>"
            ]
          },
          "metadata": {
            "needs_background": "light"
          }
        }
      ]
    },
    {
      "cell_type": "markdown",
      "metadata": {
        "id": "D5XGB1v_PAeU"
      },
      "source": [
        "### [도전 2.] 0~9 사이의 무작위 정수 1000개를 만들어서 각 수의 빈도에 대한 히스토그램, 막대그래프, 꺽은선 그래프를 그리고 비교하시오.\n",
        "- subplot 이용\n",
        "- style(제목, x-축 레이블, y-축 레이블, ...)\n",
        "\n"
      ]
    },
    {
      "cell_type": "code",
      "metadata": {
        "id": "mNO4WWYX87lD"
      },
      "source": [
        "n1000 = np.random.randint(0, 10, 1000)"
      ],
      "execution_count": 5,
      "outputs": []
    },
    {
      "cell_type": "code",
      "metadata": {
        "id": "xza_yV8nMshU"
      },
      "source": [
        "value, count= np.unique(n1000, return_counts=True)\n",
        "# count"
      ],
      "execution_count": 6,
      "outputs": []
    },
    {
      "cell_type": "code",
      "metadata": {
        "id": "CtOSk4RpQTXG",
        "colab": {
          "base_uri": "https://localhost:8080/",
          "height": 283
        },
        "outputId": "e37747f7-e9cc-4f11-b48b-3c919269d6e5"
      },
      "source": [
        "plt.bar(value,count) #,color=\"bgrcmyk\")  # 'bgrcmykw"
      ],
      "execution_count": 7,
      "outputs": [
        {
          "output_type": "execute_result",
          "data": {
            "text/plain": [
              "<BarContainer object of 10 artists>"
            ]
          },
          "metadata": {},
          "execution_count": 7
        },
        {
          "output_type": "display_data",
          "data": {
            "image/png": "[encoded data removed]",
            "text/plain": [
              "<Figure size 432x288 with 1 Axes>"
            ]
          },
          "metadata": {
            "needs_background": "light"
          }
        }
      ]
    },
    {
      "cell_type": "markdown",
      "metadata": {
        "id": "vJOiAMJ5Jpnq"
      },
      "source": [
        "> [Python 그래픽스](https://datascienceschool.net/01%20python/05.01%20%EC%8B%9C%EA%B0%81%ED%99%94%20%ED%8C%A8%ED%82%A4%EC%A7%80%20%EB%A7%B7%ED%94%8C%EB%A1%AF%EB%A6%AC%EB%B8%8C%20%EC%86%8C%EA%B0%9C.html)\n"
      ]
    },
    {
      "cell_type": "code",
      "metadata": {
        "id": "zWcu1ISPYqHA",
        "colab": {
          "base_uri": "https://localhost:8080/",
          "height": 406
        },
        "outputId": "6f8753e1-5b79-4abe-c506-c746165ab302"
      },
      "source": [
        "plt.figure(figsize=(12,5))\n",
        "\n",
        "plt.subplot(131).set_title(\"Histogram\")  \n",
        "plt.xlabel('number') \n",
        "plt.ylabel('count') \n",
        "plt.hist(n1000)\n",
        "\n",
        "plt.subplot(132).set_title(\"Bar\")\n",
        "plt.xlabel('number')\n",
        "plt.bar(value,count,color=\"bgrcmyk\")\n",
        "\n",
        "plt.subplot(133).set_title(\"Line\") \n",
        "plt.xlabel('number') \n",
        "plt.plot(value,count,'k-',marker='D',ms=10,markerfacecolor='yellow', markeredgecolor='y')\n",
        "\n",
        "plt.suptitle(\"Histogram & Bar & Line\", fontweight=\"bold\")\n",
        "plt.show()"
      ],
      "execution_count": 24,
      "outputs": [
        {
          "output_type": "stream",
          "name": "stderr",
          "text": [
            "/usr/local/lib/python3.7/dist-packages/ipykernel_launcher.py:10: MatplotlibDeprecationWarning: Using a string of single character colors as a color sequence is deprecated. Use an explicit list instead.\n",
            "  # Remove the CWD from sys.path while we load stuff.\n"
          ]
        },
        {
          "output_type": "display_data",
          "data": {
            "image/png": "[encoded data removed]",
            "text/plain": [
              "<Figure size 864x360 with 3 Axes>"
            ]
          },
          "metadata": {
            "needs_background": "light"
          }
        }
      ]
    }
  ]
}