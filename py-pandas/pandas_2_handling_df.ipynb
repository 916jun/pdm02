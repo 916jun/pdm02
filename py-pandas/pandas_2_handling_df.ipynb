{
  "nbformat": 4,
  "nbformat_minor": 0,
  "metadata": {
    "kernelspec": {
      "name": "python3",
      "display_name": "Python 3"
    },
    "language_info": {
      "codemirror_mode": {
        "name": "ipython",
        "version": 3
      },
      "file_extension": ".py",
      "mimetype": "text/x-python",
      "name": "python",
      "nbconvert_exporter": "python",
      "pygments_lexer": "ipython3",
      "version": "3.6.6"
    },
    "colab": {
      "name": "pandas_2_handling_df.ipynb",
      "provenance": [],
      "collapsed_sections": [],
      "include_colab_link": true
    }
  },
  "cells": [
    {
      "cell_type": "markdown",
      "metadata": {
        "id": "view-in-github",
        "colab_type": "text"
      },
      "source": [
        "<a href=\"https://colab.research.google.com/github/916jun/pdm02/blob/main/py-pandas/pandas_2_handling_df.ipynb\" target=\"_parent\"><img src=\"https://colab.research.google.com/assets/colab-badge.svg\" alt=\"Open In Colab\"/></a>"
      ]
    },
    {
      "cell_type": "markdown",
      "metadata": {
        "id": "-a_Ksvwdx5pf"
      },
      "source": [
        "### Python module 3. **pandas**"
      ]
    },
    {
      "cell_type": "markdown",
      "metadata": {
        "id": "P_F0RSPKx5pl"
      },
      "source": [
        "# Using pandas"
      ]
    },
    {
      "cell_type": "markdown",
      "metadata": {
        "id": "FfxMgWUFx5pm"
      },
      "source": [
        "* [10 Minutes to pandas](https://pandas.pydata.org/pandas-docs/stable/10min.html)\n",
        "* [Pandas tutorial with interactive exercises](https://www.kaggle.com/pistak/pandas-tutorial-with-interactive-exercises)"
      ]
    },
    {
      "cell_type": "code",
      "metadata": {
        "id": "2mpGSeRlx5po"
      },
      "source": [
        "import pandas as pd\n",
        "import numpy as np\n",
        "import matplotlib.pyplot as plt\n",
        "# %matplotlib inline  # work for Jupyter notebook or lab"
      ],
      "execution_count": 1,
      "outputs": []
    },
    {
      "cell_type": "markdown",
      "metadata": {
        "id": "wq1nIp3F1fFB"
      },
      "source": [
        "\n",
        "\n",
        "---\n",
        "\n"
      ]
    },
    {
      "cell_type": "markdown",
      "metadata": {
        "id": "D3zoFQ4bx5qh"
      },
      "source": [
        "## [2] Handling DataFrame\n",
        "- head()        데이터프레임의 위 5\n",
        "- tail()        데이터프레임의 아래 5\n",
        "- describe()    각열의 데이터들의 특성\n",
        "- info()        데이터 비교"
      ]
    },
    {
      "cell_type": "code",
      "metadata": {
        "id": "w2eNkCfLx5p-",
        "colab": {
          "base_uri": "https://localhost:8080/"
        },
        "outputId": "b386187b-f2c5-43ea-cc4a-5039a86e99fb"
      },
      "source": [
        "# Creating a DataFrame by passing a NumPy array, with a datetime index and labeled columns:\n",
        "dates = pd.date_range('20210927', periods=6)\n",
        "dates"
      ],
      "execution_count": 2,
      "outputs": [
        {
          "output_type": "execute_result",
          "data": {
            "text/plain": [
              "DatetimeIndex(['2021-09-27', '2021-09-28', '2021-09-29', '2021-09-30',\n",
              "               '2021-10-01', '2021-10-02'],\n",
              "              dtype='datetime64[ns]', freq='D')"
            ]
          },
          "metadata": {},
          "execution_count": 2
        }
      ]
    },
    {
      "cell_type": "code",
      "metadata": {
        "id": "dHwUodTGx5qj",
        "colab": {
          "base_uri": "https://localhost:8080/",
          "height": 238
        },
        "outputId": "bde53267-3de2-41e9-c38d-4e1da4159f91"
      },
      "source": [
        "# head()\n",
        "df = pd.DataFrame(np.random.randn(6,4), index=dates, columns=list('ABCD'))\n",
        "df.head(7)"
      ],
      "execution_count": 6,
      "outputs": [
        {
          "output_type": "execute_result",
          "data": {
            "text/html": [
              "<div>\n",
              "<style scoped>\n",
              "    .dataframe tbody tr th:only-of-type {\n",
              "        vertical-align: middle;\n",
              "    }\n",
              "\n",
              "    .dataframe tbody tr th {\n",
              "        vertical-align: top;\n",
              "    }\n",
              "\n",
              "    .dataframe thead th {\n",
              "        text-align: right;\n",
              "    }\n",
              "</style>\n",
              "<table border=\"1\" class=\"dataframe\">\n",
              "  <thead>\n",
              "    <tr style=\"text-align: right;\">\n",
              "      <th></th>\n",
              "      <th>A</th>\n",
              "      <th>B</th>\n",
              "      <th>C</th>\n",
              "      <th>D</th>\n",
              "    </tr>\n",
              "  </thead>\n",
              "  <tbody>\n",
              "    <tr>\n",
              "      <th>2021-09-27</th>\n",
              "      <td>0.077563</td>\n",
              "      <td>0.228965</td>\n",
              "      <td>-1.192753</td>\n",
              "      <td>-0.178104</td>\n",
              "    </tr>\n",
              "    <tr>\n",
              "      <th>2021-09-28</th>\n",
              "      <td>-0.875712</td>\n",
              "      <td>0.719016</td>\n",
              "      <td>0.341999</td>\n",
              "      <td>0.242796</td>\n",
              "    </tr>\n",
              "    <tr>\n",
              "      <th>2021-09-29</th>\n",
              "      <td>-0.485561</td>\n",
              "      <td>-0.033540</td>\n",
              "      <td>-0.395659</td>\n",
              "      <td>-0.025643</td>\n",
              "    </tr>\n",
              "    <tr>\n",
              "      <th>2021-09-30</th>\n",
              "      <td>-0.190818</td>\n",
              "      <td>0.430146</td>\n",
              "      <td>0.378401</td>\n",
              "      <td>0.944764</td>\n",
              "    </tr>\n",
              "    <tr>\n",
              "      <th>2021-10-01</th>\n",
              "      <td>-0.786489</td>\n",
              "      <td>0.635859</td>\n",
              "      <td>-0.762397</td>\n",
              "      <td>0.918231</td>\n",
              "    </tr>\n",
              "    <tr>\n",
              "      <th>2021-10-02</th>\n",
              "      <td>-0.088824</td>\n",
              "      <td>-0.834998</td>\n",
              "      <td>-1.125804</td>\n",
              "      <td>0.225870</td>\n",
              "    </tr>\n",
              "  </tbody>\n",
              "</table>\n",
              "</div>"
            ],
            "text/plain": [
              "                   A         B         C         D\n",
              "2021-09-27  0.077563  0.228965 -1.192753 -0.178104\n",
              "2021-09-28 -0.875712  0.719016  0.341999  0.242796\n",
              "2021-09-29 -0.485561 -0.033540 -0.395659 -0.025643\n",
              "2021-09-30 -0.190818  0.430146  0.378401  0.944764\n",
              "2021-10-01 -0.786489  0.635859 -0.762397  0.918231\n",
              "2021-10-02 -0.088824 -0.834998 -1.125804  0.225870"
            ]
          },
          "metadata": {},
          "execution_count": 6
        }
      ]
    },
    {
      "cell_type": "code",
      "metadata": {
        "id": "OvYDoBVE1og9",
        "colab": {
          "base_uri": "https://localhost:8080/",
          "height": 112
        },
        "outputId": "032b47e0-181e-49cb-9b60-8e3cd37a6fd8"
      },
      "source": [
        "df.head(2)"
      ],
      "execution_count": 7,
      "outputs": [
        {
          "output_type": "execute_result",
          "data": {
            "text/html": [
              "<div>\n",
              "<style scoped>\n",
              "    .dataframe tbody tr th:only-of-type {\n",
              "        vertical-align: middle;\n",
              "    }\n",
              "\n",
              "    .dataframe tbody tr th {\n",
              "        vertical-align: top;\n",
              "    }\n",
              "\n",
              "    .dataframe thead th {\n",
              "        text-align: right;\n",
              "    }\n",
              "</style>\n",
              "<table border=\"1\" class=\"dataframe\">\n",
              "  <thead>\n",
              "    <tr style=\"text-align: right;\">\n",
              "      <th></th>\n",
              "      <th>A</th>\n",
              "      <th>B</th>\n",
              "      <th>C</th>\n",
              "      <th>D</th>\n",
              "    </tr>\n",
              "  </thead>\n",
              "  <tbody>\n",
              "    <tr>\n",
              "      <th>2021-09-27</th>\n",
              "      <td>0.077563</td>\n",
              "      <td>0.228965</td>\n",
              "      <td>-1.192753</td>\n",
              "      <td>-0.178104</td>\n",
              "    </tr>\n",
              "    <tr>\n",
              "      <th>2021-09-28</th>\n",
              "      <td>-0.875712</td>\n",
              "      <td>0.719016</td>\n",
              "      <td>0.341999</td>\n",
              "      <td>0.242796</td>\n",
              "    </tr>\n",
              "  </tbody>\n",
              "</table>\n",
              "</div>"
            ],
            "text/plain": [
              "                   A         B         C         D\n",
              "2021-09-27  0.077563  0.228965 -1.192753 -0.178104\n",
              "2021-09-28 -0.875712  0.719016  0.341999  0.242796"
            ]
          },
          "metadata": {},
          "execution_count": 7
        }
      ]
    },
    {
      "cell_type": "code",
      "metadata": {
        "id": "LzWwuDWDx5qo",
        "colab": {
          "base_uri": "https://localhost:8080/",
          "height": 143
        },
        "outputId": "1edbd76c-0034-45eb-ce6b-9d34740c4d52"
      },
      "source": [
        "df.tail(3)"
      ],
      "execution_count": 8,
      "outputs": [
        {
          "output_type": "execute_result",
          "data": {
            "text/html": [
              "<div>\n",
              "<style scoped>\n",
              "    .dataframe tbody tr th:only-of-type {\n",
              "        vertical-align: middle;\n",
              "    }\n",
              "\n",
              "    .dataframe tbody tr th {\n",
              "        vertical-align: top;\n",
              "    }\n",
              "\n",
              "    .dataframe thead th {\n",
              "        text-align: right;\n",
              "    }\n",
              "</style>\n",
              "<table border=\"1\" class=\"dataframe\">\n",
              "  <thead>\n",
              "    <tr style=\"text-align: right;\">\n",
              "      <th></th>\n",
              "      <th>A</th>\n",
              "      <th>B</th>\n",
              "      <th>C</th>\n",
              "      <th>D</th>\n",
              "    </tr>\n",
              "  </thead>\n",
              "  <tbody>\n",
              "    <tr>\n",
              "      <th>2021-09-30</th>\n",
              "      <td>-0.190818</td>\n",
              "      <td>0.430146</td>\n",
              "      <td>0.378401</td>\n",
              "      <td>0.944764</td>\n",
              "    </tr>\n",
              "    <tr>\n",
              "      <th>2021-10-01</th>\n",
              "      <td>-0.786489</td>\n",
              "      <td>0.635859</td>\n",
              "      <td>-0.762397</td>\n",
              "      <td>0.918231</td>\n",
              "    </tr>\n",
              "    <tr>\n",
              "      <th>2021-10-02</th>\n",
              "      <td>-0.088824</td>\n",
              "      <td>-0.834998</td>\n",
              "      <td>-1.125804</td>\n",
              "      <td>0.225870</td>\n",
              "    </tr>\n",
              "  </tbody>\n",
              "</table>\n",
              "</div>"
            ],
            "text/plain": [
              "                   A         B         C         D\n",
              "2021-09-30 -0.190818  0.430146  0.378401  0.944764\n",
              "2021-10-01 -0.786489  0.635859 -0.762397  0.918231\n",
              "2021-10-02 -0.088824 -0.834998 -1.125804  0.225870"
            ]
          },
          "metadata": {},
          "execution_count": 8
        }
      ]
    },
    {
      "cell_type": "code",
      "metadata": {
        "id": "rJLH024Zx5qs",
        "colab": {
          "base_uri": "https://localhost:8080/"
        },
        "outputId": "b20ef10e-779b-4240-96c0-54932e848e4a"
      },
      "source": [
        "# Display the index, columns, and the underlying NumPy data:\n",
        "df.index"
      ],
      "execution_count": 10,
      "outputs": [
        {
          "output_type": "execute_result",
          "data": {
            "text/plain": [
              "DatetimeIndex(['2021-09-27', '2021-09-28', '2021-09-29', '2021-09-30',\n",
              "               '2021-10-01', '2021-10-02'],\n",
              "              dtype='datetime64[ns]', freq='D')"
            ]
          },
          "metadata": {},
          "execution_count": 10
        }
      ]
    },
    {
      "cell_type": "code",
      "metadata": {
        "id": "edrGpQlLc0dt",
        "colab": {
          "base_uri": "https://localhost:8080/"
        },
        "outputId": "8e9814ff-177a-48f0-aea0-cb8885dc3818"
      },
      "source": [
        "df.columns"
      ],
      "execution_count": 11,
      "outputs": [
        {
          "output_type": "execute_result",
          "data": {
            "text/plain": [
              "Index(['A', 'B', 'C', 'D'], dtype='object')"
            ]
          },
          "metadata": {},
          "execution_count": 11
        }
      ]
    },
    {
      "cell_type": "code",
      "metadata": {
        "id": "TB-CHW85x5rA",
        "colab": {
          "base_uri": "https://localhost:8080/"
        },
        "outputId": "9481342a-9092-4a68-d22c-fb4015b4658b"
      },
      "source": [
        "df.info()"
      ],
      "execution_count": 9,
      "outputs": [
        {
          "output_type": "stream",
          "name": "stdout",
          "text": [
            "<class 'pandas.core.frame.DataFrame'>\n",
            "DatetimeIndex: 6 entries, 2021-09-27 to 2021-10-02\n",
            "Freq: D\n",
            "Data columns (total 4 columns):\n",
            " #   Column  Non-Null Count  Dtype  \n",
            "---  ------  --------------  -----  \n",
            " 0   A       6 non-null      float64\n",
            " 1   B       6 non-null      float64\n",
            " 2   C       6 non-null      float64\n",
            " 3   D       6 non-null      float64\n",
            "dtypes: float64(4)\n",
            "memory usage: 240.0 bytes\n"
          ]
        }
      ]
    },
    {
      "cell_type": "code",
      "metadata": {
        "id": "PEzVmjUAx5q7",
        "colab": {
          "base_uri": "https://localhost:8080/",
          "height": 300
        },
        "outputId": "6256e529-0ffa-4a9d-c7dc-ab22e509a8de"
      },
      "source": [
        "# describe() shows a quick statistic summary of your data:\n",
        "df.describe()"
      ],
      "execution_count": 12,
      "outputs": [
        {
          "output_type": "execute_result",
          "data": {
            "text/html": [
              "<div>\n",
              "<style scoped>\n",
              "    .dataframe tbody tr th:only-of-type {\n",
              "        vertical-align: middle;\n",
              "    }\n",
              "\n",
              "    .dataframe tbody tr th {\n",
              "        vertical-align: top;\n",
              "    }\n",
              "\n",
              "    .dataframe thead th {\n",
              "        text-align: right;\n",
              "    }\n",
              "</style>\n",
              "<table border=\"1\" class=\"dataframe\">\n",
              "  <thead>\n",
              "    <tr style=\"text-align: right;\">\n",
              "      <th></th>\n",
              "      <th>A</th>\n",
              "      <th>B</th>\n",
              "      <th>C</th>\n",
              "      <th>D</th>\n",
              "    </tr>\n",
              "  </thead>\n",
              "  <tbody>\n",
              "    <tr>\n",
              "      <th>count</th>\n",
              "      <td>6.000000</td>\n",
              "      <td>6.000000</td>\n",
              "      <td>6.000000</td>\n",
              "      <td>6.000000</td>\n",
              "    </tr>\n",
              "    <tr>\n",
              "      <th>mean</th>\n",
              "      <td>-0.391640</td>\n",
              "      <td>0.190908</td>\n",
              "      <td>-0.459369</td>\n",
              "      <td>0.354652</td>\n",
              "    </tr>\n",
              "    <tr>\n",
              "      <th>std</th>\n",
              "      <td>0.387616</td>\n",
              "      <td>0.572437</td>\n",
              "      <td>0.695977</td>\n",
              "      <td>0.474005</td>\n",
              "    </tr>\n",
              "    <tr>\n",
              "      <th>min</th>\n",
              "      <td>-0.875712</td>\n",
              "      <td>-0.834998</td>\n",
              "      <td>-1.192753</td>\n",
              "      <td>-0.178104</td>\n",
              "    </tr>\n",
              "    <tr>\n",
              "      <th>25%</th>\n",
              "      <td>-0.711257</td>\n",
              "      <td>0.032087</td>\n",
              "      <td>-1.034953</td>\n",
              "      <td>0.037235</td>\n",
              "    </tr>\n",
              "    <tr>\n",
              "      <th>50%</th>\n",
              "      <td>-0.338189</td>\n",
              "      <td>0.329556</td>\n",
              "      <td>-0.579028</td>\n",
              "      <td>0.234333</td>\n",
              "    </tr>\n",
              "    <tr>\n",
              "      <th>75%</th>\n",
              "      <td>-0.114322</td>\n",
              "      <td>0.584431</td>\n",
              "      <td>0.157584</td>\n",
              "      <td>0.749372</td>\n",
              "    </tr>\n",
              "    <tr>\n",
              "      <th>max</th>\n",
              "      <td>0.077563</td>\n",
              "      <td>0.719016</td>\n",
              "      <td>0.378401</td>\n",
              "      <td>0.944764</td>\n",
              "    </tr>\n",
              "  </tbody>\n",
              "</table>\n",
              "</div>"
            ],
            "text/plain": [
              "              A         B         C         D\n",
              "count  6.000000  6.000000  6.000000  6.000000\n",
              "mean  -0.391640  0.190908 -0.459369  0.354652\n",
              "std    0.387616  0.572437  0.695977  0.474005\n",
              "min   -0.875712 -0.834998 -1.192753 -0.178104\n",
              "25%   -0.711257  0.032087 -1.034953  0.037235\n",
              "50%   -0.338189  0.329556 -0.579028  0.234333\n",
              "75%   -0.114322  0.584431  0.157584  0.749372\n",
              "max    0.077563  0.719016  0.378401  0.944764"
            ]
          },
          "metadata": {},
          "execution_count": 12
        }
      ]
    },
    {
      "cell_type": "code",
      "metadata": {
        "id": "ExhpF6H8dDKo",
        "colab": {
          "base_uri": "https://localhost:8080/",
          "height": 175
        },
        "outputId": "a34b720c-4bba-448c-d8e7-7261a32fa0d5"
      },
      "source": [
        "df.describe().T      #T전치행렬"
      ],
      "execution_count": 16,
      "outputs": [
        {
          "output_type": "execute_result",
          "data": {
            "text/html": [
              "<div>\n",
              "<style scoped>\n",
              "    .dataframe tbody tr th:only-of-type {\n",
              "        vertical-align: middle;\n",
              "    }\n",
              "\n",
              "    .dataframe tbody tr th {\n",
              "        vertical-align: top;\n",
              "    }\n",
              "\n",
              "    .dataframe thead th {\n",
              "        text-align: right;\n",
              "    }\n",
              "</style>\n",
              "<table border=\"1\" class=\"dataframe\">\n",
              "  <thead>\n",
              "    <tr style=\"text-align: right;\">\n",
              "      <th></th>\n",
              "      <th>count</th>\n",
              "      <th>mean</th>\n",
              "      <th>std</th>\n",
              "      <th>min</th>\n",
              "      <th>25%</th>\n",
              "      <th>50%</th>\n",
              "      <th>75%</th>\n",
              "      <th>max</th>\n",
              "    </tr>\n",
              "  </thead>\n",
              "  <tbody>\n",
              "    <tr>\n",
              "      <th>A</th>\n",
              "      <td>6.0</td>\n",
              "      <td>-0.391640</td>\n",
              "      <td>0.387616</td>\n",
              "      <td>-0.875712</td>\n",
              "      <td>-0.711257</td>\n",
              "      <td>-0.338189</td>\n",
              "      <td>-0.114322</td>\n",
              "      <td>0.077563</td>\n",
              "    </tr>\n",
              "    <tr>\n",
              "      <th>B</th>\n",
              "      <td>6.0</td>\n",
              "      <td>0.190908</td>\n",
              "      <td>0.572437</td>\n",
              "      <td>-0.834998</td>\n",
              "      <td>0.032087</td>\n",
              "      <td>0.329556</td>\n",
              "      <td>0.584431</td>\n",
              "      <td>0.719016</td>\n",
              "    </tr>\n",
              "    <tr>\n",
              "      <th>C</th>\n",
              "      <td>6.0</td>\n",
              "      <td>-0.459369</td>\n",
              "      <td>0.695977</td>\n",
              "      <td>-1.192753</td>\n",
              "      <td>-1.034953</td>\n",
              "      <td>-0.579028</td>\n",
              "      <td>0.157584</td>\n",
              "      <td>0.378401</td>\n",
              "    </tr>\n",
              "    <tr>\n",
              "      <th>D</th>\n",
              "      <td>6.0</td>\n",
              "      <td>0.354652</td>\n",
              "      <td>0.474005</td>\n",
              "      <td>-0.178104</td>\n",
              "      <td>0.037235</td>\n",
              "      <td>0.234333</td>\n",
              "      <td>0.749372</td>\n",
              "      <td>0.944764</td>\n",
              "    </tr>\n",
              "  </tbody>\n",
              "</table>\n",
              "</div>"
            ],
            "text/plain": [
              "   count      mean       std       min       25%       50%       75%       max\n",
              "A    6.0 -0.391640  0.387616 -0.875712 -0.711257 -0.338189 -0.114322  0.077563\n",
              "B    6.0  0.190908  0.572437 -0.834998  0.032087  0.329556  0.584431  0.719016\n",
              "C    6.0 -0.459369  0.695977 -1.192753 -1.034953 -0.579028  0.157584  0.378401\n",
              "D    6.0  0.354652  0.474005 -0.178104  0.037235  0.234333  0.749372  0.944764"
            ]
          },
          "metadata": {},
          "execution_count": 16
        }
      ]
    },
    {
      "cell_type": "code",
      "metadata": {
        "colab": {
          "base_uri": "https://localhost:8080/",
          "height": 238
        },
        "id": "WawdGPPgzXBe",
        "outputId": "f0f88322-b27e-407c-f9c8-3219b85e1618"
      },
      "source": [
        "df"
      ],
      "execution_count": 17,
      "outputs": [
        {
          "output_type": "execute_result",
          "data": {
            "text/html": [
              "<div>\n",
              "<style scoped>\n",
              "    .dataframe tbody tr th:only-of-type {\n",
              "        vertical-align: middle;\n",
              "    }\n",
              "\n",
              "    .dataframe tbody tr th {\n",
              "        vertical-align: top;\n",
              "    }\n",
              "\n",
              "    .dataframe thead th {\n",
              "        text-align: right;\n",
              "    }\n",
              "</style>\n",
              "<table border=\"1\" class=\"dataframe\">\n",
              "  <thead>\n",
              "    <tr style=\"text-align: right;\">\n",
              "      <th></th>\n",
              "      <th>A</th>\n",
              "      <th>B</th>\n",
              "      <th>C</th>\n",
              "      <th>D</th>\n",
              "    </tr>\n",
              "  </thead>\n",
              "  <tbody>\n",
              "    <tr>\n",
              "      <th>2021-09-27</th>\n",
              "      <td>0.077563</td>\n",
              "      <td>0.228965</td>\n",
              "      <td>-1.192753</td>\n",
              "      <td>-0.178104</td>\n",
              "    </tr>\n",
              "    <tr>\n",
              "      <th>2021-09-28</th>\n",
              "      <td>-0.875712</td>\n",
              "      <td>0.719016</td>\n",
              "      <td>0.341999</td>\n",
              "      <td>0.242796</td>\n",
              "    </tr>\n",
              "    <tr>\n",
              "      <th>2021-09-29</th>\n",
              "      <td>-0.485561</td>\n",
              "      <td>-0.033540</td>\n",
              "      <td>-0.395659</td>\n",
              "      <td>-0.025643</td>\n",
              "    </tr>\n",
              "    <tr>\n",
              "      <th>2021-09-30</th>\n",
              "      <td>-0.190818</td>\n",
              "      <td>0.430146</td>\n",
              "      <td>0.378401</td>\n",
              "      <td>0.944764</td>\n",
              "    </tr>\n",
              "    <tr>\n",
              "      <th>2021-10-01</th>\n",
              "      <td>-0.786489</td>\n",
              "      <td>0.635859</td>\n",
              "      <td>-0.762397</td>\n",
              "      <td>0.918231</td>\n",
              "    </tr>\n",
              "    <tr>\n",
              "      <th>2021-10-02</th>\n",
              "      <td>-0.088824</td>\n",
              "      <td>-0.834998</td>\n",
              "      <td>-1.125804</td>\n",
              "      <td>0.225870</td>\n",
              "    </tr>\n",
              "  </tbody>\n",
              "</table>\n",
              "</div>"
            ],
            "text/plain": [
              "                   A         B         C         D\n",
              "2021-09-27  0.077563  0.228965 -1.192753 -0.178104\n",
              "2021-09-28 -0.875712  0.719016  0.341999  0.242796\n",
              "2021-09-29 -0.485561 -0.033540 -0.395659 -0.025643\n",
              "2021-09-30 -0.190818  0.430146  0.378401  0.944764\n",
              "2021-10-01 -0.786489  0.635859 -0.762397  0.918231\n",
              "2021-10-02 -0.088824 -0.834998 -1.125804  0.225870"
            ]
          },
          "metadata": {},
          "execution_count": 17
        }
      ]
    },
    {
      "cell_type": "code",
      "metadata": {
        "id": "Br9VwFVex5rE",
        "colab": {
          "base_uri": "https://localhost:8080/",
          "height": 175
        },
        "outputId": "25736866-054b-4f59-f0fe-7d64c0b83f9a"
      },
      "source": [
        "# Transposing your dataframe:\n",
        "df.T"
      ],
      "execution_count": 15,
      "outputs": [
        {
          "output_type": "execute_result",
          "data": {
            "text/html": [
              "<div>\n",
              "<style scoped>\n",
              "    .dataframe tbody tr th:only-of-type {\n",
              "        vertical-align: middle;\n",
              "    }\n",
              "\n",
              "    .dataframe tbody tr th {\n",
              "        vertical-align: top;\n",
              "    }\n",
              "\n",
              "    .dataframe thead th {\n",
              "        text-align: right;\n",
              "    }\n",
              "</style>\n",
              "<table border=\"1\" class=\"dataframe\">\n",
              "  <thead>\n",
              "    <tr style=\"text-align: right;\">\n",
              "      <th></th>\n",
              "      <th>2021-09-27</th>\n",
              "      <th>2021-09-28</th>\n",
              "      <th>2021-09-29</th>\n",
              "      <th>2021-09-30</th>\n",
              "      <th>2021-10-01</th>\n",
              "      <th>2021-10-02</th>\n",
              "    </tr>\n",
              "  </thead>\n",
              "  <tbody>\n",
              "    <tr>\n",
              "      <th>A</th>\n",
              "      <td>0.077563</td>\n",
              "      <td>-0.875712</td>\n",
              "      <td>-0.485561</td>\n",
              "      <td>-0.190818</td>\n",
              "      <td>-0.786489</td>\n",
              "      <td>-0.088824</td>\n",
              "    </tr>\n",
              "    <tr>\n",
              "      <th>B</th>\n",
              "      <td>0.228965</td>\n",
              "      <td>0.719016</td>\n",
              "      <td>-0.033540</td>\n",
              "      <td>0.430146</td>\n",
              "      <td>0.635859</td>\n",
              "      <td>-0.834998</td>\n",
              "    </tr>\n",
              "    <tr>\n",
              "      <th>C</th>\n",
              "      <td>-1.192753</td>\n",
              "      <td>0.341999</td>\n",
              "      <td>-0.395659</td>\n",
              "      <td>0.378401</td>\n",
              "      <td>-0.762397</td>\n",
              "      <td>-1.125804</td>\n",
              "    </tr>\n",
              "    <tr>\n",
              "      <th>D</th>\n",
              "      <td>-0.178104</td>\n",
              "      <td>0.242796</td>\n",
              "      <td>-0.025643</td>\n",
              "      <td>0.944764</td>\n",
              "      <td>0.918231</td>\n",
              "      <td>0.225870</td>\n",
              "    </tr>\n",
              "  </tbody>\n",
              "</table>\n",
              "</div>"
            ],
            "text/plain": [
              "   2021-09-27  2021-09-28  2021-09-29  2021-09-30  2021-10-01  2021-10-02\n",
              "A    0.077563   -0.875712   -0.485561   -0.190818   -0.786489   -0.088824\n",
              "B    0.228965    0.719016   -0.033540    0.430146    0.635859   -0.834998\n",
              "C   -1.192753    0.341999   -0.395659    0.378401   -0.762397   -1.125804\n",
              "D   -0.178104    0.242796   -0.025643    0.944764    0.918231    0.225870"
            ]
          },
          "metadata": {},
          "execution_count": 15
        }
      ]
    },
    {
      "cell_type": "code",
      "metadata": {
        "id": "vkg1gQUVLoy9",
        "colab": {
          "base_uri": "https://localhost:8080/"
        },
        "outputId": "9532fc68-a694-4a5b-ab79-3f7f0600b4bc"
      },
      "source": [
        "df.T.index"
      ],
      "execution_count": 18,
      "outputs": [
        {
          "output_type": "execute_result",
          "data": {
            "text/plain": [
              "Index(['A', 'B', 'C', 'D'], dtype='object')"
            ]
          },
          "metadata": {},
          "execution_count": 18
        }
      ]
    },
    {
      "cell_type": "markdown",
      "metadata": {
        "id": "A4lHGd4px5rU"
      },
      "source": [
        "### Sorting"
      ]
    },
    {
      "cell_type": "markdown",
      "metadata": {
        "id": "jlXuIbzD6oUD"
      },
      "source": [
        "#### Sort by index\n",
        "- sort_index(axis=0, ascending=False)\n",
        "- sort_index(axis=1, ascending=False)\n",
        "\n",
        "> Axis=0 Column-Wise Operation (수직으로)\n",
        "\n",
        "> Axis=1 Row-Wise Operation (수평으로)"
      ]
    },
    {
      "cell_type": "code",
      "metadata": {
        "colab": {
          "base_uri": "https://localhost:8080/",
          "height": 238
        },
        "id": "7_JympR82OZ9",
        "outputId": "95741acf-6c2d-43cf-c733-809fd6303e69"
      },
      "source": [
        "df"
      ],
      "execution_count": 21,
      "outputs": [
        {
          "output_type": "execute_result",
          "data": {
            "text/html": [
              "<div>\n",
              "<style scoped>\n",
              "    .dataframe tbody tr th:only-of-type {\n",
              "        vertical-align: middle;\n",
              "    }\n",
              "\n",
              "    .dataframe tbody tr th {\n",
              "        vertical-align: top;\n",
              "    }\n",
              "\n",
              "    .dataframe thead th {\n",
              "        text-align: right;\n",
              "    }\n",
              "</style>\n",
              "<table border=\"1\" class=\"dataframe\">\n",
              "  <thead>\n",
              "    <tr style=\"text-align: right;\">\n",
              "      <th></th>\n",
              "      <th>A</th>\n",
              "      <th>B</th>\n",
              "      <th>C</th>\n",
              "      <th>D</th>\n",
              "    </tr>\n",
              "  </thead>\n",
              "  <tbody>\n",
              "    <tr>\n",
              "      <th>2021-09-27</th>\n",
              "      <td>0.077563</td>\n",
              "      <td>0.228965</td>\n",
              "      <td>-1.192753</td>\n",
              "      <td>-0.178104</td>\n",
              "    </tr>\n",
              "    <tr>\n",
              "      <th>2021-09-28</th>\n",
              "      <td>-0.875712</td>\n",
              "      <td>0.719016</td>\n",
              "      <td>0.341999</td>\n",
              "      <td>0.242796</td>\n",
              "    </tr>\n",
              "    <tr>\n",
              "      <th>2021-09-29</th>\n",
              "      <td>-0.485561</td>\n",
              "      <td>-0.033540</td>\n",
              "      <td>-0.395659</td>\n",
              "      <td>-0.025643</td>\n",
              "    </tr>\n",
              "    <tr>\n",
              "      <th>2021-09-30</th>\n",
              "      <td>-0.190818</td>\n",
              "      <td>0.430146</td>\n",
              "      <td>0.378401</td>\n",
              "      <td>0.944764</td>\n",
              "    </tr>\n",
              "    <tr>\n",
              "      <th>2021-10-01</th>\n",
              "      <td>-0.786489</td>\n",
              "      <td>0.635859</td>\n",
              "      <td>-0.762397</td>\n",
              "      <td>0.918231</td>\n",
              "    </tr>\n",
              "    <tr>\n",
              "      <th>2021-10-02</th>\n",
              "      <td>-0.088824</td>\n",
              "      <td>-0.834998</td>\n",
              "      <td>-1.125804</td>\n",
              "      <td>0.225870</td>\n",
              "    </tr>\n",
              "  </tbody>\n",
              "</table>\n",
              "</div>"
            ],
            "text/plain": [
              "                   A         B         C         D\n",
              "2021-09-27  0.077563  0.228965 -1.192753 -0.178104\n",
              "2021-09-28 -0.875712  0.719016  0.341999  0.242796\n",
              "2021-09-29 -0.485561 -0.033540 -0.395659 -0.025643\n",
              "2021-09-30 -0.190818  0.430146  0.378401  0.944764\n",
              "2021-10-01 -0.786489  0.635859 -0.762397  0.918231\n",
              "2021-10-02 -0.088824 -0.834998 -1.125804  0.225870"
            ]
          },
          "metadata": {},
          "execution_count": 21
        }
      ]
    },
    {
      "cell_type": "code",
      "metadata": {
        "id": "RM9Rlk64x5rW",
        "colab": {
          "base_uri": "https://localhost:8080/"
        },
        "outputId": "9849c1f6-9da1-4c92-b1f2-22b319351ee6"
      },
      "source": [
        "# Sorting by an axis:\n",
        "df, df.sort_index(axis=0 , ascending=False)"
      ],
      "execution_count": 24,
      "outputs": [
        {
          "output_type": "execute_result",
          "data": {
            "text/plain": [
              "(                   A         B         C         D\n",
              " 2021-09-27  0.077563  0.228965 -1.192753 -0.178104\n",
              " 2021-09-28 -0.875712  0.719016  0.341999  0.242796\n",
              " 2021-09-29 -0.485561 -0.033540 -0.395659 -0.025643\n",
              " 2021-09-30 -0.190818  0.430146  0.378401  0.944764\n",
              " 2021-10-01 -0.786489  0.635859 -0.762397  0.918231\n",
              " 2021-10-02 -0.088824 -0.834998 -1.125804  0.225870,\n",
              "                    A         B         C         D\n",
              " 2021-10-02 -0.088824 -0.834998 -1.125804  0.225870\n",
              " 2021-10-01 -0.786489  0.635859 -0.762397  0.918231\n",
              " 2021-09-30 -0.190818  0.430146  0.378401  0.944764\n",
              " 2021-09-29 -0.485561 -0.033540 -0.395659 -0.025643\n",
              " 2021-09-28 -0.875712  0.719016  0.341999  0.242796\n",
              " 2021-09-27  0.077563  0.228965 -1.192753 -0.178104)"
            ]
          },
          "metadata": {},
          "execution_count": 24
        }
      ]
    },
    {
      "cell_type": "code",
      "metadata": {
        "id": "w_7d__Hsx5rb",
        "colab": {
          "base_uri": "https://localhost:8080/"
        },
        "outputId": "474adc9b-32c6-4bca-fe83-c35189a11d9b"
      },
      "source": [
        "df,df.sort_index(axis=1) #ascending=False)"
      ],
      "execution_count": 26,
      "outputs": [
        {
          "output_type": "execute_result",
          "data": {
            "text/plain": [
              "(                   A         B         C         D\n",
              " 2021-09-27  0.077563  0.228965 -1.192753 -0.178104\n",
              " 2021-09-28 -0.875712  0.719016  0.341999  0.242796\n",
              " 2021-09-29 -0.485561 -0.033540 -0.395659 -0.025643\n",
              " 2021-09-30 -0.190818  0.430146  0.378401  0.944764\n",
              " 2021-10-01 -0.786489  0.635859 -0.762397  0.918231\n",
              " 2021-10-02 -0.088824 -0.834998 -1.125804  0.225870,\n",
              "                    A         B         C         D\n",
              " 2021-09-27  0.077563  0.228965 -1.192753 -0.178104\n",
              " 2021-09-28 -0.875712  0.719016  0.341999  0.242796\n",
              " 2021-09-29 -0.485561 -0.033540 -0.395659 -0.025643\n",
              " 2021-09-30 -0.190818  0.430146  0.378401  0.944764\n",
              " 2021-10-01 -0.786489  0.635859 -0.762397  0.918231\n",
              " 2021-10-02 -0.088824 -0.834998 -1.125804  0.225870)"
            ]
          },
          "metadata": {},
          "execution_count": 26
        }
      ]
    },
    {
      "cell_type": "markdown",
      "metadata": {
        "id": "8J59I-KW6yNK"
      },
      "source": [
        "#### Sort by value\n",
        "- sort_values(by='column')"
      ]
    },
    {
      "cell_type": "code",
      "metadata": {
        "id": "VJw7_sTLx5rg",
        "colab": {
          "base_uri": "https://localhost:8080/"
        },
        "outputId": "9ab51546-38f7-4b07-af9e-23979b5467ac"
      },
      "source": [
        "# Sorting by values:\n",
        "df,df.sort_values(by='B') #, ascending=False)"
      ],
      "execution_count": 31,
      "outputs": [
        {
          "output_type": "execute_result",
          "data": {
            "text/plain": [
              "(                   A         B         C         D\n",
              " 2021-09-27  0.077563  0.228965 -1.192753 -0.178104\n",
              " 2021-09-28 -0.875712  0.719016  0.341999  0.242796\n",
              " 2021-09-29 -0.485561 -0.033540 -0.395659 -0.025643\n",
              " 2021-09-30 -0.190818  0.430146  0.378401  0.944764\n",
              " 2021-10-01 -0.786489  0.635859 -0.762397  0.918231\n",
              " 2021-10-02 -0.088824 -0.834998 -1.125804  0.225870,\n",
              "                    A         B         C         D\n",
              " 2021-10-02 -0.088824 -0.834998 -1.125804  0.225870\n",
              " 2021-09-29 -0.485561 -0.033540 -0.395659 -0.025643\n",
              " 2021-09-27  0.077563  0.228965 -1.192753 -0.178104\n",
              " 2021-09-30 -0.190818  0.430146  0.378401  0.944764\n",
              " 2021-10-01 -0.786489  0.635859 -0.762397  0.918231\n",
              " 2021-09-28 -0.875712  0.719016  0.341999  0.242796)"
            ]
          },
          "metadata": {},
          "execution_count": 31
        }
      ]
    },
    {
      "cell_type": "markdown",
      "metadata": {
        "id": "rBW0-saPPGbN"
      },
      "source": [
        "## indexing and slicing of DataFrame"
      ]
    },
    {
      "cell_type": "markdown",
      "metadata": {
        "id": "oH89Wa-ix5rq"
      },
      "source": [
        "#### Selecting data by indexing and slicing\n",
        "- indexing\n",
        "- slicing\n"
      ]
    },
    {
      "cell_type": "code",
      "metadata": {
        "id": "YufIBMYzx5ru",
        "colab": {
          "base_uri": "https://localhost:8080/"
        },
        "outputId": "20f6db4e-9c23-4b49-e83d-b10a62e7e55e"
      },
      "source": [
        "# Selecting a single column, which yields a Series\n",
        "df['A']"
      ],
      "execution_count": 29,
      "outputs": [
        {
          "output_type": "execute_result",
          "data": {
            "text/plain": [
              "2021-09-27    0.077563\n",
              "2021-09-28   -0.875712\n",
              "2021-09-29   -0.485561\n",
              "2021-09-30   -0.190818\n",
              "2021-10-01   -0.786489\n",
              "2021-10-02   -0.088824\n",
              "Freq: D, Name: A, dtype: float64"
            ]
          },
          "metadata": {},
          "execution_count": 29
        }
      ]
    },
    {
      "cell_type": "code",
      "metadata": {
        "id": "ijxuNMS5x5r3",
        "colab": {
          "base_uri": "https://localhost:8080/",
          "height": 143
        },
        "outputId": "4c93aa2a-c537-466d-91bc-8b4a9a469166"
      },
      "source": [
        "# Selecting via [], which slices the rows.\n",
        "df[0:3]"
      ],
      "execution_count": 32,
      "outputs": [
        {
          "output_type": "execute_result",
          "data": {
            "text/html": [
              "<div>\n",
              "<style scoped>\n",
              "    .dataframe tbody tr th:only-of-type {\n",
              "        vertical-align: middle;\n",
              "    }\n",
              "\n",
              "    .dataframe tbody tr th {\n",
              "        vertical-align: top;\n",
              "    }\n",
              "\n",
              "    .dataframe thead th {\n",
              "        text-align: right;\n",
              "    }\n",
              "</style>\n",
              "<table border=\"1\" class=\"dataframe\">\n",
              "  <thead>\n",
              "    <tr style=\"text-align: right;\">\n",
              "      <th></th>\n",
              "      <th>A</th>\n",
              "      <th>B</th>\n",
              "      <th>C</th>\n",
              "      <th>D</th>\n",
              "    </tr>\n",
              "  </thead>\n",
              "  <tbody>\n",
              "    <tr>\n",
              "      <th>2021-09-27</th>\n",
              "      <td>0.077563</td>\n",
              "      <td>0.228965</td>\n",
              "      <td>-1.192753</td>\n",
              "      <td>-0.178104</td>\n",
              "    </tr>\n",
              "    <tr>\n",
              "      <th>2021-09-28</th>\n",
              "      <td>-0.875712</td>\n",
              "      <td>0.719016</td>\n",
              "      <td>0.341999</td>\n",
              "      <td>0.242796</td>\n",
              "    </tr>\n",
              "    <tr>\n",
              "      <th>2021-09-29</th>\n",
              "      <td>-0.485561</td>\n",
              "      <td>-0.033540</td>\n",
              "      <td>-0.395659</td>\n",
              "      <td>-0.025643</td>\n",
              "    </tr>\n",
              "  </tbody>\n",
              "</table>\n",
              "</div>"
            ],
            "text/plain": [
              "                   A         B         C         D\n",
              "2021-09-27  0.077563  0.228965 -1.192753 -0.178104\n",
              "2021-09-28 -0.875712  0.719016  0.341999  0.242796\n",
              "2021-09-29 -0.485561 -0.033540 -0.395659 -0.025643"
            ]
          },
          "metadata": {},
          "execution_count": 32
        }
      ]
    },
    {
      "cell_type": "code",
      "metadata": {
        "id": "T8XP7m9nx5r9",
        "colab": {
          "base_uri": "https://localhost:8080/",
          "height": 206
        },
        "outputId": "b7549392-9d68-4f38-e4f6-2101f2ef149d"
      },
      "source": [
        "df['20210927':'20211001'] # 인덱스가 아닌 값인 경우는 지정된 범위가 다 선택된다."
      ],
      "execution_count": 35,
      "outputs": [
        {
          "output_type": "execute_result",
          "data": {
            "text/html": [
              "<div>\n",
              "<style scoped>\n",
              "    .dataframe tbody tr th:only-of-type {\n",
              "        vertical-align: middle;\n",
              "    }\n",
              "\n",
              "    .dataframe tbody tr th {\n",
              "        vertical-align: top;\n",
              "    }\n",
              "\n",
              "    .dataframe thead th {\n",
              "        text-align: right;\n",
              "    }\n",
              "</style>\n",
              "<table border=\"1\" class=\"dataframe\">\n",
              "  <thead>\n",
              "    <tr style=\"text-align: right;\">\n",
              "      <th></th>\n",
              "      <th>A</th>\n",
              "      <th>B</th>\n",
              "      <th>C</th>\n",
              "      <th>D</th>\n",
              "    </tr>\n",
              "  </thead>\n",
              "  <tbody>\n",
              "    <tr>\n",
              "      <th>2021-09-27</th>\n",
              "      <td>0.077563</td>\n",
              "      <td>0.228965</td>\n",
              "      <td>-1.192753</td>\n",
              "      <td>-0.178104</td>\n",
              "    </tr>\n",
              "    <tr>\n",
              "      <th>2021-09-28</th>\n",
              "      <td>-0.875712</td>\n",
              "      <td>0.719016</td>\n",
              "      <td>0.341999</td>\n",
              "      <td>0.242796</td>\n",
              "    </tr>\n",
              "    <tr>\n",
              "      <th>2021-09-29</th>\n",
              "      <td>-0.485561</td>\n",
              "      <td>-0.033540</td>\n",
              "      <td>-0.395659</td>\n",
              "      <td>-0.025643</td>\n",
              "    </tr>\n",
              "    <tr>\n",
              "      <th>2021-09-30</th>\n",
              "      <td>-0.190818</td>\n",
              "      <td>0.430146</td>\n",
              "      <td>0.378401</td>\n",
              "      <td>0.944764</td>\n",
              "    </tr>\n",
              "    <tr>\n",
              "      <th>2021-10-01</th>\n",
              "      <td>-0.786489</td>\n",
              "      <td>0.635859</td>\n",
              "      <td>-0.762397</td>\n",
              "      <td>0.918231</td>\n",
              "    </tr>\n",
              "  </tbody>\n",
              "</table>\n",
              "</div>"
            ],
            "text/plain": [
              "                   A         B         C         D\n",
              "2021-09-27  0.077563  0.228965 -1.192753 -0.178104\n",
              "2021-09-28 -0.875712  0.719016  0.341999  0.242796\n",
              "2021-09-29 -0.485561 -0.033540 -0.395659 -0.025643\n",
              "2021-09-30 -0.190818  0.430146  0.378401  0.944764\n",
              "2021-10-01 -0.786489  0.635859 -0.762397  0.918231"
            ]
          },
          "metadata": {},
          "execution_count": 35
        }
      ]
    },
    {
      "cell_type": "markdown",
      "metadata": {
        "id": "E7-V96t9x5sB"
      },
      "source": [
        "#### Selecting data by label [중요!!]\n",
        "\n",
        "> **loc, iloc**\n"
      ]
    },
    {
      "cell_type": "code",
      "metadata": {
        "id": "TV4dnwU-x5sC",
        "colab": {
          "base_uri": "https://localhost:8080/",
          "height": 238
        },
        "outputId": "5d9e4e8c-d0a5-43b2-fbe9-2cca4e775a8f"
      },
      "source": [
        "df"
      ],
      "execution_count": 36,
      "outputs": [
        {
          "output_type": "execute_result",
          "data": {
            "text/html": [
              "<div>\n",
              "<style scoped>\n",
              "    .dataframe tbody tr th:only-of-type {\n",
              "        vertical-align: middle;\n",
              "    }\n",
              "\n",
              "    .dataframe tbody tr th {\n",
              "        vertical-align: top;\n",
              "    }\n",
              "\n",
              "    .dataframe thead th {\n",
              "        text-align: right;\n",
              "    }\n",
              "</style>\n",
              "<table border=\"1\" class=\"dataframe\">\n",
              "  <thead>\n",
              "    <tr style=\"text-align: right;\">\n",
              "      <th></th>\n",
              "      <th>A</th>\n",
              "      <th>B</th>\n",
              "      <th>C</th>\n",
              "      <th>D</th>\n",
              "    </tr>\n",
              "  </thead>\n",
              "  <tbody>\n",
              "    <tr>\n",
              "      <th>2021-09-27</th>\n",
              "      <td>0.077563</td>\n",
              "      <td>0.228965</td>\n",
              "      <td>-1.192753</td>\n",
              "      <td>-0.178104</td>\n",
              "    </tr>\n",
              "    <tr>\n",
              "      <th>2021-09-28</th>\n",
              "      <td>-0.875712</td>\n",
              "      <td>0.719016</td>\n",
              "      <td>0.341999</td>\n",
              "      <td>0.242796</td>\n",
              "    </tr>\n",
              "    <tr>\n",
              "      <th>2021-09-29</th>\n",
              "      <td>-0.485561</td>\n",
              "      <td>-0.033540</td>\n",
              "      <td>-0.395659</td>\n",
              "      <td>-0.025643</td>\n",
              "    </tr>\n",
              "    <tr>\n",
              "      <th>2021-09-30</th>\n",
              "      <td>-0.190818</td>\n",
              "      <td>0.430146</td>\n",
              "      <td>0.378401</td>\n",
              "      <td>0.944764</td>\n",
              "    </tr>\n",
              "    <tr>\n",
              "      <th>2021-10-01</th>\n",
              "      <td>-0.786489</td>\n",
              "      <td>0.635859</td>\n",
              "      <td>-0.762397</td>\n",
              "      <td>0.918231</td>\n",
              "    </tr>\n",
              "    <tr>\n",
              "      <th>2021-10-02</th>\n",
              "      <td>-0.088824</td>\n",
              "      <td>-0.834998</td>\n",
              "      <td>-1.125804</td>\n",
              "      <td>0.225870</td>\n",
              "    </tr>\n",
              "  </tbody>\n",
              "</table>\n",
              "</div>"
            ],
            "text/plain": [
              "                   A         B         C         D\n",
              "2021-09-27  0.077563  0.228965 -1.192753 -0.178104\n",
              "2021-09-28 -0.875712  0.719016  0.341999  0.242796\n",
              "2021-09-29 -0.485561 -0.033540 -0.395659 -0.025643\n",
              "2021-09-30 -0.190818  0.430146  0.378401  0.944764\n",
              "2021-10-01 -0.786489  0.635859 -0.762397  0.918231\n",
              "2021-10-02 -0.088824 -0.834998 -1.125804  0.225870"
            ]
          },
          "metadata": {},
          "execution_count": 36
        }
      ]
    },
    {
      "cell_type": "code",
      "metadata": {
        "id": "iPZE3U5cx5sG",
        "colab": {
          "base_uri": "https://localhost:8080/"
        },
        "outputId": "c74824c5-4fcd-4439-cce9-dac0f2e49fde"
      },
      "source": [
        "df.loc[dates[0]]   # loc()"
      ],
      "execution_count": 37,
      "outputs": [
        {
          "output_type": "execute_result",
          "data": {
            "text/plain": [
              "A    0.077563\n",
              "B    0.228965\n",
              "C   -1.192753\n",
              "D   -0.178104\n",
              "Name: 2021-09-27 00:00:00, dtype: float64"
            ]
          },
          "metadata": {},
          "execution_count": 37
        }
      ]
    },
    {
      "cell_type": "code",
      "metadata": {
        "id": "jteYZDQnx5sL",
        "colab": {
          "base_uri": "https://localhost:8080/",
          "height": 238
        },
        "outputId": "8a33c2ea-442d-4389-e4a2-c407270f790a"
      },
      "source": [
        "# Selecting on a multi-axis by label:\n",
        "df.loc[:,['A','B']]"
      ],
      "execution_count": 38,
      "outputs": [
        {
          "output_type": "execute_result",
          "data": {
            "text/html": [
              "<div>\n",
              "<style scoped>\n",
              "    .dataframe tbody tr th:only-of-type {\n",
              "        vertical-align: middle;\n",
              "    }\n",
              "\n",
              "    .dataframe tbody tr th {\n",
              "        vertical-align: top;\n",
              "    }\n",
              "\n",
              "    .dataframe thead th {\n",
              "        text-align: right;\n",
              "    }\n",
              "</style>\n",
              "<table border=\"1\" class=\"dataframe\">\n",
              "  <thead>\n",
              "    <tr style=\"text-align: right;\">\n",
              "      <th></th>\n",
              "      <th>A</th>\n",
              "      <th>B</th>\n",
              "    </tr>\n",
              "  </thead>\n",
              "  <tbody>\n",
              "    <tr>\n",
              "      <th>2021-09-27</th>\n",
              "      <td>0.077563</td>\n",
              "      <td>0.228965</td>\n",
              "    </tr>\n",
              "    <tr>\n",
              "      <th>2021-09-28</th>\n",
              "      <td>-0.875712</td>\n",
              "      <td>0.719016</td>\n",
              "    </tr>\n",
              "    <tr>\n",
              "      <th>2021-09-29</th>\n",
              "      <td>-0.485561</td>\n",
              "      <td>-0.033540</td>\n",
              "    </tr>\n",
              "    <tr>\n",
              "      <th>2021-09-30</th>\n",
              "      <td>-0.190818</td>\n",
              "      <td>0.430146</td>\n",
              "    </tr>\n",
              "    <tr>\n",
              "      <th>2021-10-01</th>\n",
              "      <td>-0.786489</td>\n",
              "      <td>0.635859</td>\n",
              "    </tr>\n",
              "    <tr>\n",
              "      <th>2021-10-02</th>\n",
              "      <td>-0.088824</td>\n",
              "      <td>-0.834998</td>\n",
              "    </tr>\n",
              "  </tbody>\n",
              "</table>\n",
              "</div>"
            ],
            "text/plain": [
              "                   A         B\n",
              "2021-09-27  0.077563  0.228965\n",
              "2021-09-28 -0.875712  0.719016\n",
              "2021-09-29 -0.485561 -0.033540\n",
              "2021-09-30 -0.190818  0.430146\n",
              "2021-10-01 -0.786489  0.635859\n",
              "2021-10-02 -0.088824 -0.834998"
            ]
          },
          "metadata": {},
          "execution_count": 38
        }
      ]
    },
    {
      "cell_type": "markdown",
      "metadata": {
        "id": "QqYJvRLnx5sP"
      },
      "source": [
        "#### [DIY: 도전코딩]\n",
        "\n",
        "> Select data for first two days AND colmumn 3,4 from df."
      ]
    },
    {
      "cell_type": "code",
      "metadata": {
        "id": "jSUlF4icx5sQ",
        "colab": {
          "base_uri": "https://localhost:8080/",
          "height": 112
        },
        "outputId": "bea2b569-5ee6-424c-b5e4-600ef99452b8"
      },
      "source": [
        "# df.loc[0:2,['C','D']]\n",
        "# df.loc['20210927':'20210928',['C','D']]\n",
        "df.loc[dates[:2],['C','D']]           #-> 필기시험"
      ],
      "execution_count": 47,
      "outputs": [
        {
          "output_type": "execute_result",
          "data": {
            "text/html": [
              "<div>\n",
              "<style scoped>\n",
              "    .dataframe tbody tr th:only-of-type {\n",
              "        vertical-align: middle;\n",
              "    }\n",
              "\n",
              "    .dataframe tbody tr th {\n",
              "        vertical-align: top;\n",
              "    }\n",
              "\n",
              "    .dataframe thead th {\n",
              "        text-align: right;\n",
              "    }\n",
              "</style>\n",
              "<table border=\"1\" class=\"dataframe\">\n",
              "  <thead>\n",
              "    <tr style=\"text-align: right;\">\n",
              "      <th></th>\n",
              "      <th>C</th>\n",
              "      <th>D</th>\n",
              "    </tr>\n",
              "  </thead>\n",
              "  <tbody>\n",
              "    <tr>\n",
              "      <th>2021-09-27</th>\n",
              "      <td>-1.192753</td>\n",
              "      <td>-0.178104</td>\n",
              "    </tr>\n",
              "    <tr>\n",
              "      <th>2021-09-28</th>\n",
              "      <td>0.341999</td>\n",
              "      <td>0.242796</td>\n",
              "    </tr>\n",
              "  </tbody>\n",
              "</table>\n",
              "</div>"
            ],
            "text/plain": [
              "                   C         D\n",
              "2021-09-27 -1.192753 -0.178104\n",
              "2021-09-28  0.341999  0.242796"
            ]
          },
          "metadata": {},
          "execution_count": 47
        }
      ]
    },
    {
      "cell_type": "markdown",
      "metadata": {
        "id": "-BGWuIwpx5sV"
      },
      "source": [
        "#### Selecting data by position (iloc())\n",
        "- index 사용"
      ]
    },
    {
      "cell_type": "code",
      "metadata": {
        "id": "gYtgID9rx5sW",
        "colab": {
          "base_uri": "https://localhost:8080/",
          "height": 238
        },
        "outputId": "788ae598-aeb3-43c5-9825-e4411755d884"
      },
      "source": [
        "df"
      ],
      "execution_count": 46,
      "outputs": [
        {
          "output_type": "execute_result",
          "data": {
            "text/html": [
              "<div>\n",
              "<style scoped>\n",
              "    .dataframe tbody tr th:only-of-type {\n",
              "        vertical-align: middle;\n",
              "    }\n",
              "\n",
              "    .dataframe tbody tr th {\n",
              "        vertical-align: top;\n",
              "    }\n",
              "\n",
              "    .dataframe thead th {\n",
              "        text-align: right;\n",
              "    }\n",
              "</style>\n",
              "<table border=\"1\" class=\"dataframe\">\n",
              "  <thead>\n",
              "    <tr style=\"text-align: right;\">\n",
              "      <th></th>\n",
              "      <th>A</th>\n",
              "      <th>B</th>\n",
              "      <th>C</th>\n",
              "      <th>D</th>\n",
              "    </tr>\n",
              "  </thead>\n",
              "  <tbody>\n",
              "    <tr>\n",
              "      <th>2021-09-27</th>\n",
              "      <td>0.077563</td>\n",
              "      <td>0.228965</td>\n",
              "      <td>-1.192753</td>\n",
              "      <td>-0.178104</td>\n",
              "    </tr>\n",
              "    <tr>\n",
              "      <th>2021-09-28</th>\n",
              "      <td>-0.875712</td>\n",
              "      <td>0.719016</td>\n",
              "      <td>0.341999</td>\n",
              "      <td>0.242796</td>\n",
              "    </tr>\n",
              "    <tr>\n",
              "      <th>2021-09-29</th>\n",
              "      <td>-0.485561</td>\n",
              "      <td>-0.033540</td>\n",
              "      <td>-0.395659</td>\n",
              "      <td>-0.025643</td>\n",
              "    </tr>\n",
              "    <tr>\n",
              "      <th>2021-09-30</th>\n",
              "      <td>-0.190818</td>\n",
              "      <td>0.430146</td>\n",
              "      <td>0.378401</td>\n",
              "      <td>0.944764</td>\n",
              "    </tr>\n",
              "    <tr>\n",
              "      <th>2021-10-01</th>\n",
              "      <td>-0.786489</td>\n",
              "      <td>0.635859</td>\n",
              "      <td>-0.762397</td>\n",
              "      <td>0.918231</td>\n",
              "    </tr>\n",
              "    <tr>\n",
              "      <th>2021-10-02</th>\n",
              "      <td>-0.088824</td>\n",
              "      <td>-0.834998</td>\n",
              "      <td>-1.125804</td>\n",
              "      <td>0.225870</td>\n",
              "    </tr>\n",
              "  </tbody>\n",
              "</table>\n",
              "</div>"
            ],
            "text/plain": [
              "                   A         B         C         D\n",
              "2021-09-27  0.077563  0.228965 -1.192753 -0.178104\n",
              "2021-09-28 -0.875712  0.719016  0.341999  0.242796\n",
              "2021-09-29 -0.485561 -0.033540 -0.395659 -0.025643\n",
              "2021-09-30 -0.190818  0.430146  0.378401  0.944764\n",
              "2021-10-01 -0.786489  0.635859 -0.762397  0.918231\n",
              "2021-10-02 -0.088824 -0.834998 -1.125804  0.225870"
            ]
          },
          "metadata": {},
          "execution_count": 46
        }
      ]
    },
    {
      "cell_type": "code",
      "metadata": {
        "id": "PNgZ3u8-x5sa",
        "colab": {
          "base_uri": "https://localhost:8080/"
        },
        "outputId": "e3a1ffec-594e-4936-bfde-7d6dd74eb4a9"
      },
      "source": [
        "df.iloc[3]  # 결과는 차원축소형으로 표현됨."
      ],
      "execution_count": 48,
      "outputs": [
        {
          "output_type": "execute_result",
          "data": {
            "text/plain": [
              "A   -0.190818\n",
              "B    0.430146\n",
              "C    0.378401\n",
              "D    0.944764\n",
              "Name: 2021-09-30 00:00:00, dtype: float64"
            ]
          },
          "metadata": {},
          "execution_count": 48
        }
      ]
    },
    {
      "cell_type": "code",
      "metadata": {
        "id": "12eWuxQ_x5sh",
        "colab": {
          "base_uri": "https://localhost:8080/",
          "height": 112
        },
        "outputId": "917e8aaf-f3bb-49d4-e9ae-e910ecb8b312"
      },
      "source": [
        "# [다시 도전]\n",
        "# Select data for first two days AND comumn 3,4 from df.\n",
        "# Use iloc\n",
        "df.iloc[:2,2:4]"
      ],
      "execution_count": 50,
      "outputs": [
        {
          "output_type": "execute_result",
          "data": {
            "text/html": [
              "<div>\n",
              "<style scoped>\n",
              "    .dataframe tbody tr th:only-of-type {\n",
              "        vertical-align: middle;\n",
              "    }\n",
              "\n",
              "    .dataframe tbody tr th {\n",
              "        vertical-align: top;\n",
              "    }\n",
              "\n",
              "    .dataframe thead th {\n",
              "        text-align: right;\n",
              "    }\n",
              "</style>\n",
              "<table border=\"1\" class=\"dataframe\">\n",
              "  <thead>\n",
              "    <tr style=\"text-align: right;\">\n",
              "      <th></th>\n",
              "      <th>C</th>\n",
              "      <th>D</th>\n",
              "    </tr>\n",
              "  </thead>\n",
              "  <tbody>\n",
              "    <tr>\n",
              "      <th>2021-09-27</th>\n",
              "      <td>-1.192753</td>\n",
              "      <td>-0.178104</td>\n",
              "    </tr>\n",
              "    <tr>\n",
              "      <th>2021-09-28</th>\n",
              "      <td>0.341999</td>\n",
              "      <td>0.242796</td>\n",
              "    </tr>\n",
              "  </tbody>\n",
              "</table>\n",
              "</div>"
            ],
            "text/plain": [
              "                   C         D\n",
              "2021-09-27 -1.192753 -0.178104\n",
              "2021-09-28  0.341999  0.242796"
            ]
          },
          "metadata": {},
          "execution_count": 50
        }
      ]
    },
    {
      "cell_type": "code",
      "metadata": {
        "id": "_S-omW3hx5sn",
        "colab": {
          "base_uri": "https://localhost:8080/"
        },
        "outputId": "5e369c65-6af1-4d7a-9413-1644e3598fdb"
      },
      "source": [
        "# Select one item\n",
        "df.iloc[1,1]"
      ],
      "execution_count": 51,
      "outputs": [
        {
          "output_type": "execute_result",
          "data": {
            "text/plain": [
              "0.7190162422958153"
            ]
          },
          "metadata": {},
          "execution_count": 51
        }
      ]
    },
    {
      "cell_type": "code",
      "metadata": {
        "id": "fjAsIAidfVUQ",
        "colab": {
          "base_uri": "https://localhost:8080/",
          "height": 143
        },
        "outputId": "e878586d-1c88-492e-b5a7-95a5aa99288a"
      },
      "source": [
        "# [DIY: 다시 도전]\n",
        "# Select data for first three days from df\n",
        "# Your code\n",
        "df.iloc[:3,:]"
      ],
      "execution_count": 54,
      "outputs": [
        {
          "output_type": "execute_result",
          "data": {
            "text/html": [
              "<div>\n",
              "<style scoped>\n",
              "    .dataframe tbody tr th:only-of-type {\n",
              "        vertical-align: middle;\n",
              "    }\n",
              "\n",
              "    .dataframe tbody tr th {\n",
              "        vertical-align: top;\n",
              "    }\n",
              "\n",
              "    .dataframe thead th {\n",
              "        text-align: right;\n",
              "    }\n",
              "</style>\n",
              "<table border=\"1\" class=\"dataframe\">\n",
              "  <thead>\n",
              "    <tr style=\"text-align: right;\">\n",
              "      <th></th>\n",
              "      <th>A</th>\n",
              "      <th>B</th>\n",
              "      <th>C</th>\n",
              "      <th>D</th>\n",
              "    </tr>\n",
              "  </thead>\n",
              "  <tbody>\n",
              "    <tr>\n",
              "      <th>2021-09-27</th>\n",
              "      <td>0.077563</td>\n",
              "      <td>0.228965</td>\n",
              "      <td>-1.192753</td>\n",
              "      <td>-0.178104</td>\n",
              "    </tr>\n",
              "    <tr>\n",
              "      <th>2021-09-28</th>\n",
              "      <td>-0.875712</td>\n",
              "      <td>0.719016</td>\n",
              "      <td>0.341999</td>\n",
              "      <td>0.242796</td>\n",
              "    </tr>\n",
              "    <tr>\n",
              "      <th>2021-09-29</th>\n",
              "      <td>-0.485561</td>\n",
              "      <td>-0.033540</td>\n",
              "      <td>-0.395659</td>\n",
              "      <td>-0.025643</td>\n",
              "    </tr>\n",
              "  </tbody>\n",
              "</table>\n",
              "</div>"
            ],
            "text/plain": [
              "                   A         B         C         D\n",
              "2021-09-27  0.077563  0.228965 -1.192753 -0.178104\n",
              "2021-09-28 -0.875712  0.719016  0.341999  0.242796\n",
              "2021-09-29 -0.485561 -0.033540 -0.395659 -0.025643"
            ]
          },
          "metadata": {},
          "execution_count": 54
        }
      ]
    },
    {
      "cell_type": "markdown",
      "metadata": {
        "id": "fDoWVVGHx5su"
      },
      "source": [
        "#### Selecting data by Boolean indexing"
      ]
    },
    {
      "cell_type": "code",
      "metadata": {
        "id": "CG7LipUrx5sv",
        "colab": {
          "base_uri": "https://localhost:8080/",
          "height": 238
        },
        "outputId": "1343fe56-c568-4896-e849-2c8929421c17"
      },
      "source": [
        "df"
      ],
      "execution_count": 55,
      "outputs": [
        {
          "output_type": "execute_result",
          "data": {
            "text/html": [
              "<div>\n",
              "<style scoped>\n",
              "    .dataframe tbody tr th:only-of-type {\n",
              "        vertical-align: middle;\n",
              "    }\n",
              "\n",
              "    .dataframe tbody tr th {\n",
              "        vertical-align: top;\n",
              "    }\n",
              "\n",
              "    .dataframe thead th {\n",
              "        text-align: right;\n",
              "    }\n",
              "</style>\n",
              "<table border=\"1\" class=\"dataframe\">\n",
              "  <thead>\n",
              "    <tr style=\"text-align: right;\">\n",
              "      <th></th>\n",
              "      <th>A</th>\n",
              "      <th>B</th>\n",
              "      <th>C</th>\n",
              "      <th>D</th>\n",
              "    </tr>\n",
              "  </thead>\n",
              "  <tbody>\n",
              "    <tr>\n",
              "      <th>2021-09-27</th>\n",
              "      <td>0.077563</td>\n",
              "      <td>0.228965</td>\n",
              "      <td>-1.192753</td>\n",
              "      <td>-0.178104</td>\n",
              "    </tr>\n",
              "    <tr>\n",
              "      <th>2021-09-28</th>\n",
              "      <td>-0.875712</td>\n",
              "      <td>0.719016</td>\n",
              "      <td>0.341999</td>\n",
              "      <td>0.242796</td>\n",
              "    </tr>\n",
              "    <tr>\n",
              "      <th>2021-09-29</th>\n",
              "      <td>-0.485561</td>\n",
              "      <td>-0.033540</td>\n",
              "      <td>-0.395659</td>\n",
              "      <td>-0.025643</td>\n",
              "    </tr>\n",
              "    <tr>\n",
              "      <th>2021-09-30</th>\n",
              "      <td>-0.190818</td>\n",
              "      <td>0.430146</td>\n",
              "      <td>0.378401</td>\n",
              "      <td>0.944764</td>\n",
              "    </tr>\n",
              "    <tr>\n",
              "      <th>2021-10-01</th>\n",
              "      <td>-0.786489</td>\n",
              "      <td>0.635859</td>\n",
              "      <td>-0.762397</td>\n",
              "      <td>0.918231</td>\n",
              "    </tr>\n",
              "    <tr>\n",
              "      <th>2021-10-02</th>\n",
              "      <td>-0.088824</td>\n",
              "      <td>-0.834998</td>\n",
              "      <td>-1.125804</td>\n",
              "      <td>0.225870</td>\n",
              "    </tr>\n",
              "  </tbody>\n",
              "</table>\n",
              "</div>"
            ],
            "text/plain": [
              "                   A         B         C         D\n",
              "2021-09-27  0.077563  0.228965 -1.192753 -0.178104\n",
              "2021-09-28 -0.875712  0.719016  0.341999  0.242796\n",
              "2021-09-29 -0.485561 -0.033540 -0.395659 -0.025643\n",
              "2021-09-30 -0.190818  0.430146  0.378401  0.944764\n",
              "2021-10-01 -0.786489  0.635859 -0.762397  0.918231\n",
              "2021-10-02 -0.088824 -0.834998 -1.125804  0.225870"
            ]
          },
          "metadata": {},
          "execution_count": 55
        }
      ]
    },
    {
      "cell_type": "code",
      "metadata": {
        "colab": {
          "base_uri": "https://localhost:8080/"
        },
        "id": "yX7Ib8SC7Uwl",
        "outputId": "66dfba5a-f322-485a-f013-3ae2e22a7669"
      },
      "source": [
        "df.A"
      ],
      "execution_count": 58,
      "outputs": [
        {
          "output_type": "execute_result",
          "data": {
            "text/plain": [
              "2021-09-27    0.077563\n",
              "2021-09-28   -0.875712\n",
              "2021-09-29   -0.485561\n",
              "2021-09-30   -0.190818\n",
              "2021-10-01   -0.786489\n",
              "2021-10-02   -0.088824\n",
              "Freq: D, Name: A, dtype: float64"
            ]
          },
          "metadata": {},
          "execution_count": 58
        }
      ]
    },
    {
      "cell_type": "code",
      "metadata": {
        "colab": {
          "base_uri": "https://localhost:8080/",
          "height": 238
        },
        "id": "SKK2MfjF7pHN",
        "outputId": "41a8b7d5-ec93-4ad4-84c2-df7a564dc1f7"
      },
      "source": [
        "df > 0"
      ],
      "execution_count": 60,
      "outputs": [
        {
          "output_type": "execute_result",
          "data": {
            "text/html": [
              "<div>\n",
              "<style scoped>\n",
              "    .dataframe tbody tr th:only-of-type {\n",
              "        vertical-align: middle;\n",
              "    }\n",
              "\n",
              "    .dataframe tbody tr th {\n",
              "        vertical-align: top;\n",
              "    }\n",
              "\n",
              "    .dataframe thead th {\n",
              "        text-align: right;\n",
              "    }\n",
              "</style>\n",
              "<table border=\"1\" class=\"dataframe\">\n",
              "  <thead>\n",
              "    <tr style=\"text-align: right;\">\n",
              "      <th></th>\n",
              "      <th>A</th>\n",
              "      <th>B</th>\n",
              "      <th>C</th>\n",
              "      <th>D</th>\n",
              "    </tr>\n",
              "  </thead>\n",
              "  <tbody>\n",
              "    <tr>\n",
              "      <th>2021-09-27</th>\n",
              "      <td>True</td>\n",
              "      <td>True</td>\n",
              "      <td>False</td>\n",
              "      <td>False</td>\n",
              "    </tr>\n",
              "    <tr>\n",
              "      <th>2021-09-28</th>\n",
              "      <td>False</td>\n",
              "      <td>True</td>\n",
              "      <td>True</td>\n",
              "      <td>True</td>\n",
              "    </tr>\n",
              "    <tr>\n",
              "      <th>2021-09-29</th>\n",
              "      <td>False</td>\n",
              "      <td>False</td>\n",
              "      <td>False</td>\n",
              "      <td>False</td>\n",
              "    </tr>\n",
              "    <tr>\n",
              "      <th>2021-09-30</th>\n",
              "      <td>False</td>\n",
              "      <td>True</td>\n",
              "      <td>True</td>\n",
              "      <td>True</td>\n",
              "    </tr>\n",
              "    <tr>\n",
              "      <th>2021-10-01</th>\n",
              "      <td>False</td>\n",
              "      <td>True</td>\n",
              "      <td>False</td>\n",
              "      <td>True</td>\n",
              "    </tr>\n",
              "    <tr>\n",
              "      <th>2021-10-02</th>\n",
              "      <td>False</td>\n",
              "      <td>False</td>\n",
              "      <td>False</td>\n",
              "      <td>True</td>\n",
              "    </tr>\n",
              "  </tbody>\n",
              "</table>\n",
              "</div>"
            ],
            "text/plain": [
              "                A      B      C      D\n",
              "2021-09-27   True   True  False  False\n",
              "2021-09-28  False   True   True   True\n",
              "2021-09-29  False  False  False  False\n",
              "2021-09-30  False   True   True   True\n",
              "2021-10-01  False   True  False   True\n",
              "2021-10-02  False  False  False   True"
            ]
          },
          "metadata": {},
          "execution_count": 60
        }
      ]
    },
    {
      "cell_type": "code",
      "metadata": {
        "id": "U5If1VEYx5sy",
        "colab": {
          "base_uri": "https://localhost:8080/",
          "height": 81
        },
        "outputId": "f34681ed-8c3f-48b3-dc4d-2eecd60f742f"
      },
      "source": [
        "df[df.A > 0]"
      ],
      "execution_count": 61,
      "outputs": [
        {
          "output_type": "execute_result",
          "data": {
            "text/html": [
              "<div>\n",
              "<style scoped>\n",
              "    .dataframe tbody tr th:only-of-type {\n",
              "        vertical-align: middle;\n",
              "    }\n",
              "\n",
              "    .dataframe tbody tr th {\n",
              "        vertical-align: top;\n",
              "    }\n",
              "\n",
              "    .dataframe thead th {\n",
              "        text-align: right;\n",
              "    }\n",
              "</style>\n",
              "<table border=\"1\" class=\"dataframe\">\n",
              "  <thead>\n",
              "    <tr style=\"text-align: right;\">\n",
              "      <th></th>\n",
              "      <th>A</th>\n",
              "      <th>B</th>\n",
              "      <th>C</th>\n",
              "      <th>D</th>\n",
              "    </tr>\n",
              "  </thead>\n",
              "  <tbody>\n",
              "    <tr>\n",
              "      <th>2021-09-27</th>\n",
              "      <td>0.077563</td>\n",
              "      <td>0.228965</td>\n",
              "      <td>-1.192753</td>\n",
              "      <td>-0.178104</td>\n",
              "    </tr>\n",
              "  </tbody>\n",
              "</table>\n",
              "</div>"
            ],
            "text/plain": [
              "                   A         B         C         D\n",
              "2021-09-27  0.077563  0.228965 -1.192753 -0.178104"
            ]
          },
          "metadata": {},
          "execution_count": 61
        }
      ]
    },
    {
      "cell_type": "code",
      "metadata": {
        "id": "8WkB7Q5rx5s1",
        "colab": {
          "base_uri": "https://localhost:8080/",
          "height": 238
        },
        "outputId": "10302cec-19e7-444f-c329-a79c3626ddbd"
      },
      "source": [
        "df[df > 0]"
      ],
      "execution_count": 57,
      "outputs": [
        {
          "output_type": "execute_result",
          "data": {
            "text/html": [
              "<div>\n",
              "<style scoped>\n",
              "    .dataframe tbody tr th:only-of-type {\n",
              "        vertical-align: middle;\n",
              "    }\n",
              "\n",
              "    .dataframe tbody tr th {\n",
              "        vertical-align: top;\n",
              "    }\n",
              "\n",
              "    .dataframe thead th {\n",
              "        text-align: right;\n",
              "    }\n",
              "</style>\n",
              "<table border=\"1\" class=\"dataframe\">\n",
              "  <thead>\n",
              "    <tr style=\"text-align: right;\">\n",
              "      <th></th>\n",
              "      <th>A</th>\n",
              "      <th>B</th>\n",
              "      <th>C</th>\n",
              "      <th>D</th>\n",
              "    </tr>\n",
              "  </thead>\n",
              "  <tbody>\n",
              "    <tr>\n",
              "      <th>2021-09-27</th>\n",
              "      <td>0.077563</td>\n",
              "      <td>0.228965</td>\n",
              "      <td>NaN</td>\n",
              "      <td>NaN</td>\n",
              "    </tr>\n",
              "    <tr>\n",
              "      <th>2021-09-28</th>\n",
              "      <td>NaN</td>\n",
              "      <td>0.719016</td>\n",
              "      <td>0.341999</td>\n",
              "      <td>0.242796</td>\n",
              "    </tr>\n",
              "    <tr>\n",
              "      <th>2021-09-29</th>\n",
              "      <td>NaN</td>\n",
              "      <td>NaN</td>\n",
              "      <td>NaN</td>\n",
              "      <td>NaN</td>\n",
              "    </tr>\n",
              "    <tr>\n",
              "      <th>2021-09-30</th>\n",
              "      <td>NaN</td>\n",
              "      <td>0.430146</td>\n",
              "      <td>0.378401</td>\n",
              "      <td>0.944764</td>\n",
              "    </tr>\n",
              "    <tr>\n",
              "      <th>2021-10-01</th>\n",
              "      <td>NaN</td>\n",
              "      <td>0.635859</td>\n",
              "      <td>NaN</td>\n",
              "      <td>0.918231</td>\n",
              "    </tr>\n",
              "    <tr>\n",
              "      <th>2021-10-02</th>\n",
              "      <td>NaN</td>\n",
              "      <td>NaN</td>\n",
              "      <td>NaN</td>\n",
              "      <td>0.225870</td>\n",
              "    </tr>\n",
              "  </tbody>\n",
              "</table>\n",
              "</div>"
            ],
            "text/plain": [
              "                   A         B         C         D\n",
              "2021-09-27  0.077563  0.228965       NaN       NaN\n",
              "2021-09-28       NaN  0.719016  0.341999  0.242796\n",
              "2021-09-29       NaN       NaN       NaN       NaN\n",
              "2021-09-30       NaN  0.430146  0.378401  0.944764\n",
              "2021-10-01       NaN  0.635859       NaN  0.918231\n",
              "2021-10-02       NaN       NaN       NaN  0.225870"
            ]
          },
          "metadata": {},
          "execution_count": 57
        }
      ]
    }
  ]
}